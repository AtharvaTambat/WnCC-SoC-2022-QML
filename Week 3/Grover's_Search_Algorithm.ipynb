{
  "nbformat": 4,
  "nbformat_minor": 0,
  "metadata": {
    "colab": {
      "name": "Grover's Search Algorithm.ipynb",
      "provenance": [],
      "collapsed_sections": [],
      "authorship_tag": "ABX9TyN+WkB0uCpCCLDqXL+Py/1v",
      "include_colab_link": true
    },
    "kernelspec": {
      "name": "python3",
      "display_name": "Python 3"
    },
    "language_info": {
      "name": "python"
    }
  },
  "cells": [
    {
      "cell_type": "markdown",
      "metadata": {
        "id": "view-in-github",
        "colab_type": "text"
      },
      "source": [
        "<a href=\"https://colab.research.google.com/github/AtharvaTambat/WnCC-SoC-2022-QML/blob/main/Grover's_Search_Algorithm.ipynb\" target=\"_parent\"><img src=\"https://colab.research.google.com/assets/colab-badge.svg\" alt=\"Open In Colab\"/></a>"
      ]
    },
    {
      "cell_type": "markdown",
      "source": [
        "# **Grover's Search Algorithm**"
      ],
      "metadata": {
        "id": "pNAXtkHbQGAR"
      }
    },
    {
      "cell_type": "markdown",
      "source": [
        "## **1. Importing the Necessary Libraries**"
      ],
      "metadata": {
        "id": "F8I9_IHbZztN"
      }
    },
    {
      "cell_type": "code",
      "execution_count": 107,
      "metadata": {
        "id": "941HDItBq4YA"
      },
      "outputs": [],
      "source": [
        "import math\n",
        "import numpy as np\n",
        "from qiskit import QuantumCircuit, transpile\n",
        "from qiskit.providers.aer import AerSimulator\n",
        "from qiskit.visualization import plot_histogram\n",
        "from qiskit import BasicAer\n",
        "\n",
        "# Use Aer's qasm_simulator\n",
        "simulator = AerSimulator()"
      ]
    },
    {
      "cell_type": "markdown",
      "source": [
        "## **2. Defining the Oracle and Diffuser Block**\n",
        "The following is the code for defining the Oracle and the Diffuser Block for Grover's Search - based on input (no. of bits and the binary value of x for which f(x) = 1) "
      ],
      "metadata": {
        "id": "JEO-W0i9Z5Cu"
      }
    },
    {
      "cell_type": "code",
      "source": [
        "# Users can adjust the following parameters\n",
        "t = 4 # No. of bits in the domain of the binary function f(x), { = 1 for only one x_0}\n",
        "x_0 = 1101 # Any 4 bit number for which the value of f(x) = 1, for rest of the bit combinations, f(x) = 0 (NOTE: Ignore the less significant 0's after the least significant 1)\n",
        "# NOTE: x_0's value is unknown to the one using the search\n",
        "\n",
        "# Defining the Oracle and Diffuser gates\n",
        "def oracle(x_0):\n",
        "\n",
        "  U = QuantumCircuit(t+1)\n",
        "  # Implementing the Oracle for a particular x_0 \n",
        "  num = x_0\n",
        "  i = 0\n",
        "  # Adds a X gate in front of those qubits, where corresponding bit in x_0 = 0\n",
        "  while(num>0):\n",
        "    digit = num%10\n",
        "    num = int(num/10)\n",
        "\n",
        "    if (digit == 0):\n",
        "      U.x(i)\n",
        "    i = i +1\n",
        "\n",
        "  while(i<4):\n",
        "    U.x(i)\n",
        "    i = i +1\n",
        "    \n",
        "  # Adds a multiple input toffoli gate to control the (t+1)th qubit\n",
        "  U.mct(list(range(t)),t)\n",
        "\n",
        "  # Adds a X gate in front of those qubits, where corresponding bit in x_0 = 0\n",
        "  num = x_0\n",
        "  i = 0\n",
        "  while(num>0):\n",
        "    digit = num%10\n",
        "    num = int(num/10)\n",
        "\n",
        "    if (digit == 0):\n",
        "      U.x(i)\n",
        "    i = i +1\n",
        "\n",
        "  while(i<4):\n",
        "    U.x(i)\n",
        "    i = i +1\n",
        "  \n",
        "  U = U.to_gate()\n",
        "  U.name = \"Oracle\"\n",
        "  return U\n",
        "\n",
        "def diffuser():\n",
        "  U = QuantumCircuit(t+2)\n",
        "  # Implementing the Diffuser \n",
        "  for i in range(t):\n",
        "    U.h(i)\n",
        "\n",
        "  num = 0\n",
        "  i = 0\n",
        "\n",
        "  # Adds a X gate in front of those qubits, where corresponding bit in x_0 = 0\n",
        "  while(num>0):\n",
        "    digit = num%10\n",
        "    num = int(num/10)\n",
        "\n",
        "    if (digit == 0):\n",
        "      U.x(i)\n",
        "    i = i +1\n",
        "\n",
        "  while(i<4):\n",
        "    U.x(i)\n",
        "    i = i +1\n",
        "    \n",
        "  # Adds a multiple input toffoli gate to control the (t+1)th qubit\n",
        "  U.mct(list(range(t)),t+1)\n",
        "\n",
        "  # Adds a X gate in front of those qubits, where corresponding bit in x_0 = 0\n",
        "  num = 0\n",
        "  i = 0\n",
        "  while(num>0):\n",
        "    digit = num%10\n",
        "    num = int(num/10)\n",
        "\n",
        "    if (digit == 0):\n",
        "      U.x(i)\n",
        "    i = i +1\n",
        "\n",
        "  while(i<4):\n",
        "    U.x(i)\n",
        "    i = i +1\n",
        "\n",
        "  for i in range(t):\n",
        "    U.h(i)\n",
        "\n",
        "  U.x(t+1)\n",
        "  U = U.to_gate()\n",
        "  U.name = \"Diffuser\"\n",
        "  return U\n",
        "\n"
      ],
      "metadata": {
        "id": "MCaLOANTh43k"
      },
      "execution_count": 108,
      "outputs": []
    },
    {
      "cell_type": "markdown",
      "source": [
        "## **3. The Circuit**"
      ],
      "metadata": {
        "id": "Td16o15TaXmd"
      }
    },
    {
      "cell_type": "code",
      "source": [
        "qc = QuantumCircuit(t+2,t)\n",
        "qc.x(t)\n",
        "qc.x(t+1)\n",
        "\n",
        "for i in range(t+2):\n",
        "  qc.h(i)\n",
        "\n",
        "for i in range(math.ceil(math.pi/4*math.sqrt((2**t)))):\n",
        "  qc.barrier()  \n",
        "  qc.append(oracle(x_0),range(t+1))\n",
        "  qc.barrier()\n",
        "  qc.append(diffuser(),range(t+2))\n",
        "  qc.barrier()\n",
        "\n",
        "qc.measure(range(t),range(t))\n",
        "qc.draw(fold = -1)"
      ],
      "metadata": {
        "colab": {
          "base_uri": "https://localhost:8080/",
          "height": 268
        },
        "id": "d1l9OvoRWRku",
        "outputId": "0089cdff-6e2e-44f8-9004-8f3c5ee7c4f8"
      },
      "execution_count": 109,
      "outputs": [
        {
          "output_type": "execute_result",
          "data": {
            "text/plain": [
              "     ┌───┐      ░ ┌─────────┐ ░ ┌───────────┐ ░  ░ ┌─────────┐ ░ ┌───────────┐ ░  ░ ┌─────────┐ ░ ┌───────────┐ ░  ░ ┌─────────┐ ░ ┌───────────┐ ░ ┌─┐         \n",
              "q_0: ┤ H ├──────░─┤0        ├─░─┤0          ├─░──░─┤0        ├─░─┤0          ├─░──░─┤0        ├─░─┤0          ├─░──░─┤0        ├─░─┤0          ├─░─┤M├─────────\n",
              "     ├───┤      ░ │         │ ░ │           │ ░  ░ │         │ ░ │           │ ░  ░ │         │ ░ │           │ ░  ░ │         │ ░ │           │ ░ └╥┘┌─┐      \n",
              "q_1: ┤ H ├──────░─┤1        ├─░─┤1          ├─░──░─┤1        ├─░─┤1          ├─░──░─┤1        ├─░─┤1          ├─░──░─┤1        ├─░─┤1          ├─░──╫─┤M├──────\n",
              "     ├───┤      ░ │         │ ░ │           │ ░  ░ │         │ ░ │           │ ░  ░ │         │ ░ │           │ ░  ░ │         │ ░ │           │ ░  ║ └╥┘┌─┐   \n",
              "q_2: ┤ H ├──────░─┤2 Oracle ├─░─┤2          ├─░──░─┤2 Oracle ├─░─┤2          ├─░──░─┤2 Oracle ├─░─┤2          ├─░──░─┤2 Oracle ├─░─┤2          ├─░──╫──╫─┤M├───\n",
              "     ├───┤      ░ │         │ ░ │  Diffuser │ ░  ░ │         │ ░ │  Diffuser │ ░  ░ │         │ ░ │  Diffuser │ ░  ░ │         │ ░ │  Diffuser │ ░  ║  ║ └╥┘┌─┐\n",
              "q_3: ┤ H ├──────░─┤3        ├─░─┤3          ├─░──░─┤3        ├─░─┤3          ├─░──░─┤3        ├─░─┤3          ├─░──░─┤3        ├─░─┤3          ├─░──╫──╫──╫─┤M├\n",
              "     ├───┤┌───┐ ░ │         │ ░ │           │ ░  ░ │         │ ░ │           │ ░  ░ │         │ ░ │           │ ░  ░ │         │ ░ │           │ ░  ║  ║  ║ └╥┘\n",
              "q_4: ┤ X ├┤ H ├─░─┤4        ├─░─┤4          ├─░──░─┤4        ├─░─┤4          ├─░──░─┤4        ├─░─┤4          ├─░──░─┤4        ├─░─┤4          ├─░──╫──╫──╫──╫─\n",
              "     ├───┤├───┤ ░ └─────────┘ ░ │           │ ░  ░ └─────────┘ ░ │           │ ░  ░ └─────────┘ ░ │           │ ░  ░ └─────────┘ ░ │           │ ░  ║  ║  ║  ║ \n",
              "q_5: ┤ X ├┤ H ├─░─────────────░─┤5          ├─░──░─────────────░─┤5          ├─░──░─────────────░─┤5          ├─░──░─────────────░─┤5          ├─░──╫──╫──╫──╫─\n",
              "     └───┘└───┘ ░             ░ └───────────┘ ░  ░             ░ └───────────┘ ░  ░             ░ └───────────┘ ░  ░             ░ └───────────┘ ░  ║  ║  ║  ║ \n",
              "c: 4/═══════════════════════════════════════════════════════════════════════════════════════════════════════════════════════════════════════════════╩══╩══╩══╩═\n",
              "                                                                                                                                                    0  1  2  3 "
            ],
            "text/html": [
              "<pre style=\"word-wrap: normal;white-space: pre;background: #fff0;line-height: 1.1;font-family: &quot;Courier New&quot;,Courier,monospace\">     ┌───┐      ░ ┌─────────┐ ░ ┌───────────┐ ░  ░ ┌─────────┐ ░ ┌───────────┐ ░  ░ ┌─────────┐ ░ ┌───────────┐ ░  ░ ┌─────────┐ ░ ┌───────────┐ ░ ┌─┐         \n",
              "q_0: ┤ H ├──────░─┤0        ├─░─┤0          ├─░──░─┤0        ├─░─┤0          ├─░──░─┤0        ├─░─┤0          ├─░──░─┤0        ├─░─┤0          ├─░─┤M├─────────\n",
              "     ├───┤      ░ │         │ ░ │           │ ░  ░ │         │ ░ │           │ ░  ░ │         │ ░ │           │ ░  ░ │         │ ░ │           │ ░ └╥┘┌─┐      \n",
              "q_1: ┤ H ├──────░─┤1        ├─░─┤1          ├─░──░─┤1        ├─░─┤1          ├─░──░─┤1        ├─░─┤1          ├─░──░─┤1        ├─░─┤1          ├─░──╫─┤M├──────\n",
              "     ├───┤      ░ │         │ ░ │           │ ░  ░ │         │ ░ │           │ ░  ░ │         │ ░ │           │ ░  ░ │         │ ░ │           │ ░  ║ └╥┘┌─┐   \n",
              "q_2: ┤ H ├──────░─┤2 Oracle ├─░─┤2          ├─░──░─┤2 Oracle ├─░─┤2          ├─░──░─┤2 Oracle ├─░─┤2          ├─░──░─┤2 Oracle ├─░─┤2          ├─░──╫──╫─┤M├───\n",
              "     ├───┤      ░ │         │ ░ │  Diffuser │ ░  ░ │         │ ░ │  Diffuser │ ░  ░ │         │ ░ │  Diffuser │ ░  ░ │         │ ░ │  Diffuser │ ░  ║  ║ └╥┘┌─┐\n",
              "q_3: ┤ H ├──────░─┤3        ├─░─┤3          ├─░──░─┤3        ├─░─┤3          ├─░──░─┤3        ├─░─┤3          ├─░──░─┤3        ├─░─┤3          ├─░──╫──╫──╫─┤M├\n",
              "     ├───┤┌───┐ ░ │         │ ░ │           │ ░  ░ │         │ ░ │           │ ░  ░ │         │ ░ │           │ ░  ░ │         │ ░ │           │ ░  ║  ║  ║ └╥┘\n",
              "q_4: ┤ X ├┤ H ├─░─┤4        ├─░─┤4          ├─░──░─┤4        ├─░─┤4          ├─░──░─┤4        ├─░─┤4          ├─░──░─┤4        ├─░─┤4          ├─░──╫──╫──╫──╫─\n",
              "     ├───┤├───┤ ░ └─────────┘ ░ │           │ ░  ░ └─────────┘ ░ │           │ ░  ░ └─────────┘ ░ │           │ ░  ░ └─────────┘ ░ │           │ ░  ║  ║  ║  ║ \n",
              "q_5: ┤ X ├┤ H ├─░─────────────░─┤5          ├─░──░─────────────░─┤5          ├─░──░─────────────░─┤5          ├─░──░─────────────░─┤5          ├─░──╫──╫──╫──╫─\n",
              "     └───┘└───┘ ░             ░ └───────────┘ ░  ░             ░ └───────────┘ ░  ░             ░ └───────────┘ ░  ░             ░ └───────────┘ ░  ║  ║  ║  ║ \n",
              "c: 4/═══════════════════════════════════════════════════════════════════════════════════════════════════════════════════════════════════════════════╩══╩══╩══╩═\n",
              "                                                                                                                                                    0  1  2  3 </pre>"
            ]
          },
          "metadata": {},
          "execution_count": 109
        }
      ]
    },
    {
      "cell_type": "markdown",
      "source": [
        "## **4. Running the Experiment**"
      ],
      "metadata": {
        "id": "alU5x-AcabzN"
      }
    },
    {
      "cell_type": "code",
      "source": [
        "print(\"Number of times that Oracle and Diffuser need to be applied is\", math.ceil(math.pi/4*math.sqrt((2**t))))\n",
        "# Compiling the circuit\n",
        "compiled_circuit = transpile(qc, simulator)\n",
        "\n",
        "# Execute the circuit on the qasm simulator\n",
        "job = simulator.run(compiled_circuit, shots=1024)\n",
        "\n",
        "# Grab results from the job\n",
        "result = job.result()\n",
        "\n",
        "# Returns counts\n",
        "counts = result.get_counts(qc)\n",
        "print(\"\\nTotal count for possible combinations of output are: \", counts)\n",
        "\n",
        "# Plot a histogram\n",
        "plot_histogram(counts)"
      ],
      "metadata": {
        "colab": {
          "base_uri": "https://localhost:8080/",
          "height": 420
        },
        "id": "BjgvccdHTWIm",
        "outputId": "41b9d055-3c0f-4a21-dae8-4f6551e5f456"
      },
      "execution_count": 110,
      "outputs": [
        {
          "output_type": "stream",
          "name": "stdout",
          "text": [
            "Number of times that Oracle and Diffuser need to be applied is 4\n",
            "\n",
            "Total count for possible combinations of output are:  {'0010': 27, '0001': 26, '0101': 25, '1100': 27, '1011': 29, '1000': 31, '1001': 25, '1101': 591, '0100': 35, '0110': 30, '1010': 30, '1111': 27, '0000': 32, '0111': 25, '0011': 36, '1110': 28}\n"
          ]
        },
        {
          "output_type": "execute_result",
          "data": {
            "text/plain": [
              "<Figure size 504x360 with 1 Axes>"
            ],
            "image/png": "[encoded data removed]"
          },
          "metadata": {},
          "execution_count": 110
        }
      ]
    },
    {
      "cell_type": "markdown",
      "source": [
        "## **5. Guessing the binary number $x_0$ based on probabilities**"
      ],
      "metadata": {
        "id": "jcXJml-1amGE"
      }
    },
    {
      "cell_type": "code",
      "source": [
        "guess = max(counts, key=counts.get)\n",
        "print(\"The value of x for which f(x) = 1 is\", guess)"
      ],
      "metadata": {
        "colab": {
          "base_uri": "https://localhost:8080/"
        },
        "id": "7kHS1WTWWupV",
        "outputId": "2f610779-2507-44fc-a654-86c9f68d77c7"
      },
      "execution_count": 111,
      "outputs": [
        {
          "output_type": "stream",
          "name": "stdout",
          "text": [
            "The value of x for which f(x) = 1 is 1101\n"
          ]
        }
      ]
    },
    {
      "cell_type": "markdown",
      "source": [
        "😃😃😃😃...which is exactly the value of $x_0$ as initialized at the start."
      ],
      "metadata": {
        "id": "JXpXdb0ubeMU"
      }
    },
    {
      "cell_type": "markdown",
      "source": [
        "## **6. A peek 🤫 into the ORACLE and DIFFUSER Blocks used in the circuit**\n",
        "### **6.1 The ORACLE Block**"
      ],
      "metadata": {
        "id": "fVxQdQ6aau0l"
      }
    },
    {
      "cell_type": "code",
      "source": [
        "qc2 = QuantumCircuit(t+2,t)\n",
        "# Implementing the Oracle for a particular x_0 \n",
        "num = x_0\n",
        "i = 0\n",
        "\n",
        "# Adds a X gate in front of those qubits, where corresponding bit in x_0 = 0\n",
        "while(num>0):\n",
        "  digit = num%10\n",
        "  num = int(num/10)\n",
        "\n",
        "  if (digit == 0):\n",
        "     qc2.x(i)\n",
        "  i = i +1\n",
        "\n",
        "while(i<4):\n",
        "  qc2.x(i)\n",
        "  i = i +1\n",
        "   \n",
        "# Adds a multiple input toffoli gate to control the (t+1)th qubit\n",
        "qc2.mct(list(range(t)),t)\n",
        "\n",
        "# Adds a X gate in front of those qubits, where corresponding bit in x_0 = 0\n",
        "num = x_0\n",
        "i = 0\n",
        "while(num>0):\n",
        "  digit = num%10\n",
        "  num = int(num/10)\n",
        "\n",
        "  if (digit == 0):\n",
        "    qc2.x(i)\n",
        "  i = i +1\n",
        "\n",
        "while(i<4):\n",
        "  qc2.x(i)\n",
        "  i = i +1\n",
        "\n",
        "qc2.draw()"
      ],
      "metadata": {
        "colab": {
          "base_uri": "https://localhost:8080/",
          "height": 248
        },
        "id": "0MzCKqENP6bP",
        "outputId": "5690f78d-d4ac-4669-b128-998191ca4dac"
      },
      "execution_count": 112,
      "outputs": [
        {
          "output_type": "execute_result",
          "data": {
            "text/plain": [
              "                    \n",
              "q_0: ───────■───────\n",
              "     ┌───┐  │  ┌───┐\n",
              "q_1: ┤ X ├──■──┤ X ├\n",
              "     └───┘  │  └───┘\n",
              "q_2: ───────■───────\n",
              "            │       \n",
              "q_3: ───────■───────\n",
              "          ┌─┴─┐     \n",
              "q_4: ─────┤ X ├─────\n",
              "          └───┘     \n",
              "q_5: ───────────────\n",
              "                    \n",
              "c: 4/═══════════════\n",
              "                    "
            ],
            "text/html": [
              "<pre style=\"word-wrap: normal;white-space: pre;background: #fff0;line-height: 1.1;font-family: &quot;Courier New&quot;,Courier,monospace\">                    \n",
              "q_0: ───────■───────\n",
              "     ┌───┐  │  ┌───┐\n",
              "q_1: ┤ X ├──■──┤ X ├\n",
              "     └───┘  │  └───┘\n",
              "q_2: ───────■───────\n",
              "            │       \n",
              "q_3: ───────■───────\n",
              "          ┌─┴─┐     \n",
              "q_4: ─────┤ X ├─────\n",
              "          └───┘     \n",
              "q_5: ───────────────\n",
              "                    \n",
              "c: 4/═══════════════\n",
              "                    </pre>"
            ]
          },
          "metadata": {},
          "execution_count": 112
        }
      ]
    },
    {
      "cell_type": "markdown",
      "source": [
        "### **6.1 The Diffuser Block**"
      ],
      "metadata": {
        "id": "SfWpVn6BbAa0"
      }
    },
    {
      "cell_type": "code",
      "source": [
        "qc3 = QuantumCircuit(t+2,t)\n",
        "# Implementing the Diffuser \n",
        "for i in range(t):\n",
        "  qc3.h(i)\n",
        "\n",
        "num = 0\n",
        "i = 0\n",
        "\n",
        "# Adds a X gate in front of those qubits, where corresponding bit in x_0 = 0\n",
        "while(num>0):\n",
        "  digit = num%10\n",
        "  num = int(num/10)\n",
        "\n",
        "  if (digit == 0):\n",
        "    qc3.x(i)\n",
        "  i = i +1\n",
        "\n",
        "while(i<4):\n",
        "  qc3.x(i)\n",
        "  i = i +1\n",
        "      \n",
        "# Adds a multiple input toffoli gate to control the (t+1)th qubit\n",
        "qc3.mct(list(range(t)),t+1)\n",
        "\n",
        "# Adds a X gate in front of those qubits, where corresponding bit in x_0 = 0\n",
        "num = 0\n",
        "i = 0\n",
        "while(num>0):\n",
        "  digit = num%10\n",
        "  num = int(num/10)\n",
        "\n",
        "  if (digit == 0):\n",
        "    qc3.x(i)\n",
        "  i = i +1\n",
        "\n",
        "while(i<4):\n",
        "  qc3.x(i)\n",
        "  i = i +1\n",
        "\n",
        "for i in range(t):\n",
        "  qc3.h(i)\n",
        "\n",
        "qc3.x(t+1)\n",
        "\n",
        "qc3.draw()"
      ],
      "metadata": {
        "colab": {
          "base_uri": "https://localhost:8080/",
          "height": 248
        },
        "id": "BZ4vtc5AUrtg",
        "outputId": "e02f53ac-5476-47c5-a02d-13d6f79cbee5"
      },
      "execution_count": 113,
      "outputs": [
        {
          "output_type": "execute_result",
          "data": {
            "text/plain": [
              "     ┌───┐┌───┐     ┌───┐┌───┐\n",
              "q_0: ┤ H ├┤ X ├──■──┤ X ├┤ H ├\n",
              "     ├───┤├───┤  │  ├───┤├───┤\n",
              "q_1: ┤ H ├┤ X ├──■──┤ X ├┤ H ├\n",
              "     ├───┤├───┤  │  ├───┤├───┤\n",
              "q_2: ┤ H ├┤ X ├──■──┤ X ├┤ H ├\n",
              "     ├───┤├───┤  │  ├───┤├───┤\n",
              "q_3: ┤ H ├┤ X ├──■──┤ X ├┤ H ├\n",
              "     └───┘└───┘  │  └───┘└───┘\n",
              "q_4: ────────────┼────────────\n",
              "               ┌─┴─┐┌───┐     \n",
              "q_5: ──────────┤ X ├┤ X ├─────\n",
              "               └───┘└───┘     \n",
              "c: 4/═════════════════════════\n",
              "                              "
            ],
            "text/html": [
              "<pre style=\"word-wrap: normal;white-space: pre;background: #fff0;line-height: 1.1;font-family: &quot;Courier New&quot;,Courier,monospace\">     ┌───┐┌───┐     ┌───┐┌───┐\n",
              "q_0: ┤ H ├┤ X ├──■──┤ X ├┤ H ├\n",
              "     ├───┤├───┤  │  ├───┤├───┤\n",
              "q_1: ┤ H ├┤ X ├──■──┤ X ├┤ H ├\n",
              "     ├───┤├───┤  │  ├───┤├───┤\n",
              "q_2: ┤ H ├┤ X ├──■──┤ X ├┤ H ├\n",
              "     ├───┤├───┤  │  ├───┤├───┤\n",
              "q_3: ┤ H ├┤ X ├──■──┤ X ├┤ H ├\n",
              "     └───┘└───┘  │  └───┘└───┘\n",
              "q_4: ────────────┼────────────\n",
              "               ┌─┴─┐┌───┐     \n",
              "q_5: ──────────┤ X ├┤ X ├─────\n",
              "               └───┘└───┘     \n",
              "c: 4/═════════════════════════\n",
              "                              </pre>"
            ]
          },
          "metadata": {},
          "execution_count": 113
        }
      ]
    },
    {
      "cell_type": "code",
      "source": [
        ""
      ],
      "metadata": {
        "id": "BadlJshUXYs4"
      },
      "execution_count": 113,
      "outputs": []
    }
  ]
}
