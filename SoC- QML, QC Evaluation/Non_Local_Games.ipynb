{
  "nbformat": 4,
  "nbformat_minor": 0,
  "metadata": {
    "colab": {
      "name": "Non-Local Games.ipynb",
      "provenance": [],
      "authorship_tag": "ABX9TyMhOIGbcufkW3jkF2xFLmvM",
      "include_colab_link": true
    },
    "kernelspec": {
      "name": "python3",
      "display_name": "Python 3"
    },
    "language_info": {
      "name": "python"
    }
  },
  "cells": [
    {
      "cell_type": "markdown",
      "metadata": {
        "id": "view-in-github",
        "colab_type": "text"
      },
      "source": [
        "<a href=\"https://colab.research.google.com/github/AtharvaTambat/WnCC-SoC-2022-QML/blob/main/Non_Local_Games.ipynb\" target=\"_parent\"><img src=\"https://colab.research.google.com/assets/colab-badge.svg\" alt=\"Open In Colab\"/></a>"
      ]
    },
    {
      "cell_type": "markdown",
      "source": [
        "# **1. Classical Case**\n",
        "\n",
        "The following is the truth table (for the given set of inputs) for an OR gate with 3 input bits:\n",
        "\n",
        "\\begin{array}{ccc}\n",
        "r&s&t&(r\\vee s \\vee t) \\\\\n",
        "-&-&-&-----\\\\\n",
        "0&0&0&0\\\\\n",
        "0&1&1&1\\\\\n",
        "1&0&1&1\\\\\n",
        "1&1&0&1\n",
        "\\end{array}\n",
        "\n",
        "Assuming equal probability of all the 4 sets of inputs, the output with maximum probability is 1. So, clearly, due to the randomness of the input and them not being able to communicate during the game, the best chance at their winning the game is to ensure that they give a set of bits $(a,b,c)$ which gives 1 every time on performing the operation $a \\oplus b \\oplus c$.\n",
        "\n",
        "One way to ensure the above is that all the three - Alice, Bob and Charlie - return $1$ irrespective of their input.\n",
        "\n",
        "This would result in them winning the game ${\\frac{3}{4}}^{th}$ of the time because $a \\oplus b \\oplus c$ is always $1$ but $r\\vee s \\vee t = 1$ only  ${\\frac{3}{4}}^{th}$ of the time."
      ],
      "metadata": {
        "id": "HKaXkwuaDZ-m"
      }
    },
    {
      "cell_type": "markdown",
      "source": [
        "# **2. Quantum Case**\n",
        "\n",
        "The strategy for winning the game every is as follows:\n",
        "\n",
        "1. Prepare a GHZ state $\\left(|\\psi\\rangle = \\frac{1}{2} \\left( |000\\rangle - |011\\rangle - |101\\rangle - |110\\rangle\\right)\\right)$ - with one qubit in control of Alice, Bob and Charlie respectively.\n",
        "2. The person who receives bit $1$ should apply a Hadamard gate to their qubit.\n",
        "3. The person who receives bit $0$ should not apply any gate to their qubit.\n",
        "4. After all 3 have applied the necessary gates, they should measure their bits and give them to the Referee.\n",
        "\n"
      ],
      "metadata": {
        "id": "CsIEnOR7H_f0"
      }
    },
    {
      "cell_type": "markdown",
      "source": [
        "## **Case 1: The Referee gives them the bit sequence (0,0,0)**\n",
        "\n",
        "1. According to the strategy, on doing nothing, the state of the system does not change and the operation $a \\oplus b \\oplus c$ on any of the output of the quantum measurment is $0$ $\\left( = r\\vee s \\vee t\\right)$, thus Alice, Bob and Charlie win."
      ],
      "metadata": {
        "id": "XF44kkz-KBRR"
      }
    },
    {
      "cell_type": "markdown",
      "source": [
        "## **Case 2: The Referee gives them the bit sequence (1,1,0)**\n",
        "\n",
        "1. Initial state of the system: $|\\psi\\rangle = \\frac{1}{2} \\left( |000\\rangle - |011\\rangle - |101\\rangle - |110\\rangle\\right)$\n",
        "2. On applying Hadamard gate to the $1^{st}$ and the $2^{nd}$ qubit:\n",
        "\n",
        "> $|\\psi\\rangle = \\frac{1}{4}\\left[ \\left( |0\\rangle + |1\\rangle\\right)\\left( |0\\rangle + |1\\rangle\\right)|0\\rangle - \\left( |0\\rangle + |1\\rangle\\right)\\left( |0\\rangle - |1\\rangle\\right)|1\\rangle - \\left( |0\\rangle - |1\\rangle\\right)\\left( |0\\rangle + |1\\rangle\\right)|1\\rangle - \\left( |0\\rangle - |1\\rangle\\right)\\left( |0\\rangle - |1\\rangle\\right)|0\\rangle \\right] $\n",
        "\n",
        "Simplifying,\n",
        "\n",
        "> $|\\psi\\rangle = \\frac{1}{4}\\left[ |000\\rangle + |010\\rangle + |100\\rangle + |110\\rangle - |001\\rangle + |011\\rangle - |101\\rangle + |111\\rangle - |001\\rangle - |011\\rangle + |101\\rangle + |111\\rangle - |000\\rangle - |110\\rangle + |010\\rangle + |100\\rangle \\right] $\n",
        "\n",
        "> $\\implies |\\psi\\rangle = \\frac{1}{2}\\left[ |111\\rangle - |001\\rangle + |100\\rangle + |010\\rangle \\right]$\n",
        "\n",
        "3. Clearly, the operation $a \\oplus b \\oplus c$ on any of the output of measurement of the above state results in 1 $\\left( = r\\vee s \\vee t\\right)$, again, Alice, Bob and Charlie win!!!\n",
        "\n",
        "---\n",
        "**NOTE:** The proof for the bit sequences (0,1,1) and (1,0,1) is similar."
      ],
      "metadata": {
        "id": "aHgIbzb9KKyA"
      }
    }
  ]
}
