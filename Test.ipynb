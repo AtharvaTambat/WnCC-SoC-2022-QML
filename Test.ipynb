Introduction
Classical algorithms for predicting the equilibrium geometry of molecules require expensive wavefunction methods that become impractical after just a few molecules.They typically rely on the Newton-Raphson method requiring access to the nuclear gradients and the Hessian of the energy at each optimization step while searching for the global minimum along the potential energy surface. Instead, density functional theory methods are used to obtain approximated geometries.

Here, we introduce a variational quantum algorithm for finding the equilibrium molecular structure of  H+3  by minimizing the expected (average) value of energy of the Hamiltonian

The Algorithm In a Nutshell
Build a parameterized Hamiltonian using Jordan-Wigner transformation.
Build a trial ground state wavefunction using Givens Rotation on a Basis Set of qubits containing the parameters θ1 and θ2, with respect to which the hamiltonian has to be optimized. For example:
|Ψ(θ1,θ2)⟩=cos(θ1)cos(θ2)|110000⟩−cos(θ1)sin(θ2)|000011⟩−sin(θ1)|001100⟩

Define a cost function g(θ,x)=⟨Ψ(θ)|H(x)|Ψ(θ)⟩.

Minimize the cost function jointly with respect to the nuclear coordinates x (array of 3D coordinates of all the nuclei) and the parameters θ1 and θ2 of the wavefunction.

Building a Parameterized Hamiltonian
We first describe the H+3 molecule by intializing a set of symbols representing the atom and an array of the initial coordinates of the atoms in 3D.
[3]
from pennylane import numpy as np

symbols = ["H", "H", "H"]
x = np.array([0.028, 0.054, 0.0, 0.986, 1.610, 0.0, 1.855, 0.002, 0.0], requires_grad=True) 
We then use the molecular_hamiltonian() function of to build the molecular hamiltonian of H+3 - inside the function H(x) that we have defined.
THEORY:

[ ]
