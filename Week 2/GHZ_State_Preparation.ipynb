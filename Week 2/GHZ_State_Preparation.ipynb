{
  "nbformat": 4,
  "nbformat_minor": 0,
  "metadata": {
    "colab": {
      "name": "GHZ State Preparation.ipynb",
      "provenance": [],
      "authorship_tag": "ABX9TyMq5lisjyABc2hz/NmOufox",
      "include_colab_link": true
    },
    "kernelspec": {
      "name": "python3",
      "display_name": "Python 3"
    },
    "language_info": {
      "name": "python"
    }
  },
  "cells": [
    {
      "cell_type": "markdown",
      "metadata": {
        "id": "view-in-github",
        "colab_type": "text"
      },
      "source": [
        "<a href=\"https://colab.research.google.com/github/AtharvaTambat/WnCC-SoC-2022-QML/blob/main/GHZ_State_Preparation.ipynb\" target=\"_parent\"><img src=\"https://colab.research.google.com/assets/colab-badge.svg\" alt=\"Open In Colab\"/></a>"
      ]
    },
    {
      "cell_type": "markdown",
      "source": [
        "# **Preparation of GHZ state**\n"
      ],
      "metadata": {
        "id": "L8P3KVBuQfkW"
      }
    },
    {
      "cell_type": "markdown",
      "source": [
        "The GHZ State is:\n",
        "\n",
        "$$ GHZ = \\frac{|0\\rangle^{\\otimes n} + |1\\rangle^{\\otimes n}}{2}$$"
      ],
      "metadata": {
        "id": "VqGLt_zBRjdc"
      }
    },
    {
      "cell_type": "markdown",
      "source": [
        "## **1. Importing necessary Libraries**\n"
      ],
      "metadata": {
        "id": "IfkMRRWiQ3uW"
      }
    },
    {
      "cell_type": "code",
      "execution_count": 2,
      "metadata": {
        "id": "8tnIQrCBQVzD"
      },
      "outputs": [],
      "source": [
        "import matplotlib.pyplot as plt\n",
        "import math\n",
        "import numpy as np\n",
        "from qiskit import QuantumCircuit, transpile\n",
        "from qiskit.providers.aer import AerSimulator\n",
        "from qiskit.visualization import plot_histogram\n",
        "\n",
        "# Use Aer's qasm_simulator\n",
        "simulator = AerSimulator()"
      ]
    },
    {
      "cell_type": "markdown",
      "source": [
        "## **2. The Circuit**\n"
      ],
      "metadata": {
        "id": "50b6TVpCRbxj"
      }
    },
    {
      "cell_type": "code",
      "source": [
        "# Input the number of qubits, n, in the GHZ state\n",
        "\n",
        "n = 4\n",
        "\n",
        "# Preparing the Quantum Circuit\n",
        "ghz = QuantumCircuit(n,n)\n",
        "\n",
        "# Applying necessary gates\n",
        "ghz.h(0)\n",
        "for i in range(n-1):\n",
        "  ghz.cnot(i,i+1)\n",
        "\n",
        "ghz.barrier()\n",
        "\n",
        "# Measuring qubits \n",
        "ghz.measure(range(n), range(n))\n",
        "\n",
        "# Drawing the circuit\n",
        "ghz.draw()\n"
      ],
      "metadata": {
        "colab": {
          "base_uri": "https://localhost:8080/",
          "height": 186
        },
        "id": "OMqP-8BeRAec",
        "outputId": "525f4289-8911-45d2-ce05-b791facb0a52"
      },
      "execution_count": 4,
      "outputs": [
        {
          "output_type": "execute_result",
          "data": {
            "text/plain": [
              "     ┌───┐                ░ ┌─┐         \n",
              "q_0: ┤ H ├──■─────────────░─┤M├─────────\n",
              "     └───┘┌─┴─┐           ░ └╥┘┌─┐      \n",
              "q_1: ─────┤ X ├──■────────░──╫─┤M├──────\n",
              "          └───┘┌─┴─┐      ░  ║ └╥┘┌─┐   \n",
              "q_2: ──────────┤ X ├──■───░──╫──╫─┤M├───\n",
              "               └───┘┌─┴─┐ ░  ║  ║ └╥┘┌─┐\n",
              "q_3: ───────────────┤ X ├─░──╫──╫──╫─┤M├\n",
              "                    └───┘ ░  ║  ║  ║ └╥┘\n",
              "c: 4/════════════════════════╩══╩══╩══╩═\n",
              "                             0  1  2  3 "
            ],
            "text/html": [
              "<pre style=\"word-wrap: normal;white-space: pre;background: #fff0;line-height: 1.1;font-family: &quot;Courier New&quot;,Courier,monospace\">     ┌───┐                ░ ┌─┐         \n",
              "q_0: ┤ H ├──■─────────────░─┤M├─────────\n",
              "     └───┘┌─┴─┐           ░ └╥┘┌─┐      \n",
              "q_1: ─────┤ X ├──■────────░──╫─┤M├──────\n",
              "          └───┘┌─┴─┐      ░  ║ └╥┘┌─┐   \n",
              "q_2: ──────────┤ X ├──■───░──╫──╫─┤M├───\n",
              "               └───┘┌─┴─┐ ░  ║  ║ └╥┘┌─┐\n",
              "q_3: ───────────────┤ X ├─░──╫──╫──╫─┤M├\n",
              "                    └───┘ ░  ║  ║  ║ └╥┘\n",
              "c: 4/════════════════════════╩══╩══╩══╩═\n",
              "                             0  1  2  3 </pre>"
            ]
          },
          "metadata": {},
          "execution_count": 4
        }
      ]
    },
    {
      "cell_type": "markdown",
      "source": [
        "> **Explanation:** The state of qubit after each state us mentioned below\n",
        "1. $|0\\rangle^{\\otimes n}$\n",
        "2. $\\frac{|0\\rangle^{\\otimes n} + |1\\rangle|0\\rangle^{\\otimes n-1}}{2}$\n",
        "3. $\\frac{|0\\rangle^{\\otimes n} + |11\\rangle|0\\rangle^{\\otimes n-2}}{2}$\n",
        "4. $\\frac{|0\\rangle^{\\otimes n} + |111\\rangle|0\\rangle^{\\otimes n-3}}{2}$ ...\n",
        "\n",
        "This pattern continues and creates:\n",
        "\n",
        "$$ GHZ = \\frac{|0\\rangle^{\\otimes n} + |1\\rangle^{\\otimes n}}{2} $$\n"
      ],
      "metadata": {
        "id": "2uFX4_RlS7Az"
      }
    },
    {
      "cell_type": "markdown",
      "source": [
        "## **3. Measuring the Qubits**"
      ],
      "metadata": {
        "id": "UPnW1NGtT6IG"
      }
    },
    {
      "cell_type": "code",
      "source": [
        "# Compiling the circuit\n",
        "compiled_circuit = transpile(ghz, simulator)\n",
        "\n",
        "shots = 1000000\n",
        "# Execute the circuit on the qasm simulator\n",
        "job = simulator.run(compiled_circuit, shots)\n",
        "\n",
        "# Grab results from the job\n",
        "result = job.result()\n",
        "\n",
        "# Returns counts\n",
        "counts = result.get_counts(ghz)\n",
        "print(\"Total count for possible combinations of output are: \", counts)\n",
        "\n",
        "# Plot a histogram\n",
        "plot_histogram(counts)"
      ],
      "metadata": {
        "colab": {
          "base_uri": "https://localhost:8080/",
          "height": 366
        },
        "id": "KOaU-gC_T3fz",
        "outputId": "f51edb83-c45c-47fb-befb-3f39bcb9e7ac"
      },
      "execution_count": 5,
      "outputs": [
        {
          "output_type": "stream",
          "name": "stdout",
          "text": [
            "Total count for possible combinations of output are:  {'0000': 494, '1111': 530}\n"
          ]
        },
        {
          "output_type": "execute_result",
          "data": {
            "text/plain": [
              "<Figure size 504x360 with 1 Axes>"
            ],
            "image/png": "[encoded data removed]"
          },
          "metadata": {},
          "execution_count": 5
        }
      ]
    },
    {
      "cell_type": "markdown",
      "source": [
        "counts for $|0\\rangle^{\\otimes n} \\approx |1\\rangle^{\\otimes n}$ verifies the claim."
      ],
      "metadata": {
        "id": "zotflLSdUCi7"
      }
    }
  ]
}
