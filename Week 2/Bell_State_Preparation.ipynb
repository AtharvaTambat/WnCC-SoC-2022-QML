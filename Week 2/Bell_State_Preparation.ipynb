{
  "nbformat": 4,
  "nbformat_minor": 0,
  "metadata": {
    "colab": {
      "name": "Bell State Preparation.ipynb",
      "provenance": [],
      "authorship_tag": "ABX9TyPpYd638aBK6aAuufMdeiSz",
      "include_colab_link": true
    },
    "kernelspec": {
      "name": "python3",
      "display_name": "Python 3"
    },
    "language_info": {
      "name": "python"
    }
  },
  "cells": [
    {
      "cell_type": "markdown",
      "metadata": {
        "id": "view-in-github",
        "colab_type": "text"
      },
      "source": [
        "<a href=\"https://colab.research.google.com/github/AtharvaTambat/WnCC-SoC-2022-QML/blob/main/Bell_State_Preparation.ipynb\" target=\"_parent\"><img src=\"https://colab.research.google.com/assets/colab-badge.svg\" alt=\"Open In Colab\"/></a>"
      ]
    },
    {
      "cell_type": "markdown",
      "source": [
        "# **Preparation of Bell State**\n"
      ],
      "metadata": {
        "id": "6_2y-P9xJY6v"
      }
    },
    {
      "cell_type": "markdown",
      "source": [
        "## **1. Importing necesary Libraries**"
      ],
      "metadata": {
        "id": "6Oa-nCqNJzAF"
      }
    },
    {
      "cell_type": "code",
      "execution_count": null,
      "metadata": {
        "id": "MQNohFzBJQTL"
      },
      "outputs": [],
      "source": [
        "import matplotlib.pyplot as plt\n",
        "import math\n",
        "import numpy as np\n",
        "from qiskit import QuantumCircuit, transpile\n",
        "from qiskit.providers.aer import AerSimulator\n",
        "from qiskit.visualization import plot_histogram\n",
        "\n",
        "# Use Aer's qasm_simulator\n",
        "simulator = AerSimulator()"
      ]
    },
    {
      "cell_type": "markdown",
      "source": [
        "## **2. The Circuit**"
      ],
      "metadata": {
        "id": "6Tb52gCnKUZF"
      }
    },
    {
      "cell_type": "markdown",
      "source": [
        "### **2.1 Bell State $|\\Phi^{+}\\rangle$**\n",
        "The following circuit prepares the Bell State $|\\Phi^{+}\\rangle = \\frac{|00\\rangle + |11\\rangle}{\\sqrt2}$"
      ],
      "metadata": {
        "id": "AZa84xJHK3cN"
      }
    },
    {
      "cell_type": "code",
      "source": [
        "# Preparing the circuit\n",
        "\n",
        "bell1 = QuantumCircuit(2,2)\n",
        "\n",
        "# Applying the required gates\n",
        "bell1.h(0)\n",
        "bell1.cnot(0,1)\n",
        "\n",
        "# Measuring the qubits\n",
        "bell1.measure([0,1],[0,1])\n",
        "\n",
        "bell1.draw()"
      ],
      "metadata": {
        "colab": {
          "base_uri": "https://localhost:8080/",
          "height": 125
        },
        "id": "JEwD8lDHKF0W",
        "outputId": "23a9cb76-da04-443c-d417-5e5c90dd74be"
      },
      "execution_count": null,
      "outputs": [
        {
          "output_type": "execute_result",
          "data": {
            "text/plain": [
              "     ┌───┐     ┌─┐   \n",
              "q_0: ┤ H ├──■──┤M├───\n",
              "     └───┘┌─┴─┐└╥┘┌─┐\n",
              "q_1: ─────┤ X ├─╫─┤M├\n",
              "          └───┘ ║ └╥┘\n",
              "c: 2/═══════════╩══╩═\n",
              "                0  1 "
            ],
            "text/html": [
              "<pre style=\"word-wrap: normal;white-space: pre;background: #fff0;line-height: 1.1;font-family: &quot;Courier New&quot;,Courier,monospace\">     ┌───┐     ┌─┐   \n",
              "q_0: ┤ H ├──■──┤M├───\n",
              "     └───┘┌─┴─┐└╥┘┌─┐\n",
              "q_1: ─────┤ X ├─╫─┤M├\n",
              "          └───┘ ║ └╥┘\n",
              "c: 2/═══════════╩══╩═\n",
              "                0  1 </pre>"
            ]
          },
          "metadata": {},
          "execution_count": 8
        }
      ]
    },
    {
      "cell_type": "markdown",
      "source": [
        "> The state after each gate is mentioned below:\n",
        "1. $|00\\rangle$ (before applying any gate)\n",
        "2. $\\frac{|00\\rangle + |10\\rangle}{\\sqrt2}$\n",
        "3. $\\frac{|00\\rangle + |11\\rangle}{\\sqrt2}$"
      ],
      "metadata": {
        "id": "eHTkAUIiN5IM"
      }
    },
    {
      "cell_type": "markdown",
      "source": [
        "### **2.2 Bell State $|\\Phi^{-}\\rangle$**\n",
        "The following circuit prepares the Bell State $|\\Phi^{-}\\rangle = \\frac{|00\\rangle - |11\\rangle}{\\sqrt2}$"
      ],
      "metadata": {
        "id": "dD_L3N1YMC_l"
      }
    },
    {
      "cell_type": "code",
      "source": [
        "# Preparing the circuit\n",
        "\n",
        "bell2 = QuantumCircuit(2,2)\n",
        "\n",
        "# Applying the required gates\n",
        "bell2.x(0)\n",
        "bell2.h(0)\n",
        "bell2.cnot(0,1)\n",
        "\n",
        "# Measuring the qubits\n",
        "bell2.measure([0,1],[0,1])\n",
        "\n",
        "bell2.draw()"
      ],
      "metadata": {
        "colab": {
          "base_uri": "https://localhost:8080/",
          "height": 125
        },
        "id": "wtH2gyTwLpta",
        "outputId": "915bd4a3-efcd-4999-e62c-b3c71dfea4b2"
      },
      "execution_count": null,
      "outputs": [
        {
          "output_type": "execute_result",
          "data": {
            "text/plain": [
              "     ┌───┐┌───┐     ┌─┐   \n",
              "q_0: ┤ X ├┤ H ├──■──┤M├───\n",
              "     └───┘└───┘┌─┴─┐└╥┘┌─┐\n",
              "q_1: ──────────┤ X ├─╫─┤M├\n",
              "               └───┘ ║ └╥┘\n",
              "c: 2/════════════════╩══╩═\n",
              "                     0  1 "
            ],
            "text/html": [
              "<pre style=\"word-wrap: normal;white-space: pre;background: #fff0;line-height: 1.1;font-family: &quot;Courier New&quot;,Courier,monospace\">     ┌───┐┌───┐     ┌─┐   \n",
              "q_0: ┤ X ├┤ H ├──■──┤M├───\n",
              "     └───┘└───┘┌─┴─┐└╥┘┌─┐\n",
              "q_1: ──────────┤ X ├─╫─┤M├\n",
              "               └───┘ ║ └╥┘\n",
              "c: 2/════════════════╩══╩═\n",
              "                     0  1 </pre>"
            ]
          },
          "metadata": {},
          "execution_count": 10
        }
      ]
    },
    {
      "cell_type": "markdown",
      "source": [
        "> The state after each gate is mentioned below:\n",
        "1. $|00\\rangle$ (before applying any gate)\n",
        "2. $|10\\rangle$\n",
        "2. $\\frac{|00\\rangle - |10\\rangle}{\\sqrt2}$\n",
        "3. $\\frac{|00\\rangle - |11\\rangle}{\\sqrt2}$"
      ],
      "metadata": {
        "id": "XyIrjS7VOnLs"
      }
    },
    {
      "cell_type": "markdown",
      "source": [
        "### **2.3 Bell State $|\\Psi^{+}\\rangle$**\n",
        "The following circuit prepares the Bell State $|\\Psi^{+}\\rangle = \\frac{|01\\rangle + |10\\rangle}{\\sqrt2}$"
      ],
      "metadata": {
        "id": "bdFmWoLBMg5t"
      }
    },
    {
      "cell_type": "code",
      "source": [
        "# Preparing the circuit\n",
        "\n",
        "bell3 = QuantumCircuit(2,2)\n",
        "\n",
        "# Applying the required gates\n",
        "bell3.h(0)\n",
        "bell3.x(0)\n",
        "bell3.cnot(0,1)\n",
        "bell3.x(0)\n",
        "bell3.barrier()\n",
        "\n",
        "# Measuring the qubits\n",
        "bell3.measure([0,1],[0,1])\n",
        "\n",
        "bell3.draw()"
      ],
      "metadata": {
        "colab": {
          "base_uri": "https://localhost:8080/",
          "height": 125
        },
        "id": "5-BYY72UMYmg",
        "outputId": "ad97281c-5351-4030-dc51-951e05ae2139"
      },
      "execution_count": null,
      "outputs": [
        {
          "output_type": "execute_result",
          "data": {
            "text/plain": [
              "     ┌───┐┌───┐     ┌───┐ ░ ┌─┐   \n",
              "q_0: ┤ H ├┤ X ├──■──┤ X ├─░─┤M├───\n",
              "     └───┘└───┘┌─┴─┐└───┘ ░ └╥┘┌─┐\n",
              "q_1: ──────────┤ X ├──────░──╫─┤M├\n",
              "               └───┘      ░  ║ └╥┘\n",
              "c: 2/════════════════════════╩══╩═\n",
              "                             0  1 "
            ],
            "text/html": [
              "<pre style=\"word-wrap: normal;white-space: pre;background: #fff0;line-height: 1.1;font-family: &quot;Courier New&quot;,Courier,monospace\">     ┌───┐┌───┐     ┌───┐ ░ ┌─┐   \n",
              "q_0: ┤ H ├┤ X ├──■──┤ X ├─░─┤M├───\n",
              "     └───┘└───┘┌─┴─┐└───┘ ░ └╥┘┌─┐\n",
              "q_1: ──────────┤ X ├──────░──╫─┤M├\n",
              "               └───┘      ░  ║ └╥┘\n",
              "c: 2/════════════════════════╩══╩═\n",
              "                             0  1 </pre>"
            ]
          },
          "metadata": {},
          "execution_count": 12
        }
      ]
    },
    {
      "cell_type": "markdown",
      "source": [
        "> The state after each gate is mentioned below:\n",
        "1. $|00\\rangle$ (before applying any gate)\n",
        "2. $\\frac{|00\\rangle + |10\\rangle}{\\sqrt2}$\n",
        "3. $\\frac{|00\\rangle + |10\\rangle}{\\sqrt2}$\n",
        "4. $\\frac{|00\\rangle + |11\\rangle}{\\sqrt2}$\n",
        "5. $\\frac{|10\\rangle + |01\\rangle}{\\sqrt2}$"
      ],
      "metadata": {
        "id": "dDDB_c4ROwfk"
      }
    },
    {
      "cell_type": "markdown",
      "source": [
        "### **2.4 Bell State $|\\Psi^{-}\\rangle$**\n",
        "The following circuit prepares the Bell State $|\\Psi^{-}\\rangle = \\frac{|01\\rangle - |10\\rangle}{\\sqrt2}$"
      ],
      "metadata": {
        "id": "WPWtg1iqNQVd"
      }
    },
    {
      "cell_type": "code",
      "source": [
        "# Preparing the circuit\n",
        "\n",
        "bell4 = QuantumCircuit(2,2)\n",
        "\n",
        "# Applying the required gates\n",
        "bell4.x(0)\n",
        "bell4.h(0)\n",
        "bell4.x(0)\n",
        "bell4.cnot(0,1)\n",
        "bell4.x(0)\n",
        "bell4.barrier()\n",
        "\n",
        "# Measuring the qubits\n",
        "bell4.measure([0,1],[0,1])\n",
        "\n",
        "bell4.draw()"
      ],
      "metadata": {
        "colab": {
          "base_uri": "https://localhost:8080/",
          "height": 125
        },
        "id": "zmxBL94ONHuS",
        "outputId": "a68df54a-21b2-4016-90da-c6c08d15bac7"
      },
      "execution_count": null,
      "outputs": [
        {
          "output_type": "execute_result",
          "data": {
            "text/plain": [
              "     ┌───┐┌───┐┌───┐     ┌───┐ ░ ┌─┐   \n",
              "q_0: ┤ X ├┤ H ├┤ X ├──■──┤ X ├─░─┤M├───\n",
              "     └───┘└───┘└───┘┌─┴─┐└───┘ ░ └╥┘┌─┐\n",
              "q_1: ───────────────┤ X ├──────░──╫─┤M├\n",
              "                    └───┘      ░  ║ └╥┘\n",
              "c: 2/═════════════════════════════╩══╩═\n",
              "                                  0  1 "
            ],
            "text/html": [
              "<pre style=\"word-wrap: normal;white-space: pre;background: #fff0;line-height: 1.1;font-family: &quot;Courier New&quot;,Courier,monospace\">     ┌───┐┌───┐┌───┐     ┌───┐ ░ ┌─┐   \n",
              "q_0: ┤ X ├┤ H ├┤ X ├──■──┤ X ├─░─┤M├───\n",
              "     └───┘└───┘└───┘┌─┴─┐└───┘ ░ └╥┘┌─┐\n",
              "q_1: ───────────────┤ X ├──────░──╫─┤M├\n",
              "                    └───┘      ░  ║ └╥┘\n",
              "c: 2/═════════════════════════════╩══╩═\n",
              "                                  0  1 </pre>"
            ]
          },
          "metadata": {},
          "execution_count": 13
        }
      ]
    },
    {
      "cell_type": "markdown",
      "source": [
        "> The state after each gate is mentioned below:\n",
        "1. $|00\\rangle$ (before applying any gate)\n",
        "2. $|10\\rangle$\n",
        "3. $\\frac{|00\\rangle - |10\\rangle}{\\sqrt2}$\n",
        "4. $\\frac{|10\\rangle - |00\\rangle}{\\sqrt2}$\n",
        "5. $\\frac{|11\\rangle - |00\\rangle}{\\sqrt2}$\n",
        "6. $\\frac{|01\\rangle - |10\\rangle}{\\sqrt2}$"
      ],
      "metadata": {
        "id": "M1FIKA-KO8F0"
      }
    }
  ]
}
