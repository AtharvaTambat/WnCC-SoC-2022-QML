{
  "nbformat": 4,
  "nbformat_minor": 0,
  "metadata": {
    "colab": {
      "name": "Swapping Qubits.ipynb",
      "provenance": [],
      "authorship_tag": "ABX9TyOMLnX1hhYN1ww7S4e4Bqr+",
      "include_colab_link": true
    },
    "kernelspec": {
      "name": "python3",
      "display_name": "Python 3"
    },
    "language_info": {
      "name": "python"
    }
  },
  "cells": [
    {
      "cell_type": "markdown",
      "metadata": {
        "id": "view-in-github",
        "colab_type": "text"
      },
      "source": [
        "<a href=\"https://colab.research.google.com/github/AtharvaTambat/WnCC-SoC-2022-QML/blob/main/Swapping_Qubits.ipynb\" target=\"_parent\"><img src=\"https://colab.research.google.com/assets/colab-badge.svg\" alt=\"Open In Colab\"/></a>"
      ]
    },
    {
      "cell_type": "markdown",
      "source": [
        "# **Swapping Qubits**"
      ],
      "metadata": {
        "id": "Q7sHvhNvUu5b"
      }
    },
    {
      "cell_type": "markdown",
      "source": [
        "## **1. Installing Necessary Libraries**"
      ],
      "metadata": {
        "id": "cAQ0Z9J6U2FT"
      }
    },
    {
      "cell_type": "code",
      "execution_count": 2,
      "metadata": {
        "id": "lRlJpOXdUsSg"
      },
      "outputs": [],
      "source": [
        "import matplotlib.pyplot as plt\n",
        "import math\n",
        "import numpy as np\n",
        "from qiskit import QuantumCircuit, transpile\n",
        "from qiskit.providers.aer import AerSimulator\n",
        "from qiskit.visualization import plot_histogram\n",
        "\n",
        "# Use Aer's qasm_simulator\n",
        "simulator = AerSimulator()"
      ]
    },
    {
      "cell_type": "markdown",
      "source": [
        "## **2. The Circuit**"
      ],
      "metadata": {
        "id": "1ZtM_10FU7Ry"
      }
    },
    {
      "cell_type": "code",
      "source": [
        "# Creating the circuit\n",
        "swap = QuantumCircuit(2,2)\n",
        "\n",
        "# Giving Initial conditions (for the sake of demonstration)\n",
        "swap.x(0) \n",
        "swap.barrier()\n",
        "# NOTE: q_0 = |1> and q_1 = |0> for this demonstration \n",
        "# The desired output is |01>\n",
        "\n",
        "# Applying necessary gates\n",
        "swap.cnot(0,1)\n",
        "swap.cnot(1,0)\n",
        "swap.cnot(0,1)\n",
        "\n",
        "swap.barrier()\n",
        "\n",
        "# Measuring the qubits\n",
        "swap.measure([0,1],[1,0]) # Measuring so that the read value is in correct order (correcting for the fact the Qiskit states the qubit in the lower classical wire)\n",
        "\n",
        "# Drawing the circuit\n",
        "swap.draw()"
      ],
      "metadata": {
        "colab": {
          "base_uri": "https://localhost:8080/",
          "height": 125
        },
        "id": "DBt9L1oAVBaz",
        "outputId": "c19c30e9-7a18-41e7-ced7-a5549640617b"
      },
      "execution_count": 4,
      "outputs": [
        {
          "output_type": "execute_result",
          "data": {
            "text/plain": [
              "     ┌───┐ ░      ┌───┐      ░ ┌─┐   \n",
              "q_0: ┤ X ├─░───■──┤ X ├──■───░─┤M├───\n",
              "     └───┘ ░ ┌─┴─┐└─┬─┘┌─┴─┐ ░ └╥┘┌─┐\n",
              "q_1: ──────░─┤ X ├──■──┤ X ├─░──╫─┤M├\n",
              "           ░ └───┘     └───┘ ░  ║ └╥┘\n",
              "c: 2/═══════════════════════════╩══╩═\n",
              "                                1  0 "
            ],
            "text/html": [
              "<pre style=\"word-wrap: normal;white-space: pre;background: #fff0;line-height: 1.1;font-family: &quot;Courier New&quot;,Courier,monospace\">     ┌───┐ ░      ┌───┐      ░ ┌─┐   \n",
              "q_0: ┤ X ├─░───■──┤ X ├──■───░─┤M├───\n",
              "     └───┘ ░ ┌─┴─┐└─┬─┘┌─┴─┐ ░ └╥┘┌─┐\n",
              "q_1: ──────░─┤ X ├──■──┤ X ├─░──╫─┤M├\n",
              "           ░ └───┘     └───┘ ░  ║ └╥┘\n",
              "c: 2/═══════════════════════════╩══╩═\n",
              "                                1  0 </pre>"
            ]
          },
          "metadata": {},
          "execution_count": 4
        }
      ]
    },
    {
      "cell_type": "code",
      "source": [
        "# Compiling the circuit\n",
        "compiled_circuit = transpile(swap, simulator)\n",
        "\n",
        "shots = 1000000\n",
        "# Execute the circuit on the qasm simulator\n",
        "job = simulator.run(compiled_circuit, shots)\n",
        "\n",
        "# Grab results from the job\n",
        "result = job.result()\n",
        "\n",
        "# Returns counts\n",
        "counts = result.get_counts(swap)\n",
        "print(\"Total count for possible combinations of output are: \", counts)\n",
        "\n",
        "# Plot a histogram\n",
        "plot_histogram(counts)"
      ],
      "metadata": {
        "colab": {
          "base_uri": "https://localhost:8080/",
          "height": 349
        },
        "id": "LVH4Eo_rWV8y",
        "outputId": "6217300e-3d9f-450a-91f3-e0ac8a184360"
      },
      "execution_count": 5,
      "outputs": [
        {
          "output_type": "stream",
          "name": "stdout",
          "text": [
            "Total count for possible combinations of output are:  {'01': 1024}\n"
          ]
        },
        {
          "output_type": "execute_result",
          "data": {
            "text/plain": [
              "<Figure size 504x360 with 1 Axes>"
            ],
            "image/png": "[encoded data removed]"
          },
          "metadata": {},
          "execution_count": 5
        }
      ]
    },
    {
      "cell_type": "markdown",
      "source": [
        "😇 We got the desired result 😇"
      ],
      "metadata": {
        "id": "YjnV0a88WhAa"
      }
    }
  ]
}
