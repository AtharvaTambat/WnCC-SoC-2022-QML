{
  "nbformat": 4,
  "nbformat_minor": 0,
  "metadata": {
    "colab": {
      "name": "Increment 3 Qubit State.ipynb",
      "provenance": [],
      "collapsed_sections": [],
      "authorship_tag": "ABX9TyMc+5feQHzk/SRmJqVqKpiB",
      "include_colab_link": true
    },
    "kernelspec": {
      "name": "python3",
      "display_name": "Python 3"
    },
    "language_info": {
      "name": "python"
    }
  },
  "cells": [
    {
      "cell_type": "markdown",
      "metadata": {
        "id": "view-in-github",
        "colab_type": "text"
      },
      "source": [
        "<a href=\"https://colab.research.google.com/github/AtharvaTambat/WnCC-SoC-2022-QML/blob/main/Increment_3_Qubit_State.ipynb\" target=\"_parent\"><img src=\"https://colab.research.google.com/assets/colab-badge.svg\" alt=\"Open In Colab\"/></a>"
      ]
    },
    {
      "cell_type": "markdown",
      "source": [
        "# **Incrementing 3 Qubit State**"
      ],
      "metadata": {
        "id": "lBtPEh9QYXlr"
      }
    },
    {
      "cell_type": "markdown",
      "source": [
        "## **1. Importing the Necessary Libraries**"
      ],
      "metadata": {
        "id": "bpf5cB4kY1K6"
      }
    },
    {
      "cell_type": "code",
      "execution_count": 2,
      "metadata": {
        "id": "dmwYvgdpXGGc"
      },
      "outputs": [],
      "source": [
        "import matplotlib.pyplot as plt\n",
        "import math\n",
        "import numpy as np\n",
        "from qiskit import QuantumCircuit, transpile\n",
        "from qiskit.providers.aer import AerSimulator\n",
        "from qiskit.visualization import plot_histogram\n",
        "\n",
        "# Use Aer's qasm_simulator\n",
        "simulator = AerSimulator()"
      ]
    },
    {
      "cell_type": "markdown",
      "source": [
        "## **2. The Circuit**"
      ],
      "metadata": {
        "id": "86a2gPK9Y8LJ"
      }
    },
    {
      "cell_type": "code",
      "source": [
        "# User can input n bit number to be incremented by 1\n",
        "n = 3\n",
        "\n",
        "# Creating the Quantum Circuit\n",
        "increment = QuantumCircuit(n,n)\n",
        "\n",
        "# Initializing the qubits for the purpose of demonstration\n",
        "# NOTE: The initial state is |0...011>\n",
        "# Desired output is |0...0100> with probability 1\n",
        "increment.x(0)\n",
        "increment.x(1)\n",
        "increment.barrier()\n",
        "\n",
        "# Applying the required gates\n",
        "increment.x(0)\n",
        "increment.barrier()\n",
        "\n",
        "increment.x(0)\n",
        "increment.cnot(0,1)\n",
        "increment.x(0)\n",
        "increment.barrier()\n",
        "\n",
        "increment.x(1)\n",
        "increment.cnot(1,2)\n",
        "increment.x(1)\n",
        "increment.barrier()\n",
        "\n",
        "# Measuring qubits\n",
        "increment.measure(range(n),range(n))\n",
        "\n",
        "increment.draw()"
      ],
      "metadata": {
        "colab": {
          "base_uri": "https://localhost:8080/",
          "height": 155
        },
        "id": "2iE8QmknY62N",
        "outputId": "37e8bc62-431a-4b5f-e463-0dd474291543"
      },
      "execution_count": 9,
      "outputs": [
        {
          "output_type": "execute_result",
          "data": {
            "text/plain": [
              "     ┌───┐ ░ ┌───┐ ░ ┌───┐     ┌───┐ ░                 ░ ┌─┐      \n",
              "q_0: ┤ X ├─░─┤ X ├─░─┤ X ├──■──┤ X ├─░─────────────────░─┤M├──────\n",
              "     ├───┤ ░ └───┘ ░ └───┘┌─┴─┐└───┘ ░ ┌───┐     ┌───┐ ░ └╥┘┌─┐   \n",
              "q_1: ┤ X ├─░───────░──────┤ X ├──────░─┤ X ├──■──┤ X ├─░──╫─┤M├───\n",
              "     └───┘ ░       ░      └───┘      ░ └───┘┌─┴─┐└───┘ ░  ║ └╥┘┌─┐\n",
              "q_2: ──────░───────░─────────────────░──────┤ X ├──────░──╫──╫─┤M├\n",
              "           ░       ░                 ░      └───┘      ░  ║  ║ └╥┘\n",
              "c: 3/═════════════════════════════════════════════════════╩══╩══╩═\n",
              "                                                          0  1  2 "
            ],
            "text/html": [
              "<pre style=\"word-wrap: normal;white-space: pre;background: #fff0;line-height: 1.1;font-family: &quot;Courier New&quot;,Courier,monospace\">     ┌───┐ ░ ┌───┐ ░ ┌───┐     ┌───┐ ░                 ░ ┌─┐      \n",
              "q_0: ┤ X ├─░─┤ X ├─░─┤ X ├──■──┤ X ├─░─────────────────░─┤M├──────\n",
              "     ├───┤ ░ └───┘ ░ └───┘┌─┴─┐└───┘ ░ ┌───┐     ┌───┐ ░ └╥┘┌─┐   \n",
              "q_1: ┤ X ├─░───────░──────┤ X ├──────░─┤ X ├──■──┤ X ├─░──╫─┤M├───\n",
              "     └───┘ ░       ░      └───┘      ░ └───┘┌─┴─┐└───┘ ░  ║ └╥┘┌─┐\n",
              "q_2: ──────░───────░─────────────────░──────┤ X ├──────░──╫──╫─┤M├\n",
              "           ░       ░                 ░      └───┘      ░  ║  ║ └╥┘\n",
              "c: 3/═════════════════════════════════════════════════════╩══╩══╩═\n",
              "                                                          0  1  2 </pre>"
            ]
          },
          "metadata": {},
          "execution_count": 9
        }
      ]
    },
    {
      "cell_type": "markdown",
      "source": [
        "## **Measuring the Qubits**"
      ],
      "metadata": {
        "id": "g1TRzLiLbypg"
      }
    },
    {
      "cell_type": "code",
      "source": [
        "# Compiling the circuit\n",
        "compiled_circuit = transpile(increment, simulator)\n",
        "\n",
        "shots = 1000000\n",
        "# Execute the circuit on the qasm simulator\n",
        "job = simulator.run(compiled_circuit, shots)\n",
        "\n",
        "# Grab results from the job\n",
        "result = job.result()\n",
        "\n",
        "# Returns counts\n",
        "counts = result.get_counts(increment)\n",
        "print(\"Total count for possible combinations of output are: \", counts)\n",
        "\n",
        "# Plot a histogram\n",
        "plot_histogram(counts)"
      ],
      "metadata": {
        "colab": {
          "base_uri": "https://localhost:8080/",
          "height": 357
        },
        "id": "LhOHXK4Var4J",
        "outputId": "90c35cf5-72ba-44b0-d358-714479a06524"
      },
      "execution_count": 10,
      "outputs": [
        {
          "output_type": "stream",
          "name": "stdout",
          "text": [
            "Total count for possible combinations of output are:  {'100': 1024}\n"
          ]
        },
        {
          "output_type": "execute_result",
          "data": {
            "text/plain": [
              "<Figure size 504x360 with 1 Axes>"
            ],
            "image/png": "[encoded data removed]"
          },
          "metadata": {},
          "execution_count": 10
        }
      ]
    },
    {
      "cell_type": "markdown",
      "source": [
        "🥳 🎉 Woooohoooh!!!!......We got the desired result 🥳 🎉"
      ],
      "metadata": {
        "id": "8mr7K2G-bIVY"
      }
    }
  ]
}