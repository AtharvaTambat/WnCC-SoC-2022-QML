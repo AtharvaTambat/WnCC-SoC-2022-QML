{
  "nbformat": 4,
  "nbformat_minor": 0,
  "metadata": {
    "colab": {
      "name": "Variational Quantum Algorithm for Molecular Geometry Optimization .ipynb",
      "provenance": [],
      "collapsed_sections": [],
      "authorship_tag": "ABX9TyOsNTeGrGCbxV2CQmuWbPho",
      "include_colab_link": true
    },
    "kernelspec": {
      "name": "python3",
      "display_name": "Python 3"
    },
    "language_info": {
      "name": "python"
    }
  },
  "cells": [
    {
      "cell_type": "markdown",
      "metadata": {
        "id": "view-in-github",
        "colab_type": "text"
      },
      "source": [
        "<a href=\"https://colab.research.google.com/github/AtharvaTambat/WnCC-SoC-2022-QML/blob/main/Variational_Quantum_Algorithm_for_Molecular_Geometry_Optimization_.ipynb\" target=\"_parent\"><img src=\"https://colab.research.google.com/assets/colab-badge.svg\" alt=\"Open In Colab\"/></a>"
      ]
    },
    {
      "cell_type": "markdown",
      "source": [
        "# **Introduction**\n",
        "Classical algorithms for predicting the equilibrium geometry of molecules require expensive wavefunction methods that become impractical after just a few molecules.They typically rely on the Newton-Raphson method requiring access to the nuclear gradients and the Hessian of the energy at each optimization step while searching for the global minimum along the potential energy surface. Instead, density functional theory methods are used to obtain approximated geometries.\n",
        "\n",
        "\n",
        "> Here, we introduce a variational quantum algorithm for finding the equilibrium molecular structure of $H_{3}^{+}$ by minimizing the expected (average) value of energy of the Hamiltonian\n",
        "\n"
      ],
      "metadata": {
        "id": "E26ySJgh1kpx"
      }
    },
    {
      "cell_type": "markdown",
      "source": [
        "# **The Algorithm In a Nutshell** 🥥\n",
        "\n",
        "1.   Build a parameterized Hamiltonian using [Jordan-Wigner transformation](https://en.wikipedia.org/wiki/Jordan%E2%80%93Wigner_transformation).\n",
        "2.   Build a trial ground state wavefunction using [Givens Rotation](https://pennylane.ai/qml/demos/tutorial_givens_rotations.html) on a Basis Set of qubits containing the parameters $\\theta_1$ and $\\theta_2$, with respect to which the hamiltonian has to be optimized. For example: \n",
        "\n",
        "> $\\vert\\Psi(\\theta_1, \\theta_2)\\rangle =\n",
        "\\mathrm{cos}(\\theta_1)\\mathrm{cos}(\\theta_2)\\vert110000\\rangle -\n",
        "\\mathrm{cos}(\\theta_1)\\mathrm{sin}(\\theta_2)\\vert000011\\rangle -\n",
        "\\mathrm{sin}(\\theta_1)\\vert001100\\rangle$\n",
        "\n",
        "3. Define a cost function $g(\\theta, x) = \\langle \\Psi(\\theta) \\vert H(x) \\vert\\Psi(\\theta) \\rangle$.\n",
        "\n",
        "4. Minimize the cost function jointly with respect to the nuclear coordinates $x$ (array of 3D coordinates of all the nuclei) and the parameters $\\theta_1$ and $\\theta_2$ of the wavefunction.\n",
        "\n",
        "\n",
        "\n",
        "\n"
      ],
      "metadata": {
        "id": "LhP4URkkHNDy"
      }
    },
    {
      "cell_type": "markdown",
      "source": [
        "# **Building a Parameterized Hamiltonian**\n",
        "\n",
        "1. We first describe the $H_{3}^{+}$ molecule by intializing a set of symbols representing the atom and an array of the initial coordinates of the atoms in 3D."
      ],
      "metadata": {
        "id": "cJ19pvw6MNTY"
      }
    },
    {
      "cell_type": "code",
      "source": [
        "from pennylane import numpy as np\n",
        "\n",
        "symbols = [\"H\", \"H\", \"H\"]\n",
        "x = np.array([0.028, 0.054, 0.0, 0.986, 1.610, 0.0, 1.855, 0.002, 0.0], requires_grad=True) "
      ],
      "metadata": {
        "id": "5zj2Ay6NJ3Kh"
      },
      "execution_count": 4,
      "outputs": []
    },
    {
      "cell_type": "markdown",
      "source": [
        "2. We then use the molecular_hamiltonian() function of to build the molecular hamiltonian of $H_{3}^{+}$ - inside the function H(x) that we have defined. \n",
        "\n",
        "> **THEORY:** Jordan_Wigner transformation is used to represent a fermionic Hamiltonian in terms of linear combination of Pauli Matrices ($\\{I, X, Y, Z\\}$). \n",
        "> \n",
        "$\\ \\ \\ \\ \\ \\ \\ \\ \\ H(x) = \\sum_j h_j(x) \\prod_i^{N} \\sigma_i^{(j)}$\n",
        "> **NOTE:**\n",
        "> 1.   $h_j(x)$ is the coeffecient of the $j^{th}$ term in the expansion of the hamiltonian $H(x)$ .\n",
        "2.   $\\sigma_i$ is the Pauli Operator from the group $\\{I, X, Y, Z\\}$\n",
        "3. N is the number of qubits required to represent the electronic wave function (here, N = 6).\n",
        "\n",
        "\n",
        "\n",
        "\n",
        "\n",
        "\n",
        "\n",
        "\n",
        "\n",
        "\n",
        "\n",
        "\n",
        "\n"
      ],
      "metadata": {
        "id": "IkDgpgMIX7Xi"
      }
    },
    {
      "cell_type": "code",
      "source": [
        "import pennylane as qml \n",
        "\n",
        "# Function to generate a molecular hamiltonian from the given atoms, initial set of coordinates and net charge on the molecule\n",
        "def H(x):\n",
        "    return qml.qchem.molecular_hamiltonian(symbols, x, charge=1)[0]"
      ],
      "metadata": {
        "id": "RLziABOsZij7"
      },
      "execution_count": 5,
      "outputs": []
    },
    {
      "cell_type": "markdown",
      "source": [
        "# **Building a Trial Ground State Wavefunction** \n",
        "1. In ground state $H_3^{+}$, we have two electrons, which have in total 6 \"places\" (3 orbitals $\\cdot$  2 $e^{-}$ per orbital) to occupy.\n",
        "2. Two places in the computational basis state $|c_1c_2c_3c_4c_5c_6\\rangle$ can be assigned to each H-atom in $H_3^{+}$. We assume that the places $\\{c_{2i-1},c_{2i}\\}$ from the list, are assigned to $H_{i}$ (H-atom, numbered $i$).\n",
        "3. Here, $|110000\\rangle$ denotes that the 2 $e^{-}$ reside on H-atom number 1.\n",
        "\n",
        "The ground state wavefunction of $H_3^{+}$ consists of not only this state but, a linear combination of all the possible permutations of $|110000\\rangle$, signifying electrons residing on different H-atoms.\n",
        "\n",
        "\n",
        "\n",
        "> $\\psi = \\sum_j a_j |p_j\\rangle $\n",
        "where, $p_j$ is a permutation of (1,1,0,0,0,0) - each of which represents a compuational basis state.\n",
        "\n",
        "\\\\\n",
        "\n",
        "## **Double and Single Givens Rotation/ Excitation**\n",
        "The permutations required and the linear combinations can be produced simultaneously by using ***excitation gates***. \n",
        "\n",
        "\n",
        "\n",
        "> Consider $G(\\theta) = \\begin{bmatrix}\n",
        "1&0&0&0\\\\\n",
        "0&cos(\\theta)&-sin(\\theta)&0\\\\\n",
        "0&sin(\\theta)&cos(\\theta)&0\\\\\n",
        "0&0&0&1\\\\\n",
        "\\end{bmatrix}$. \n",
        "> This is a two qubit gate, which transorms $|10\\rangle$ to $-sin(\\theta)|01\\rangle + cos(\\theta)|10\\rangle$. Since, it permutes only 1 $e^{-}$, it is called a ***single-excitation gate.***\n",
        "\n",
        "So, it does two things at once - excitation and producing linear superposition/ combination of states representing different occupancy of orbitals by $e^{-}$\n",
        "\n",
        "Similarly, double-excitation gate $G^{(2)}$ couples the states $|1100\\rangle$ and $|0011\\rangle$ differing by a **double excitation.**\n",
        "\n",
        "\n",
        "\n",
        "> $G^{(2)}|1100\\rangle = cos(\\theta)|1100\\rangle − sin(\\theta)|0011\\rangle$\n",
        "\n",
        "> $G^{(2)}|0011\\rangle = cos(\\theta)|0011\\rangle + sin(\\theta)|1100\\rangle$\n",
        "\n",
        "\n",
        "\n",
        "\n",
        "\n",
        "\n",
        "\n",
        "\n",
        "\n"
      ],
      "metadata": {
        "id": "RBGQg0Lx_exs"
      }
    },
    {
      "cell_type": "code",
      "source": [
        "# Generates the occupation-number vector (not the simulated wavefunction) representing the Hartree-Fock state |110000>\n",
        "hf = qml.qchem.hf_state(electrons=2, orbitals=6)\n",
        "print(hf)"
      ],
      "metadata": {
        "colab": {
          "base_uri": "https://localhost:8080/"
        },
        "id": "UqQf9g7pW9OP",
        "outputId": "f56a086f-0a03-43e0-bc90-999a05c7acb1"
      },
      "execution_count": 6,
      "outputs": [
        {
          "output_type": "stream",
          "name": "stdout",
          "text": [
            "[1 1 0 0 0 0]\n"
          ]
        }
      ]
    },
    {
      "cell_type": "markdown",
      "source": [
        "## **Adaptive Algorithm** \n",
        "Instead of using all the double and single excitations to produce the wavefunction, we use a simple shortcut, to reduce the gate count:\n",
        "\n",
        "1. Generate all possible double excitations of the\n",
        "Hartree-Fock reference state. Typically, the dominant contributions to the ground-state correlation energy around the equilibrium geometry comes\n",
        "from the double excitations of the reference state.\n",
        "\n",
        "2. Make a circuit to simulate the wavefunction, and compute the gradient of the cost function with respect to each double-excitation. Retain only those with a non-zero gradient.\n",
        "\n",
        "3. Optimize the parameters of the selected double optimization gates.\n",
        "\n",
        "4. Generate all single excitations of the Hartree-Fock\n",
        "state. Include the optimized double-excitation\n",
        "operations in the circuit. Apply all the single-excitation gates and select those with non-zero gradient.\n",
        "\n",
        "5. Build the final variational quantum circuit by including the selected excitations.\n",
        "\n",
        "On running the above algorithm for $H_3^{+}$, it turns out that only two double-excitation gates, and no single-excitation gates are required."
      ],
      "metadata": {
        "id": "rZsBCyFnhOsk"
      }
    },
    {
      "cell_type": "code",
      "source": [
        "# Making the quantum circuit to simulate wavefunction\n",
        "dev = qml.device(\"default.qubit\", wires=6)\n",
        "\n",
        "# The function inputs:\n",
        "# params - an array consisting of theta_1 and theta_2 for creating the linear superposition as explained before\n",
        "# obs - the observable whose expectation value is to be measured and returned\n",
        "# wires - array representing the wires, on which operations are to be done\n",
        "@qml.qnode(dev)\n",
        "def circuit(params, obs, wires):\n",
        "    qml.BasisState(hf, wires=wires) # Creates the simulated wavefunction corresponding to the numbers in vector hf\n",
        "    \n",
        "    # Generates excitations \n",
        "    qml.DoubleExcitation(params[0], wires=[0, 1, 2, 3])\n",
        "    qml.DoubleExcitation(params[1], wires=[0, 1, 4, 5])\n",
        "\n",
        "    return qml.expval(obs)\n",
        "\n",
        "# Draw the circuit for dummy values of parameters theta_1 and theta_2\n",
        "params = [0.1,0.3]\n",
        "hamiltonian = H(x)\n",
        "drawer = qml.draw(circuit)\n",
        "print(drawer(params, obs = hamiltonian, wires=range(6)))"
      ],
      "metadata": {
        "colab": {
          "base_uri": "https://localhost:8080/"
        },
        "id": "xNz7WkKyfG0P",
        "outputId": "69ad5a08-bb17-421e-971d-e85a6dc01302"
      },
      "execution_count": 7,
      "outputs": [
        {
          "output_type": "stream",
          "name": "stdout",
          "text": [
            "0: ─╭BasisState(M0)─╭G²(0.10)─╭G²(0.30)─┤ ╭<𝓗>\n",
            "1: ─├BasisState(M0)─├G²(0.10)─├G²(0.30)─┤ ├<𝓗>\n",
            "2: ─├BasisState(M0)─├G²(0.10)─│─────────┤ ├<𝓗>\n",
            "3: ─├BasisState(M0)─╰G²(0.10)─│─────────┤ ├<𝓗>\n",
            "4: ─├BasisState(M0)───────────├G²(0.30)─┤ ├<𝓗>\n",
            "5: ─╰BasisState(M0)───────────╰G²(0.30)─┤ ╰<𝓗>\n"
          ]
        }
      ]
    },
    {
      "cell_type": "markdown",
      "source": [
        "**NOTE:** Double-excitation gate, applied to the wires = [0,1,2,3], new state obtained by excitation of $e^{-}$s from wires *0, 1* to *2, 3*; and a superposition with the original state is created.\n",
        "\n",
        "\n",
        "---\n",
        "\n",
        "\n",
        "The circuit prepares the trial state:\n",
        "\n",
        "$\\ \\ \\ \\ \\ \\ \\ \\ \\ \\ \\ \\ \\vert\\Psi(\\theta_1, \\theta_2)\\rangle =\n",
        "\\mathrm{cos}(\\theta_1)\\mathrm{cos}(\\theta_2)\\vert110000\\rangle -\n",
        "\\mathrm{cos}(\\theta_1)\\mathrm{sin}(\\theta_2)\\vert000011\\rangle -\n",
        "\\mathrm{sin}(\\theta_1)\\vert001100\\rangle$\n",
        "\n",
        "where $\\theta_1$ and $\\theta_2$ are the circuit parameters that need to be optimized to find the ground-state energy of the molecule."
      ],
      "metadata": {
        "id": "yE5N8e_CiaLx"
      }
    },
    {
      "cell_type": "markdown",
      "source": [
        "# **Defining the cost function** 💰 💸\n",
        "1. The cost function for this algorithm is $g(\\theta, x) = \\langle \\Psi(\\theta) \\vert H(x) \\vert\\Psi(\\theta) \\rangle$ - the expectation value of the Hamiltonian - which is the total average energy of the molecule.It is the this that we have to minimize in order to find the equilibrium configuration of $H_3^{+}$. So, this serves as a good cost function.\n",
        "\n"
      ],
      "metadata": {
        "id": "vWIlRZhPjvHK"
      }
    },
    {
      "cell_type": "code",
      "source": [
        "# Defining the cost function \n",
        "def cost(params, x):\n",
        "    hamiltonian = H(x)\n",
        "    return circuit(params, obs=hamiltonian, wires=range(6))"
      ],
      "metadata": {
        "id": "niM-fW3HhH3T"
      },
      "execution_count": 8,
      "outputs": []
    },
    {
      "cell_type": "markdown",
      "source": [
        "2. To minimize the cost function by Gradient Descent method, we need to calculate the gardient with respect to both the parameters $\\theta$ and $x$ (which is not a scalar).\n",
        "\n",
        "*   Gradients with respect to $\\theta$ are calculated analytically using the automatic differentiation techniques.\n",
        "*   Gradients with respect to $x$ are calculate using the following user-defined functions, by taking expectation value of gradient of the hamiltonian H(x).\n",
        "\n",
        "$\\ \\ \\ \\ \\ \\ \\ \\ \\ \\ \\ \\ \\ \\ \\ \\ \\nabla_x g(\\theta, x) = \\langle \\Psi(\\theta) \\vert \\nabla_x H(x) \\vert \\Psi(\\theta) \\rangle$\n",
        "\n"
      ],
      "metadata": {
        "id": "nhez9H5Zkz2l"
      }
    },
    {
      "cell_type": "code",
      "source": [
        "# To calculate the gradient wrt all three spatial coordinates (x, y, z)\n",
        "\n",
        "# The function takes inputs:\n",
        "# f - function, whose gradient has to be calculated. f takes an array argument - [x_1, y_1, z_1, x_2, y_2, z_2, x_3, y_3, z_3]\n",
        "# x - array [x_1, y_1, z_1, x_2, y_2, z_2, x_3, y_3, z_3], which represents coordinates of the three H - atoms\n",
        "# delta - the small change in coordinates for calculating gradient\n",
        "def gradient(f, x, delta = 0.01):\n",
        "  gradient = [] # To store the gradient in the form [delH/delx_1, delH/dely_1...delH/delz_3]\n",
        "\n",
        "  for i in range(len(x)):\n",
        "    shift = np.zeros_like(x) # creates an empty array with 9 zeroes - [0,0...0]\n",
        "    shift[i] += 0.5 * delta # creates an array for creating a delta shift in the i^{th} coordinate\n",
        "    grad_value = (f(x + shift) - f(x - shift))* (delta**(-1)) # Partial gradient wrt x_i - (f(x + delta/2) - f(x - delta/2))/delta \n",
        "    gradient.append(grad_value)\n",
        "\n",
        "  return gradient # returns the gradient array - [delH/delx_1, delH/dely_1...delH/delz_3]\n",
        "\n",
        "# To calculate the expectation value of gradients obtained in gradient() function\n",
        "def exp_gradient(params, x):\n",
        "  grad_array = gradient(H,x)\n",
        "  grad_exp = [circuit(params, obs=obs, wires=range(6)) for obs in grad_array]\n",
        "    \n",
        "  return np.array(grad_exp)\n"
      ],
      "metadata": {
        "id": "eoeKdOLKkvZp"
      },
      "execution_count": 9,
      "outputs": []
    },
    {
      "cell_type": "markdown",
      "source": [
        "# **Optimization**\n",
        "Joint minimization of the cost function $g(\\theta,x)$, with respect to $\\theta$ and $x$ is carried out using VQE, rather than nested minimization. "
      ],
      "metadata": {
        "id": "W19R6Y5-vqBQ"
      }
    },
    {
      "cell_type": "code",
      "source": [
        "# Stores the values of the cost function\n",
        "energy = []\n",
        "\n",
        "# Stores the values of the bond length\n",
        "bond_length12 = []\n",
        "bond_length23 = []\n",
        "bond_length31 = []\n",
        "\n",
        "# Stores the position of the 3 atoms\n",
        "x1 = []\n",
        "x2 = []\n",
        "x3 = []\n",
        "y1 = []\n",
        "y2 = []\n",
        "y3 = []"
      ],
      "metadata": {
        "id": "RxG8gcvV5kSK"
      },
      "execution_count": 61,
      "outputs": []
    },
    {
      "cell_type": "code",
      "source": [
        "# Defining optimizers for theta and x\n",
        "theta_optimizer = qml.GradientDescentOptimizer(stepsize=0.4)\n",
        "x_optimizer = qml.GradientDescentOptimizer(stepsize=0.8)\n",
        "\n",
        "# Initializing parameters\n",
        "theta = np.array([0.0, 0.0], requires_grad=True)\n",
        "x = np.array([0,0,0, 2,1,0, 1.5,0,0], requires_grad=True)\n",
        "\n",
        "from functools import partial\n",
        "import math \n",
        "from prettytable import PrettyTable\n",
        "\n",
        "# Specify the Column Names while initializing the Table\n",
        "myTable = PrettyTable([\"Step\", \"Energy (Hartree)\", \"Bond Length H1-H2 (A)\", \"Bond Length H2-H3 (A)\", \"Bond Length H3-H1 (A)\", \"Theta 1 (rad)\", \"Theta 2 (rad)\"])\n",
        "\n",
        "# Factor to convert from Bohrs to Angstroms\n",
        "bohr_angs = 0.529177210903\n",
        "\n",
        "for n in range(100): # Optimizes for 100 steps\n",
        "\n",
        "    # Optimize the circuit parameters\n",
        "    theta.requires_grad = True\n",
        "    x.requires_grad = False\n",
        "    theta, _ = theta_optimizer.step(cost, theta, x)\n",
        "\n",
        "    # Optimize the nuclear coordinates\n",
        "    x.requires_grad = True\n",
        "    theta.requires_grad = False\n",
        "    _, x = x_optimizer.step(cost, theta, x, grad_fn=exp_gradient)\n",
        "\n",
        "    energy.append(cost(theta, x))\n",
        "    bond_length12.append(np.linalg.norm(x[0:3] - x[3:6]) * bohr_angs)\n",
        "    bond_length23.append(np.linalg.norm(x[3:6] - x[6:9]) * bohr_angs)\n",
        "    bond_length31.append(np.linalg.norm(x[6:9] - x[0:3]) * bohr_angs)\n",
        "    \n",
        "\n",
        "    if n%5 == 0:\n",
        "      myTable.add_row([n,energy[n], bond_length12[n], bond_length23[n], bond_length31[n], theta[0], theta[1] ])\n",
        "\n",
        "      x1.append(x[0])\n",
        "      x2.append(x[3])\n",
        "      x3.append(x[6])\n",
        "\n",
        "      y1.append(x[1])\n",
        "      y2.append(x[4])\n",
        "      y3.append(x[7])\n",
        "    \n",
        "    if np.max(exp_gradient(theta, x)) <= 1e-04:\n",
        "        break\n",
        " \n",
        "print(myTable)\n"
      ],
      "metadata": {
        "colab": {
          "base_uri": "https://localhost:8080/"
        },
        "id": "5-6_FPhLule9",
        "outputId": "3c92dab5-0bfe-4f49-b16e-832394a07c80"
      },
      "execution_count": 62,
      "outputs": [
        {
          "output_type": "stream",
          "name": "stdout",
          "text": [
            "+------+---------------------+-----------------------+-----------------------+-----------------------+---------------------+---------------------+\n",
            "| Step |   Energy (Hartree)  | Bond Length H1-H2 (A) | Bond Length H2-H3 (A) | Bond Length H3-H1 (A) |    Theta 1 (rad)    |    Theta 2 (rad)    |\n",
            "+------+---------------------+-----------------------+-----------------------+-----------------------+---------------------+---------------------+\n",
            "|  0   | -1.2348921702155893 |   1.3163923942633002  |   0.8487051285848697  |   0.8066682283677814  | 0.05602321852968775 | 0.05462650240915621 |\n",
            "|  5   | -1.2594042122011984 |   1.2932824866225816  |   0.9079500986220345  |   0.9037372460510954  |  0.1931847474343554 | 0.13865661823140335 |\n",
            "|  10  | -1.2658186883184168 |   1.2127934213959677  |   0.9295813835338799  |   0.9287012669677355  |  0.2238512083473746 | 0.15753852500121543 |\n",
            "|  15  |  -1.270173923996189 |   1.1337499366459198  |   0.9447297281803984  |   0.9444903722059566  | 0.22238281523274395 | 0.16846650725913712 |\n",
            "|  20  |  -1.272762037502891 |   1.0717449253411908  |   0.9579031626973951  |   0.9578237246662974  | 0.21307449290730218 |  0.1770687078360334 |\n",
            "|  25  |  -1.273901897254673 |   1.0313935788680242  |   0.9685814947663999  |   0.9685507049237012  |  0.2044561258171939 |  0.1834396311388409 |\n",
            "|  30  | -1.2742886773379738 |   1.0086977929920344  |   0.9760208395018898  |   0.9760075431075701  | 0.19871937426912642 |  0.1876438040509563 |\n",
            "|  35  | -1.2743993491307184 |   0.9969935626522402  |   0.9805440121881202  |   0.9805378787254179  | 0.19548098418350912 | 0.19016136714806883 |\n",
            "|  40  |  -1.274428196135119 |   0.9911900539763897  |   0.9830469429692017  |   0.9830440085867879  | 0.19380381475604222 | 0.19156461890734927 |\n",
            "|  45  | -1.2744353712633647 |   0.988351075633275   |   0.9843556839664804  |   0.9843542517118342  |  0.1929693870957776 | 0.19230858446290983 |\n",
            "|  50  | -1.2744371158661152 |   0.986964848986574   |   0.9850202956701833  |   0.985019561883854   | 0.19256064339204615 |  0.1926903722792892 |\n",
            "|  55  | -1.2744375356157802 |   0.986280466924383   |   0.9853541372729322  |   0.9853537788859887  | 0.19236066653779502 | 0.19288289350289045 |\n",
            "+------+---------------------+-----------------------+-----------------------+-----------------------+---------------------+---------------------+\n"
          ]
        }
      ]
    },
    {
      "cell_type": "markdown",
      "source": [
        "# **Visualizing the results** 👀"
      ],
      "metadata": {
        "id": "98fmNzy1DcEp"
      }
    },
    {
      "cell_type": "code",
      "source": [
        "import matplotlib.pyplot as plt\n",
        "\n",
        "fig = plt.figure()\n",
        "\n",
        "# Plotting expected value of energy of H_3^{+}\n",
        "E_vqe = np.array(energy)\n",
        "\n",
        "plt.plot(range(len(E_vqe)), E_vqe, marker = 'o')\n",
        "plt.plot(range(len(E_vqe)), np.full(len(E_vqe), -1.2744375 ), color=\"red\")\n",
        "\n",
        "plt.xlabel(\"Optimization step\")\n",
        "plt.ylabel(\"$E_{VQE}$ (Hartree)\")\n",
        "plt.text(30,-1.2725, r\"Equilibrium Energy\")\n",
        "\n",
        "plt.xticks(fontsize=12)\n",
        "plt.yticks(fontsize=12)\n",
        "\n",
        "plt.title(\"Expectation Value of Energy of $H_3^{+}$ Molecule\")\n",
        "plt.show()"
      ],
      "metadata": {
        "colab": {
          "base_uri": "https://localhost:8080/",
          "height": 301
        },
        "id": "ThA4fc6WCpT7",
        "outputId": "bf1707e7-3002-485a-f886-68ffd71fdc0f"
      },
      "execution_count": 63,
      "outputs": [
        {
          "output_type": "display_data",
          "data": {
            "text/plain": [
              "<Figure size 432x288 with 1 Axes>"
            ],
            "image/png": "[encoded data removed]"
          },
          "metadata": {
            "needs_background": "light"
          }
        }
      ]
    },
    {
      "cell_type": "code",
      "source": [
        "# Plotting the bond length of H_3^{+}\n",
        "plt.figure()\n",
        "\n",
        "bondlength = np.array(bond_length12)\n",
        "\n",
        "plt.plot(range(len(bondlength)), bondlength, marker = 'o')\n",
        "plt.plot(range(len(bondlength)), np.full(len(bondlength), 0.986), color=\"red\")\n",
        "\n",
        "# plt.ylim([0.965, 0.99])\n",
        "plt.xlabel(\"Optimization step\")\n",
        "plt.ylabel(\"Bond Length ($\\AA$)\")\n",
        "plt.text(5, 0.995, r\"Equilibrium bond length\")\n",
        "\n",
        "plt.xticks(fontsize=12)\n",
        "plt.yticks(fontsize=12)\n",
        "\n",
        "plt.title(\"Bond length of $H_3^{+}$ Molecule\")"
      ],
      "metadata": {
        "colab": {
          "base_uri": "https://localhost:8080/",
          "height": 318
        },
        "id": "qvWQsTWO5VMG",
        "outputId": "75ed1c49-c5b9-4f85-8177-da42486705e9"
      },
      "execution_count": 64,
      "outputs": [
        {
          "output_type": "execute_result",
          "data": {
            "text/plain": [
              "Text(0.5, 1.0, 'Bond length of $H_3^{+}$ Molecule')"
            ]
          },
          "metadata": {},
          "execution_count": 64
        },
        {
          "output_type": "display_data",
          "data": {
            "text/plain": [
              "<Figure size 432x288 with 1 Axes>"
            ],
            "image/png": "[encoded data removed]"
          },
          "metadata": {
            "needs_background": "light"
          }
        }
      ]
    },
    {
      "cell_type": "markdown",
      "source": [
        "## **Watch the VQE Algorithm in Action!!!! 😏**\n",
        "The following series of subplots, show the three H-atoms of $H_3^{+}$, as multi-coloured circles, as the algorithm works. \n",
        "\n",
        "**NOTE:** The radius of the circle, is not indicative of the actual radius of the H-atom. "
      ],
      "metadata": {
        "id": "wMKh9dAZJeQ0"
      }
    },
    {
      "cell_type": "code",
      "source": [
        "# Plotting the H-atoms on a 2D x - y plane for visualization of the gradient descent process\n",
        "plt.figure(figsize=(20,25))\n",
        "\n",
        "for i in range(len(x1)):\n",
        "  plt.subplot(5,4,(i+1))\n",
        "\n",
        "  plt.xticks(fontsize=12)\n",
        "  plt.yticks(fontsize=12)\n",
        "\n",
        "  # Set the x and y limits accordingly, if you are changing the initial coordinate values of the atoms\n",
        "  limit = 3\n",
        "  plt.xlim([-limit,limit])\n",
        "  plt.ylim([-limit,limit])\n",
        "\n",
        "  plt.plot(x1[i], y1[i], 'ro',linewidth=2, markersize = 35)\n",
        "  plt.plot(x2[i], y2[i], 'go',linewidth=2, markersize = 35)\n",
        "  plt.plot(x3[i], y3[i], 'bo',linewidth=2, markersize = 35)\n",
        "\n",
        "  plt.title('Step: %i'% (5*(i)), fontsize=12)"
      ],
      "metadata": {
        "colab": {
          "base_uri": "https://localhost:8080/",
          "height": 864
        },
        "id": "o1qCZrPlNr57",
        "outputId": "2c3605c7-abcb-4cdf-c23c-75c309c95867"
      },
      "execution_count": 66,
      "outputs": [
        {
          "output_type": "display_data",
          "data": {
            "text/plain": [
              "<Figure size 1440x1800 with 12 Axes>"
            ],
            "image/png": "[encoded data removed]"
          },
          "metadata": {
            "needs_background": "light"
          }
        }
      ]
    },
    {
      "cell_type": "markdown",
      "source": [
        "# **Conclusion**\n"
      ],
      "metadata": {
        "id": "m9SmPrnZWZBg"
      }
    },
    {
      "cell_type": "code",
      "source": [
        "print(\"Equilibrium values as calculated by the Variational Quantum Algorithm\")\n",
        "myTable2 = PrettyTable([\"Energy (Hartree)\", \"Bond Length H1-H2 (A)\", \"Bond Length H2-H3 (A)\", \"Bond Length H3-H1 (A)\", \"Theta 1 (rad)\", \"Theta 2 (rad)\"])\n",
        "myTable2.add_row([energy[n], bond_length12[n], bond_length23[n], bond_length31[n], theta[0], theta[1] ])\n",
        "print(myTable2)"
      ],
      "metadata": {
        "colab": {
          "base_uri": "https://localhost:8080/"
        },
        "id": "q9x_F4lNVNMZ",
        "outputId": "976ba8c7-6cff-4473-c2a5-f1d223e86f65"
      },
      "execution_count": 68,
      "outputs": [
        {
          "output_type": "stream",
          "name": "stdout",
          "text": [
            "Equilibrium values as calculated by the Variational Quantum Algorithm\n",
            "+---------------------+-----------------------+-----------------------+-----------------------+---------------------+---------------------+\n",
            "|   Energy (Hartree)  | Bond Length H1-H2 (A) | Bond Length H2-H3 (A) | Bond Length H3-H1 (A) |    Theta 1 (rad)    |    Theta 2 (rad)    |\n",
            "+---------------------+-----------------------+-----------------------+-----------------------+---------------------+---------------------+\n",
            "| -1.2744375917889832 |   0.9861182642812559  |   0.9854340531347746  |   0.9854337868872547  | 0.19231291441431386 | 0.19292950108827045 |\n",
            "+---------------------+-----------------------+-----------------------+-----------------------+---------------------+---------------------+\n"
          ]
        }
      ]
    },
    {
      "cell_type": "markdown",
      "source": [
        "The applicability of Variational Quantum Algorithm could also be extended to target Hamiltonians of other molecules and to get a deeper insight in other molecular properties.\n",
        "\n",
        "To summarize:\n",
        "\n",
        "<p align=\"center\">\n",
        "<img src='https://drive.google.com/uc?id=14Jz6T4kGue8m7dMQ2xppZOTbSipzp9D1' width=\"350\"/>\n",
        "</p>"
      ],
      "metadata": {
        "id": "atRPuwcfX04T"
      }
    },
    {
      "cell_type": "code",
      "source": [
        ""
      ],
      "metadata": {
        "id": "Ssoqho9VbuOS"
      },
      "execution_count": null,
      "outputs": []
    }
  ]
}