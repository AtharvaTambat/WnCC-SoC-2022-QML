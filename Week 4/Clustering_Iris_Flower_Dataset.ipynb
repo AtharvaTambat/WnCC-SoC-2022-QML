{
  "nbformat": 4,
  "nbformat_minor": 0,
  "metadata": {
    "colab": {
      "name": "Clustering - Iris Flower Dataset.ipynb",
      "provenance": [],
      "authorship_tag": "ABX9TyOVgxaqHyuJj1fMv6m5BusG",
      "include_colab_link": true
    },
    "kernelspec": {
      "name": "python3",
      "display_name": "Python 3"
    },
    "language_info": {
      "name": "python"
    }
  },
  "cells": [
    {
      "cell_type": "markdown",
      "metadata": {
        "id": "view-in-github",
        "colab_type": "text"
      },
      "source": [
        "<a href=\"https://colab.research.google.com/github/AtharvaTambat/WnCC-SoC-2022-QML/blob/main/Clustering_Iris_Flower_Dataset.ipynb\" target=\"_parent\"><img src=\"https://colab.research.google.com/assets/colab-badge.svg\" alt=\"Open In Colab\"/></a>"
      ]
    },
    {
      "cell_type": "markdown",
      "source": [
        "# **1. Importing iris data from the .csv file to NumPy arrays**"
      ],
      "metadata": {
        "id": "Wn25a9XykJDD"
      }
    },
    {
      "cell_type": "code",
      "source": [
        "import pandas as pd\n",
        "import numpy as np\n",
        "\n",
        "df = pd.read_csv(\"/content/drive/MyDrive/Colab Notebooks/Iris.csv\")\n",
        "\n",
        "print(df)"
      ],
      "metadata": {
        "colab": {
          "base_uri": "https://localhost:8080/"
        },
        "id": "LomGr965EHDN",
        "outputId": "32fbbccf-f9e5-433f-c5e9-f039b3c1f2ca"
      },
      "execution_count": 2,
      "outputs": [
        {
          "output_type": "stream",
          "name": "stdout",
          "text": [
            "      Id  SepalLengthCm  SepalWidthCm  PetalLengthCm  PetalWidthCm  \\\n",
            "0      1            5.1           3.5            1.4           0.2   \n",
            "1      2            4.9           3.0            1.4           0.2   \n",
            "2      3            4.7           3.2            1.3           0.2   \n",
            "3      4            4.6           3.1            1.5           0.2   \n",
            "4      5            5.0           3.6            1.4           0.2   \n",
            "..   ...            ...           ...            ...           ...   \n",
            "145  146            6.7           3.0            5.2           2.3   \n",
            "146  147            6.3           2.5            5.0           1.9   \n",
            "147  148            6.5           3.0            5.2           2.0   \n",
            "148  149            6.2           3.4            5.4           2.3   \n",
            "149  150            5.9           3.0            5.1           1.8   \n",
            "\n",
            "            Species  \n",
            "0       Iris-setosa  \n",
            "1       Iris-setosa  \n",
            "2       Iris-setosa  \n",
            "3       Iris-setosa  \n",
            "4       Iris-setosa  \n",
            "..              ...  \n",
            "145  Iris-virginica  \n",
            "146  Iris-virginica  \n",
            "147  Iris-virginica  \n",
            "148  Iris-virginica  \n",
            "149  Iris-virginica  \n",
            "\n",
            "[150 rows x 6 columns]\n"
          ]
        }
      ]
    },
    {
      "cell_type": "code",
      "source": [
        "sepal_length = np.array(df[\"SepalLengthCm\"])\n",
        "sepal_width = np.array(df[\"SepalWidthCm\"])\n",
        "petal_length = np.array(df[\"PetalLengthCm\"])\n",
        "petal_width = np.array(df[\"PetalWidthCm\"])"
      ],
      "metadata": {
        "id": "A0b2NrXMFYIb"
      },
      "execution_count": 21,
      "outputs": []
    },
    {
      "cell_type": "markdown",
      "source": [
        "# **2. Multidimentional clustering of features like sepal length, width, petal length and width.**"
      ],
      "metadata": {
        "id": "zJcAGkbhnGve"
      }
    },
    {
      "cell_type": "code",
      "source": [
        "from sklearn.cluster import KMeans\n",
        "\n",
        "X = np.array(df.iloc[:,[1,2,3,4]])\n",
        "kmeans = KMeans(n_clusters=3, random_state=0).fit(X)\n",
        "cluster = kmeans.labels_\n",
        "\n",
        "print (cluster)"
      ],
      "metadata": {
        "colab": {
          "base_uri": "https://localhost:8080/"
        },
        "id": "qBYo4NLklfeS",
        "outputId": "df8e9207-985e-41df-b438-b8e85eec6485"
      },
      "execution_count": 26,
      "outputs": [
        {
          "output_type": "stream",
          "name": "stdout",
          "text": [
            "[1 1 1 1 1 1 1 1 1 1 1 1 1 1 1 1 1 1 1 1 1 1 1 1 1 1 1 1 1 1 1 1 1 1 1 1 1\n",
            " 1 1 1 1 1 1 1 1 1 1 1 1 1 0 0 2 0 0 0 0 0 0 0 0 0 0 0 0 0 0 0 0 0 0 0 0 0\n",
            " 0 0 0 2 0 0 0 0 0 0 0 0 0 0 0 0 0 0 0 0 0 0 0 0 0 0 2 0 2 2 2 2 0 2 2 2 2\n",
            " 2 2 0 0 2 2 2 2 0 2 0 2 0 2 2 0 0 2 2 2 2 2 0 2 2 2 2 0 2 2 2 0 2 2 2 0 2\n",
            " 2 0]\n"
          ]
        }
      ]
    },
    {
      "cell_type": "markdown",
      "source": [
        "# **3. Clustering of only iris sepal data (also multidimentional 😜, but can be visualised on 2D graph)**"
      ],
      "metadata": {
        "id": "LS4r3AWMnVqN"
      }
    },
    {
      "cell_type": "markdown",
      "source": [
        "## **3.1 Visualising the data**"
      ],
      "metadata": {
        "id": "N2t8l-_Zn08r"
      }
    },
    {
      "cell_type": "code",
      "source": [
        "import matplotlib.pyplot as plt\n",
        "\n",
        "plt.scatter(sepal_length, sepal_width,s = 10, color=\"blue\")\n",
        "\n",
        "x_ticks = np.arange(int(np.min(sepal_length)), np.max(sepal_length))\n",
        "y_ticks = np.arange(int(np.min(sepal_width)), np.max(sepal_width))\n",
        "\n",
        "plt.xticks(x_ticks)\n",
        "plt.yticks(y_ticks)\n",
        "\n",
        "plt.xlabel(\"Sepal Length (cm)\")\n",
        "plt.ylabel(\"Sepal Width (cm)\")\n",
        "\n",
        "plt.show()"
      ],
      "metadata": {
        "colab": {
          "base_uri": "https://localhost:8080/",
          "height": 279
        },
        "id": "ekSkvssuVpKS",
        "outputId": "d755b40f-0732-4b83-923e-3565428c6d99"
      },
      "execution_count": 11,
      "outputs": [
        {
          "output_type": "display_data",
          "data": {
            "text/plain": [
              "<Figure size 432x288 with 1 Axes>"
            ],
            "image/png": "[encoded data removed]"
          },
          "metadata": {
            "needs_background": "light"
          }
        }
      ]
    },
    {
      "cell_type": "markdown",
      "source": [
        "## **3.2 Implementing Clustering algorithm**"
      ],
      "metadata": {
        "id": "7AOzZXcGn62x"
      }
    },
    {
      "cell_type": "code",
      "source": [
        "from sklearn.cluster import KMeans\n",
        "\n",
        "X = np.array(df.iloc[:,[1,2]])\n",
        "kmeans = KMeans(n_clusters=2, random_state=0).fit(X)\n",
        "cluster = kmeans.labels_\n",
        "\n",
        "print (cluster)"
      ],
      "metadata": {
        "colab": {
          "base_uri": "https://localhost:8080/"
        },
        "id": "eNyervMLUf7z",
        "outputId": "0f9ff50a-cd60-48af-c8f7-8179c3a12681"
      },
      "execution_count": 13,
      "outputs": [
        {
          "output_type": "stream",
          "name": "stdout",
          "text": [
            "[0 0 0 0 0 0 0 0 0 0 0 0 0 0 0 0 0 0 0 0 0 0 0 0 0 0 0 0 0 0 0 0 0 0 0 0 0\n",
            " 0 0 0 0 0 0 0 0 0 0 0 0 0 1 1 1 0 1 0 1 0 1 0 0 0 1 1 0 1 0 0 1 0 0 1 1 1\n",
            " 1 1 1 1 1 0 0 0 0 1 0 1 1 1 0 0 0 1 0 0 0 0 0 1 0 0 1 0 1 1 1 1 0 1 1 1 1\n",
            " 1 1 0 0 1 1 1 1 1 1 0 1 1 1 1 1 1 1 1 1 1 1 1 1 1 1 1 1 1 1 1 0 1 1 1 1 1\n",
            " 1 0]\n"
          ]
        }
      ]
    },
    {
      "cell_type": "markdown",
      "source": [
        "## **3.3 Visualising clustered data**"
      ],
      "metadata": {
        "id": "VWRDiB_voDwx"
      }
    },
    {
      "cell_type": "code",
      "source": [
        "cluster1 = []\n",
        "cluster2 = []\n",
        "categories = np.array(cluster)\n",
        "colormap = np.array(['r','g'])\n",
        "\n",
        "for i in np.arange(len(cluster)):\n",
        "  if cluster[i] == 1:\n",
        "    cluster1.append(sepal_width[i])\n",
        "\n",
        "  else:\n",
        "    cluster2.append(sepal_width[i])\n",
        "\n",
        "plt.scatter(sepal_length, sepal_width,s = 10, c = colormap[categories])\n",
        "\n",
        "x_ticks = np.arange(int(np.min(sepal_length)), np.max(sepal_length))\n",
        "y_ticks = np.arange(int(np.min(sepal_width)), np.max(sepal_width))\n",
        "\n",
        "plt.xticks(x_ticks)\n",
        "plt.yticks(y_ticks)\n",
        "\n",
        "plt.xlabel(\"Sepal Length (cm)\")\n",
        "plt.ylabel(\"Sepal Width (cm)\")\n",
        "\n",
        "plt.show()\n"
      ],
      "metadata": {
        "colab": {
          "base_uri": "https://localhost:8080/",
          "height": 279
        },
        "id": "QCwhfo5uZLub",
        "outputId": "83395ea6-a7e3-4832-88d0-645c892f944b"
      },
      "execution_count": 20,
      "outputs": [
        {
          "output_type": "display_data",
          "data": {
            "text/plain": [
              "<Figure size 432x288 with 1 Axes>"
            ],
            "image/png": "[encoded data removed]"
          },
          "metadata": {
            "needs_background": "light"
          }
        }
      ]
    },
    {
      "cell_type": "markdown",
      "source": [
        "# **4. Clustering of only iris petal data (also multidimentional 😜, but can be visualised on 2D graph)**"
      ],
      "metadata": {
        "id": "H4zRV9DMoMIg"
      }
    },
    {
      "cell_type": "markdown",
      "source": [
        "## **4.1 Visualising the data**"
      ],
      "metadata": {
        "id": "9m47yRaGoRiS"
      }
    },
    {
      "cell_type": "code",
      "source": [
        "plt.scatter(petal_length, petal_width,s = 10, color=\"blue\")\n",
        "\n",
        "x_ticks = np.arange(int(np.min(petal_length)), np.max(petal_length))\n",
        "y_ticks = np.arange(int(np.min(petal_width)), np.max(petal_width))\n",
        "\n",
        "plt.xticks(x_ticks)\n",
        "plt.yticks(y_ticks)\n",
        "\n",
        "plt.xlabel(\"Petal Length (cm)\")\n",
        "plt.ylabel(\"Petal Width (cm)\")\n",
        "\n",
        "plt.show()"
      ],
      "metadata": {
        "colab": {
          "base_uri": "https://localhost:8080/",
          "height": 279
        },
        "id": "epASalIIaPeA",
        "outputId": "ebc8a18a-75ee-47cd-c7d2-deb7eeeeffdc"
      },
      "execution_count": 22,
      "outputs": [
        {
          "output_type": "display_data",
          "data": {
            "text/plain": [
              "<Figure size 432x288 with 1 Axes>"
            ],
            "image/png": "[encoded data removed]"
          },
          "metadata": {
            "needs_background": "light"
          }
        }
      ]
    },
    {
      "cell_type": "markdown",
      "source": [
        "## **4.2 Implementing Clustering algorithm**"
      ],
      "metadata": {
        "id": "cF84LdEAoYAk"
      }
    },
    {
      "cell_type": "code",
      "source": [
        "from sklearn.cluster import KMeans\n",
        "\n",
        "X = np.array(df.iloc[:,[3,4]])\n",
        "kmeans = KMeans(n_clusters=2, random_state=0).fit(X)\n",
        "cluster = kmeans.labels_\n",
        "\n",
        "print (cluster)"
      ],
      "metadata": {
        "colab": {
          "base_uri": "https://localhost:8080/"
        },
        "id": "gNFiQ_4Zk_Kx",
        "outputId": "9ca6159c-c3b2-4f35-83eb-c5c16aaf269b"
      },
      "execution_count": 23,
      "outputs": [
        {
          "output_type": "stream",
          "name": "stdout",
          "text": [
            "[0 0 0 0 0 0 0 0 0 0 0 0 0 0 0 0 0 0 0 0 0 0 0 0 0 0 0 0 0 0 0 0 0 0 0 0 0\n",
            " 0 0 0 0 0 0 0 0 0 0 0 0 0 1 1 1 1 1 1 1 1 1 1 1 1 1 1 1 1 1 1 1 1 1 1 1 1\n",
            " 1 1 1 1 1 1 1 1 1 1 1 1 1 1 1 1 1 1 1 1 1 1 1 1 0 1 1 1 1 1 1 1 1 1 1 1 1\n",
            " 1 1 1 1 1 1 1 1 1 1 1 1 1 1 1 1 1 1 1 1 1 1 1 1 1 1 1 1 1 1 1 1 1 1 1 1 1\n",
            " 1 1]\n"
          ]
        }
      ]
    },
    {
      "cell_type": "markdown",
      "source": [
        "## **4.3 Visualising clustered data**"
      ],
      "metadata": {
        "id": "vHBcU2VnoboF"
      }
    },
    {
      "cell_type": "code",
      "source": [
        "cluster1 = []\n",
        "cluster2 = []\n",
        "categories = np.array(cluster)\n",
        "colormap = np.array(['r','g'])\n",
        "\n",
        "for i in np.arange(len(cluster)):\n",
        "  if cluster[i] == 1:\n",
        "    cluster1.append(petal_width[i])\n",
        "\n",
        "  else:\n",
        "    cluster2.append(petal_width[i])\n",
        "\n",
        "plt.scatter(petal_length, petal_width,s = 10, c = colormap[categories])\n",
        "\n",
        "x_ticks = np.arange(int(np.min(petal_length)), np.max(petal_length))\n",
        "y_ticks = np.arange(int(np.min(petal_width)), np.max(petal_width))\n",
        "\n",
        "plt.xticks(x_ticks)\n",
        "plt.yticks(y_ticks)\n",
        "\n",
        "plt.xlabel(\"Petal Length (cm)\")\n",
        "plt.ylabel(\"Petal Width (cm)\")\n",
        "\n",
        "plt.show()"
      ],
      "metadata": {
        "colab": {
          "base_uri": "https://localhost:8080/",
          "height": 279
        },
        "id": "ihHYzw4jk4gR",
        "outputId": "5e7a2bdb-422e-4b93-bab9-1cb18a8d0fc2"
      },
      "execution_count": 24,
      "outputs": [
        {
          "output_type": "display_data",
          "data": {
            "text/plain": [
              "<Figure size 432x288 with 1 Axes>"
            ],
            "image/png": "[encoded data removed]"
          },
          "metadata": {
            "needs_background": "light"
          }
        }
      ]
    },
    {
      "cell_type": "code",
      "source": [
        ""
      ],
      "metadata": {
        "id": "tXBvnuHslXkn"
      },
      "execution_count": null,
      "outputs": []
    }
  ]
}
