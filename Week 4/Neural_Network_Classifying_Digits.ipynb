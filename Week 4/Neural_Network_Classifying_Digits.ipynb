{
  "nbformat": 4,
  "nbformat_minor": 0,
  "metadata": {
    "colab": {
      "name": "Neural Network - Classifying Digits.ipynb",
      "provenance": [],
      "collapsed_sections": [],
      "authorship_tag": "ABX9TyPA36G8D75M2x7q/XdQ4P+A",
      "include_colab_link": true
    },
    "kernelspec": {
      "name": "python3",
      "display_name": "Python 3"
    },
    "language_info": {
      "name": "python"
    }
  },
  "cells": [
    {
      "cell_type": "markdown",
      "metadata": {
        "id": "view-in-github",
        "colab_type": "text"
      },
      "source": [
        "<a href=\"https://colab.research.google.com/github/AtharvaTambat/WnCC-SoC-2022-QML/blob/main/Neural_Network_Classifying_Digits.ipynb\" target=\"_parent\"><img src=\"https://colab.research.google.com/assets/colab-badge.svg\" alt=\"Open In Colab\"/></a>"
      ]
    },
    {
      "cell_type": "markdown",
      "source": [
        "# **1. Importing the Necessary Libraries**"
      ],
      "metadata": {
        "id": "vBi13-jw2u6l"
      }
    },
    {
      "cell_type": "code",
      "execution_count": 10,
      "metadata": {
        "id": "BOR9bgW4zusJ"
      },
      "outputs": [],
      "source": [
        "# TensorFlow and tf.keras\n",
        "import tensorflow as tf\n",
        "\n",
        "# Helper libraries\n",
        "import numpy as np\n",
        "import matplotlib.pyplot as plt\n"
      ]
    },
    {
      "cell_type": "markdown",
      "source": [
        "# **2. Importing MNIST Digit Dataset**"
      ],
      "metadata": {
        "id": "Ossv1WTW23Vf"
      }
    },
    {
      "cell_type": "code",
      "source": [
        "from tensorflow.keras.datasets import mnist\n",
        "(X_train, Y_train), (X_test, Y_test) = mnist.load_data()"
      ],
      "metadata": {
        "id": "y6i906pD0abz"
      },
      "execution_count": 11,
      "outputs": []
    },
    {
      "cell_type": "markdown",
      "source": [
        "# **3. Visualising/ Exploring the Dataset**"
      ],
      "metadata": {
        "id": "jNEcX1l_292M"
      }
    },
    {
      "cell_type": "code",
      "source": [
        "print('MNIST Dataset Shape:')\n",
        "print('X_train: ' + str(X_train.shape))\n",
        "print('Y_train: ' + str(Y_train.shape))\n",
        "print('X_test:  '  + str(X_test.shape))\n",
        "print('Y_test:  '  + str(Y_test.shape))"
      ],
      "metadata": {
        "colab": {
          "base_uri": "https://localhost:8080/"
        },
        "id": "tUA9u-rK1VEA",
        "outputId": "670a4c88-4e04-4019-d068-f84eedae1fcc"
      },
      "execution_count": 12,
      "outputs": [
        {
          "output_type": "stream",
          "name": "stdout",
          "text": [
            "MNIST Dataset Shape:\n",
            "X_train: (60000, 28, 28)\n",
            "Y_train: (60000,)\n",
            "X_test:  (10000, 28, 28)\n",
            "Y_test:  (10000,)\n"
          ]
        }
      ]
    },
    {
      "cell_type": "code",
      "source": [
        "plt.figure()\n",
        "plt.imshow(X_train[1])\n",
        "plt.colorbar()\n",
        "plt.grid(True)\n",
        "plt.show()"
      ],
      "metadata": {
        "colab": {
          "base_uri": "https://localhost:8080/",
          "height": 265
        },
        "id": "ndYssl1a1duZ",
        "outputId": "19d781a7-1f43-4832-922a-b51390c14926"
      },
      "execution_count": 13,
      "outputs": [
        {
          "output_type": "display_data",
          "data": {
            "text/plain": [
              "<Figure size 432x288 with 2 Axes>"
            ],
            "image/png": "[encoded data removed]"
          },
          "metadata": {
            "needs_background": "light"
          }
        }
      ]
    },
    {
      "cell_type": "markdown",
      "source": [
        "# **4. Some Pre-Processing of the Training Dataset**"
      ],
      "metadata": {
        "id": "aU5fxoz54xmH"
      }
    },
    {
      "cell_type": "code",
      "source": [
        "# Divide the input pixel brightness by 255 to scale the input values to the neural network between 0 to 1\n",
        "X_train = X_train / 255.0\n",
        "X_test = X_test / 255.0\n",
        "\n",
        "# To verify that the data is in the correct format \n",
        "plt.figure(figsize=(10,10))\n",
        "for i in range(16):\n",
        "    plt.subplot(4,4,i+1) # Divides the plot into 4X4 subplots and goes to the (i+1)th subplot \n",
        "    plt.xticks([]) # To not display any ticks on both the axes\n",
        "    plt.yticks([])\n",
        "    plt.grid(False) # To not display the grid\n",
        "    plt.imshow(X_train[i], cmap=plt.cm.binary) # To display the appropriate image in the (i+1)th subplot\n",
        "    plt.xlabel(Y_train[i]) # To label the number shown in the (i+1)th subplot\n",
        "plt.show()"
      ],
      "metadata": {
        "colab": {
          "base_uri": "https://localhost:8080/",
          "height": 589
        },
        "id": "Kvgi_io22Ms1",
        "outputId": "df13d83a-2a05-4e5a-95b5-37c53f2df97a"
      },
      "execution_count": 14,
      "outputs": [
        {
          "output_type": "display_data",
          "data": {
            "text/plain": [
              "<Figure size 720x720 with 16 Axes>"
            ],
            "image/png": "[encoded data removed]"
          },
          "metadata": {}
        }
      ]
    },
    {
      "cell_type": "markdown",
      "source": [
        "# **5. Setting up the Layers**"
      ],
      "metadata": {
        "id": "tmtVuaPzyH03"
      }
    },
    {
      "cell_type": "code",
      "source": [
        "model = tf.keras.Sequential([\n",
        "    tf.keras.layers.Flatten(input_shape=(28, 28)), # Transforms 2D array of the image into a 1D array \n",
        "    tf.keras.layers.Dense(128, activation='relu'), # Contains neurons with weights and biases that will be optimized by training\n",
        "    tf.keras.layers.Dense(10) # Output set of neurons\n",
        "])"
      ],
      "metadata": {
        "id": "oOc5JT0Z3x9J"
      },
      "execution_count": 15,
      "outputs": []
    },
    {
      "cell_type": "markdown",
      "source": [
        "***NOTE:***  ReLU (Rectified Linear Unit): Is an activation function used here inside the neuron (node) instead of the sigmoid function. More information about [activation = 'relu'](https://deepai.org/machine-learning-glossary-and-terms/relu)"
      ],
      "metadata": {
        "id": "hMwz7KuQg_lh"
      }
    },
    {
      "cell_type": "markdown",
      "source": [
        "# **6. Compiling the Model**"
      ],
      "metadata": {
        "id": "2Ja4SkovyNib"
      }
    },
    {
      "cell_type": "code",
      "source": [
        "model.compile(optimizer='adam', loss=tf.keras.losses.SparseCategoricalCrossentropy(from_logits=True), metrics=['accuracy'])"
      ],
      "metadata": {
        "id": "VpBmApo-9JdJ"
      },
      "execution_count": 16,
      "outputs": []
    },
    {
      "cell_type": "markdown",
      "source": [
        "***NOTE:*** \n",
        "\n",
        "1.   ***Optimizer:*** used to accelerate the gradient descent algorithm.(here, [Adam](https://www.geeksforgeeks.org/intuition-of-adam-optimizer/) is the name of the optimizer)\n",
        "2.   ***Loss function:*** another name for cost function - which is to be minimized for finding the weights and the biases.\n",
        "3.   ***Metrics:*** the parameter on which the performance of the algorithm will be judged. (here, the accuracy - no. of test cases it identifies correctly).\n",
        "\n"
      ],
      "metadata": {
        "id": "w-Ei7cI_in4y"
      }
    },
    {
      "cell_type": "markdown",
      "source": [
        "# **7. Training the model**"
      ],
      "metadata": {
        "id": "coeTKi44yU6C"
      }
    },
    {
      "cell_type": "code",
      "source": [
        "model.fit(X_train, Y_train, epochs=15)"
      ],
      "metadata": {
        "colab": {
          "base_uri": "https://localhost:8080/"
        },
        "id": "CLnXzdlpiqUk",
        "outputId": "953220a8-89f6-4410-f7bd-8645d37399d8"
      },
      "execution_count": 17,
      "outputs": [
        {
          "output_type": "stream",
          "name": "stdout",
          "text": [
            "Epoch 1/15\n",
            "1875/1875 [==============================] - 6s 3ms/step - loss: 0.2632 - accuracy: 0.9252\n",
            "Epoch 2/15\n",
            "1875/1875 [==============================] - 5s 3ms/step - loss: 0.1160 - accuracy: 0.9653\n",
            "Epoch 3/15\n",
            "1875/1875 [==============================] - 5s 3ms/step - loss: 0.0799 - accuracy: 0.9758\n",
            "Epoch 4/15\n",
            "1875/1875 [==============================] - 5s 3ms/step - loss: 0.0594 - accuracy: 0.9820\n",
            "Epoch 5/15\n",
            "1875/1875 [==============================] - 5s 3ms/step - loss: 0.0467 - accuracy: 0.9859\n",
            "Epoch 6/15\n",
            "1875/1875 [==============================] - 5s 3ms/step - loss: 0.0363 - accuracy: 0.9887\n",
            "Epoch 7/15\n",
            "1875/1875 [==============================] - 5s 3ms/step - loss: 0.0277 - accuracy: 0.9916\n",
            "Epoch 8/15\n",
            "1875/1875 [==============================] - 5s 2ms/step - loss: 0.0235 - accuracy: 0.9926\n",
            "Epoch 9/15\n",
            "1875/1875 [==============================] - 5s 3ms/step - loss: 0.0191 - accuracy: 0.9944\n",
            "Epoch 10/15\n",
            "1875/1875 [==============================] - 5s 2ms/step - loss: 0.0158 - accuracy: 0.9948\n",
            "Epoch 11/15\n",
            "1875/1875 [==============================] - 4s 2ms/step - loss: 0.0136 - accuracy: 0.9958\n",
            "Epoch 12/15\n",
            "1875/1875 [==============================] - 5s 3ms/step - loss: 0.0116 - accuracy: 0.9962\n",
            "Epoch 13/15\n",
            "1875/1875 [==============================] - 5s 2ms/step - loss: 0.0099 - accuracy: 0.9967\n",
            "Epoch 14/15\n",
            "1875/1875 [==============================] - 5s 3ms/step - loss: 0.0087 - accuracy: 0.9971\n",
            "Epoch 15/15\n",
            "1875/1875 [==============================] - 5s 2ms/step - loss: 0.0075 - accuracy: 0.9975\n"
          ]
        },
        {
          "output_type": "execute_result",
          "data": {
            "text/plain": [
              "<keras.callbacks.History at 0x7fed41655c10>"
            ]
          },
          "metadata": {},
          "execution_count": 17
        }
      ]
    },
    {
      "cell_type": "markdown",
      "source": [
        "# **8. Testing the Model on the Test-case Dataset**"
      ],
      "metadata": {
        "id": "UbqyEn7MyZZ0"
      }
    },
    {
      "cell_type": "code",
      "source": [
        "loss, accuracy = model.evaluate(X_test,  Y_test, verbose=0)\n",
        "print(\"Value of loss (cost) function:\", loss)\n",
        "print(\"Accuracy on test dataset:\", accuracy*100, \"%\")"
      ],
      "metadata": {
        "colab": {
          "base_uri": "https://localhost:8080/"
        },
        "id": "-5Y6u9lblvMT",
        "outputId": "f6de2981-d708-45c3-96d3-03db1481bbed"
      },
      "execution_count": 20,
      "outputs": [
        {
          "output_type": "stream",
          "name": "stdout",
          "text": [
            "Value of loss (cost) function: 0.08755812048912048\n",
            "Accuracy on test dataset: 97.93000221252441 %\n"
          ]
        }
      ]
    },
    {
      "cell_type": "markdown",
      "source": [
        "# **9. Loss, accuracy.....blah, blah, blah.....not too visual, eh? See the neural network in action:** 😏\n",
        "\n"
      ],
      "metadata": {
        "id": "tJ7piB7vpyXH"
      }
    },
    {
      "cell_type": "markdown",
      "source": [
        "[Softmax function](https://deepai.org/machine-learning-glossary-and-terms/softmax-layer) turns the output of the last linear layer of a multi-class classification neural network into probabilities by take the exponents of each output and then normalize each number by the sum of those exponents so the entire output vector adds up to one — all probabilities should add up to one.\n",
        "\n",
        "To implement that here, we shall add another layer of neurons (nodes) to our model."
      ],
      "metadata": {
        "id": "xG1QUz7fq6ZH"
      }
    },
    {
      "cell_type": "code",
      "source": [
        "probability_model = tf.keras.Sequential([model, tf.keras.layers.Softmax()])"
      ],
      "metadata": {
        "id": "p54NY6Yinl_F"
      },
      "execution_count": 21,
      "outputs": []
    },
    {
      "cell_type": "code",
      "source": [
        "predictions = probability_model.predict(X_test)"
      ],
      "metadata": {
        "id": "GAi6nO0zrflS"
      },
      "execution_count": 22,
      "outputs": []
    },
    {
      "cell_type": "markdown",
      "source": [
        "***NOTE:*** The graph will be blue when the neural network predicts correctly, and red when it doesn't."
      ],
      "metadata": {
        "id": "lRPz4nR8zWVn"
      }
    },
    {
      "cell_type": "code",
      "source": [
        "test_cases = [10,104]                   # Put the index of image, whose prediction you want to see. There are about 10000 ;)\n",
        "plt.figure(figsize=(6,6))\n",
        "\n",
        "for i in range(2):\n",
        "  # Displaying the image of the digit\n",
        "  plt.subplot(2,2,2*i+1)\n",
        "  plt.xticks([])\n",
        "  plt.yticks([])\n",
        "  plt.imshow(X_test[test_cases[i]], cmap=plt.cm.binary)\n",
        "\n",
        "  # Plotting the prediction made by the neural network\n",
        "  plt.subplot(2,2,2*i+2)\n",
        "  plt.xticks(range(10))\n",
        "  plt.yticks([])\n",
        "\n",
        "  if (np.argmax(predictions[test_cases[i]]) == Y_test[test_cases[i]]): \n",
        "    color=\"blue\" \n",
        "  else: \n",
        "    color = \"red\"\n",
        "\n",
        "  plt.bar(range(10), predictions[test_cases[i]], color = color)\n",
        "\n",
        "plt.show()\n"
      ],
      "metadata": {
        "colab": {
          "base_uri": "https://localhost:8080/",
          "height": 374
        },
        "id": "iBw_sSSPrk0G",
        "outputId": "259e1067-8854-46e4-bd40-d23478edd3dd"
      },
      "execution_count": 38,
      "outputs": [
        {
          "output_type": "display_data",
          "data": {
            "text/plain": [
              "<Figure size 432x432 with 4 Axes>"
            ],
            "image/png": "[encoded data removed]"
          },
          "metadata": {
            "needs_background": "light"
          }
        }
      ]
    },
    {
      "cell_type": "markdown",
      "source": [
        "**Oops!!! To err is human ..... or computer ...whatever.**"
      ],
      "metadata": {
        "id": "uOZq3SPVxw1W"
      }
    },
    {
      "cell_type": "code",
      "source": [
        "# To find the test case where the neural network messes up\n",
        "for i in range(10000):\n",
        "  if (np.argmax(predictions[i]) != Y_test[i]):\n",
        "    print(i)\n",
        "    break\n"
      ],
      "metadata": {
        "colab": {
          "base_uri": "https://localhost:8080/"
        },
        "id": "7aSyoGuYthC8",
        "outputId": "12d4f295-6ad2-4490-fed0-45cc9c263401"
      },
      "execution_count": 32,
      "outputs": [
        {
          "output_type": "stream",
          "name": "stdout",
          "text": [
            "104\n"
          ]
        }
      ]
    }
  ]
}
