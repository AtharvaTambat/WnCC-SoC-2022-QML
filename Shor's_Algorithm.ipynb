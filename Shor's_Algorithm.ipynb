{
  "nbformat": 4,
  "nbformat_minor": 0,
  "metadata": {
    "colab": {
      "name": "Shor's Algorithm.ipynb",
      "provenance": [],
      "collapsed_sections": [],
      "authorship_tag": "ABX9TyOx0xSm6KenwrZwVselDBp8",
      "include_colab_link": true
    },
    "kernelspec": {
      "name": "python3",
      "display_name": "Python 3"
    },
    "language_info": {
      "name": "python"
    }
  },
  "cells": [
    {
      "cell_type": "markdown",
      "metadata": {
        "id": "view-in-github",
        "colab_type": "text"
      },
      "source": [
        "<a href=\"https://colab.research.google.com/github/AtharvaTambat/WnCC-SoC-2022-QML/blob/main/Shor's_Algorithm.ipynb\" target=\"_parent\"><img src=\"https://colab.research.google.com/assets/colab-badge.svg\" alt=\"Open In Colab\"/></a>"
      ]
    },
    {
      "cell_type": "markdown",
      "source": [
        "# **Shor's Algorithm**\n",
        "\n"
      ],
      "metadata": {
        "id": "KpvIiHKVGHRE"
      }
    },
    {
      "cell_type": "markdown",
      "source": [
        "## **1. Importing necessary Libraries**"
      ],
      "metadata": {
        "id": "KRqBvJICFDu9"
      }
    },
    {
      "cell_type": "code",
      "source": [
        "import math\n",
        "import numpy as np\n",
        "from qiskit import QuantumCircuit, transpile\n",
        "from qiskit.providers.aer import AerSimulator\n",
        "from qiskit.visualization import plot_histogram\n",
        "from fractions import Fraction\n",
        "from tabulate import tabulate\n",
        "from statistics import mode\n",
        "from numpy import random\n",
        "\n",
        "\n",
        "# Use Aer's qasm_simulator\n",
        "simulator = AerSimulator()"
      ],
      "metadata": {
        "id": "Eb5u2V1ilj85"
      },
      "execution_count": 4,
      "outputs": []
    },
    {
      "cell_type": "markdown",
      "source": [
        "## **2. Running some checks before running the period-finding algorithm**"
      ],
      "metadata": {
        "id": "oJW5kiNUFVvG"
      }
    },
    {
      "cell_type": "code",
      "source": [
        "def gcd(m,n):\n",
        "    if m< n:\n",
        "        (m,n) = (n,m)\n",
        "    if(m%n) == 0:\n",
        "        return n\n",
        "    else:\n",
        "        return (gcd(n, m % n)) \n",
        "\n",
        "N = 15 # Number to be factorized\n",
        "a = 0 # Number ransomly chosen from the range [0,N) for Shor's algorithm \n",
        "\n",
        "# Pre-processing required before running period finding algorithm \n",
        "if (N%2==0):\n",
        "  print(\"The factors of %i are %i and %i\" % (N,2,N/2))\n",
        "else:\n",
        "  a = random.choice(range(1,N)) # randomly choosing a in [0, N-1) such that gcd(a,N) = 1\n",
        "\n",
        "if gcd(a,N)>1:\n",
        "  print(\"The factors of %i are %i and %i\" % (N,a,N/a))\n",
        "\n",
        "print(\"The value of a is:\", a)"
      ],
      "metadata": {
        "colab": {
          "base_uri": "https://localhost:8080/"
        },
        "id": "gErqRkZnAfBO",
        "outputId": "e3241dc8-4494-400d-c9bb-3ba0b6ff03ea"
      },
      "execution_count": 13,
      "outputs": [
        {
          "output_type": "stream",
          "name": "stdout",
          "text": [
            "The value of a is: 7\n"
          ]
        }
      ]
    },
    {
      "cell_type": "markdown",
      "source": [
        "## **3. The period finding algorithm**\n",
        "\n",
        "### **3.1 The circuit**"
      ],
      "metadata": {
        "id": "2u_fA5dDFglV"
      }
    },
    {
      "cell_type": "code",
      "source": [
        "# Implementing the transformation |y> -----> |(a^j)y mod N> for N = 15, for initial value of y = 1\n",
        "def axmod15(a, power):\n",
        "    if a not in [2,4,7,8,11,13]:\n",
        "        raise ValueError(\"'a' must be 2,4,7,8,11 or 13\")\n",
        "    U = QuantumCircuit(4)        \n",
        "    for iteration in range(power):\n",
        "        if a in [2,13]:\n",
        "            U.swap(0,1)\n",
        "            U.swap(1,2)\n",
        "            U.swap(2,3)\n",
        "        if a in [7,8]:\n",
        "            U.swap(2,3)\n",
        "            U.swap(1,2)\n",
        "            U.swap(0,1)\n",
        "        if a in [4, 11]:\n",
        "            U.swap(1,3)\n",
        "            U.swap(0,2)\n",
        "        if a in [7,11,13]:\n",
        "            for q in range(4):\n",
        "                U.x(q)\n",
        "    U = U.to_gate()\n",
        "    U.name = \"%i^%i mod 15\" % (a, power)\n",
        "    c_U = U.control()\n",
        "    return c_U\n",
        "\n",
        "# Function for computing Inverse Quantum Fourier Transform for first n qubits\n",
        "def inverse_qft(n):\n",
        "  U = QuantumCircuit(10)\n",
        "\n",
        "  for i in range(int(n/2)):\n",
        "    U.swap(i,n-i-1)\n",
        "\n",
        "  for i in range(n):\n",
        "    for j in range(0,i):\n",
        "     # U.cp(-math.pi/(2**(i-j)),n-1-j,n-i-1)\n",
        "   # U.h(n-i-1) \n",
        "       U.cp(-math.pi/(2**(i-j)),j,i)\n",
        "    U.h(i)  \n",
        "\n",
        "  U = U.to_gate()\n",
        "  U.name = \"QFT_dagger\"\n",
        "  return U\n",
        "\n",
        "\n",
        "# Since implementation of Shor's algorithm for an L bit number requires at least 2L + 1 qubits in 1st Register and 4 bits in the second register\n",
        "t = 10\n",
        "qc = QuantumCircuit(t + 4, t)\n",
        "\n",
        "for i in range (10):\n",
        "  qc.h(i)\n",
        "\n",
        "qc.x(13) # To initialize the 2nd Register to the state |1>\n",
        "\n",
        "qc.barrier()\n",
        "\n",
        "# Adding the controlled U (|y> -----> |(a^j)y mod N>) gates \n",
        "\n",
        "for q in range(10):\n",
        "    qc.append(axmod15(a, 2**q), [q] +[j + 10 for j in range(4)])\n",
        "qc.barrier()\n",
        "\n",
        "qc.append(inverse_qft(10),range(10))\n",
        "\n",
        "qc.barrier()\n",
        "\n",
        "qc.measure(range(10),range(10))\n",
        "\n",
        "\n",
        "qc.draw(fold = -1)"
      ],
      "metadata": {
        "id": "c_6PpyGXmjgD",
        "colab": {
          "base_uri": "https://localhost:8080/",
          "height": 514
        },
        "outputId": "f6aa7fc2-fbff-4e45-8b3c-95d6b9a8afc4"
      },
      "execution_count": 14,
      "outputs": [
        {
          "output_type": "execute_result",
          "data": {
            "text/plain": [
              "      ┌───┐ ░                                                                                                                                                                 ░ ┌─────────────┐ ░ ┌─┐                           \n",
              " q_0: ┤ H ├─░────────■────────────────────────────────────────────────────────────────────────────────────────────────────────────────────────────────────────────────────────░─┤0            ├─░─┤M├───────────────────────────\n",
              "      ├───┤ ░        │                                                                                                                                                        ░ │             │ ░ └╥┘┌─┐                        \n",
              " q_1: ┤ H ├─░────────┼──────────────■─────────────────────────────────────────────────────────────────────────────────────────────────────────────────────────────────────────░─┤1            ├─░──╫─┤M├────────────────────────\n",
              "      ├───┤ ░        │              │                                                                                                                                         ░ │             │ ░  ║ └╥┘┌─┐                     \n",
              " q_2: ┤ H ├─░────────┼──────────────┼──────────────■──────────────────────────────────────────────────────────────────────────────────────────────────────────────────────────░─┤2            ├─░──╫──╫─┤M├─────────────────────\n",
              "      ├───┤ ░        │              │              │                                                                                                                          ░ │             │ ░  ║  ║ └╥┘┌─┐                  \n",
              " q_3: ┤ H ├─░────────┼──────────────┼──────────────┼──────────────■───────────────────────────────────────────────────────────────────────────────────────────────────────────░─┤3            ├─░──╫──╫──╫─┤M├──────────────────\n",
              "      ├───┤ ░        │              │              │              │                                                                                                           ░ │             │ ░  ║  ║  ║ └╥┘┌─┐               \n",
              " q_4: ┤ H ├─░────────┼──────────────┼──────────────┼──────────────┼──────────────■────────────────────────────────────────────────────────────────────────────────────────────░─┤4            ├─░──╫──╫──╫──╫─┤M├───────────────\n",
              "      ├───┤ ░        │              │              │              │              │                                                                                            ░ │  QFT_dagger │ ░  ║  ║  ║  ║ └╥┘┌─┐            \n",
              " q_5: ┤ H ├─░────────┼──────────────┼──────────────┼──────────────┼──────────────┼───────────────■────────────────────────────────────────────────────────────────────────────░─┤5            ├─░──╫──╫──╫──╫──╫─┤M├────────────\n",
              "      ├───┤ ░        │              │              │              │              │               │                                                                            ░ │             │ ░  ║  ║  ║  ║  ║ └╥┘┌─┐         \n",
              " q_6: ┤ H ├─░────────┼──────────────┼──────────────┼──────────────┼──────────────┼───────────────┼───────────────■────────────────────────────────────────────────────────────░─┤6            ├─░──╫──╫──╫──╫──╫──╫─┤M├─────────\n",
              "      ├───┤ ░        │              │              │              │              │               │               │                                                            ░ │             │ ░  ║  ║  ║  ║  ║  ║ └╥┘┌─┐      \n",
              " q_7: ┤ H ├─░────────┼──────────────┼──────────────┼──────────────┼──────────────┼───────────────┼───────────────┼────────────────■───────────────────────────────────────────░─┤7            ├─░──╫──╫──╫──╫──╫──╫──╫─┤M├──────\n",
              "      ├───┤ ░        │              │              │              │              │               │               │                │                                           ░ │             │ ░  ║  ║  ║  ║  ║  ║  ║ └╥┘┌─┐   \n",
              " q_8: ┤ H ├─░────────┼──────────────┼──────────────┼──────────────┼──────────────┼───────────────┼───────────────┼────────────────┼────────────────■──────────────────────────░─┤8            ├─░──╫──╫──╫──╫──╫──╫──╫──╫─┤M├───\n",
              "      ├───┤ ░        │              │              │              │              │               │               │                │                │                          ░ │             │ ░  ║  ║  ║  ║  ║  ║  ║  ║ └╥┘┌─┐\n",
              " q_9: ┤ H ├─░────────┼──────────────┼──────────────┼──────────────┼──────────────┼───────────────┼───────────────┼────────────────┼────────────────┼────────────────■─────────░─┤9            ├─░──╫──╫──╫──╫──╫──╫──╫──╫──╫─┤M├\n",
              "      └───┘ ░ ┌──────┴──────┐┌──────┴──────┐┌──────┴──────┐┌──────┴──────┐┌──────┴───────┐┌──────┴───────┐┌──────┴───────┐┌───────┴───────┐┌───────┴───────┐┌───────┴───────┐ ░ └─────────────┘ ░  ║  ║  ║  ║  ║  ║  ║  ║  ║ └╥┘\n",
              "q_10: ──────░─┤0            ├┤0            ├┤0            ├┤0            ├┤0             ├┤0             ├┤0             ├┤0              ├┤0              ├┤0              ├─░─────────────────░──╫──╫──╫──╫──╫──╫──╫──╫──╫──╫─\n",
              "            ░ │             ││             ││             ││             ││              ││              ││              ││               ││               ││               │ ░                 ░  ║  ║  ║  ║  ║  ║  ║  ║  ║  ║ \n",
              "q_11: ──────░─┤1            ├┤1            ├┤1            ├┤1            ├┤1             ├┤1             ├┤1             ├┤1              ├┤1              ├┤1              ├─░─────────────────░──╫──╫──╫──╫──╫──╫──╫──╫──╫──╫─\n",
              "            ░ │  7^1 mod 15 ││  7^2 mod 15 ││  7^4 mod 15 ││  7^8 mod 15 ││  7^16 mod 15 ││  7^32 mod 15 ││  7^64 mod 15 ││  7^128 mod 15 ││  7^256 mod 15 ││  7^512 mod 15 │ ░                 ░  ║  ║  ║  ║  ║  ║  ║  ║  ║  ║ \n",
              "q_12: ──────░─┤2            ├┤2            ├┤2            ├┤2            ├┤2             ├┤2             ├┤2             ├┤2              ├┤2              ├┤2              ├─░─────────────────░──╫──╫──╫──╫──╫──╫──╫──╫──╫──╫─\n",
              "      ┌───┐ ░ │             ││             ││             ││             ││              ││              ││              ││               ││               ││               │ ░                 ░  ║  ║  ║  ║  ║  ║  ║  ║  ║  ║ \n",
              "q_13: ┤ X ├─░─┤3            ├┤3            ├┤3            ├┤3            ├┤3             ├┤3             ├┤3             ├┤3              ├┤3              ├┤3              ├─░─────────────────░──╫──╫──╫──╫──╫──╫──╫──╫──╫──╫─\n",
              "      └───┘ ░ └─────────────┘└─────────────┘└─────────────┘└─────────────┘└──────────────┘└──────────────┘└──────────────┘└───────────────┘└───────────────┘└───────────────┘ ░                 ░  ║  ║  ║  ║  ║  ║  ║  ║  ║  ║ \n",
              "c: 10/═════════════════════════════════════════════════════════════════════════════════════════════════════════════════════════════════════════════════════════════════════════════════════════════╩══╩══╩══╩══╩══╩══╩══╩══╩══╩═\n",
              "                                                                                                                                                                                                   0  1  2  3  4  5  6  7  8  9 "
            ],
            "text/html": [
              "<pre style=\"word-wrap: normal;white-space: pre;background: #fff0;line-height: 1.1;font-family: &quot;Courier New&quot;,Courier,monospace\">      ┌───┐ ░                                                                                                                                                                 ░ ┌─────────────┐ ░ ┌─┐                           \n",
              " q_0: ┤ H ├─░────────■────────────────────────────────────────────────────────────────────────────────────────────────────────────────────────────────────────────────────────░─┤0            ├─░─┤M├───────────────────────────\n",
              "      ├───┤ ░        │                                                                                                                                                        ░ │             │ ░ └╥┘┌─┐                        \n",
              " q_1: ┤ H ├─░────────┼──────────────■─────────────────────────────────────────────────────────────────────────────────────────────────────────────────────────────────────────░─┤1            ├─░──╫─┤M├────────────────────────\n",
              "      ├───┤ ░        │              │                                                                                                                                         ░ │             │ ░  ║ └╥┘┌─┐                     \n",
              " q_2: ┤ H ├─░────────┼──────────────┼──────────────■──────────────────────────────────────────────────────────────────────────────────────────────────────────────────────────░─┤2            ├─░──╫──╫─┤M├─────────────────────\n",
              "      ├───┤ ░        │              │              │                                                                                                                          ░ │             │ ░  ║  ║ └╥┘┌─┐                  \n",
              " q_3: ┤ H ├─░────────┼──────────────┼──────────────┼──────────────■───────────────────────────────────────────────────────────────────────────────────────────────────────────░─┤3            ├─░──╫──╫──╫─┤M├──────────────────\n",
              "      ├───┤ ░        │              │              │              │                                                                                                           ░ │             │ ░  ║  ║  ║ └╥┘┌─┐               \n",
              " q_4: ┤ H ├─░────────┼──────────────┼──────────────┼──────────────┼──────────────■────────────────────────────────────────────────────────────────────────────────────────────░─┤4            ├─░──╫──╫──╫──╫─┤M├───────────────\n",
              "      ├───┤ ░        │              │              │              │              │                                                                                            ░ │  QFT_dagger │ ░  ║  ║  ║  ║ └╥┘┌─┐            \n",
              " q_5: ┤ H ├─░────────┼──────────────┼──────────────┼──────────────┼──────────────┼───────────────■────────────────────────────────────────────────────────────────────────────░─┤5            ├─░──╫──╫──╫──╫──╫─┤M├────────────\n",
              "      ├───┤ ░        │              │              │              │              │               │                                                                            ░ │             │ ░  ║  ║  ║  ║  ║ └╥┘┌─┐         \n",
              " q_6: ┤ H ├─░────────┼──────────────┼──────────────┼──────────────┼──────────────┼───────────────┼───────────────■────────────────────────────────────────────────────────────░─┤6            ├─░──╫──╫──╫──╫──╫──╫─┤M├─────────\n",
              "      ├───┤ ░        │              │              │              │              │               │               │                                                            ░ │             │ ░  ║  ║  ║  ║  ║  ║ └╥┘┌─┐      \n",
              " q_7: ┤ H ├─░────────┼──────────────┼──────────────┼──────────────┼──────────────┼───────────────┼───────────────┼────────────────■───────────────────────────────────────────░─┤7            ├─░──╫──╫──╫──╫──╫──╫──╫─┤M├──────\n",
              "      ├───┤ ░        │              │              │              │              │               │               │                │                                           ░ │             │ ░  ║  ║  ║  ║  ║  ║  ║ └╥┘┌─┐   \n",
              " q_8: ┤ H ├─░────────┼──────────────┼──────────────┼──────────────┼──────────────┼───────────────┼───────────────┼────────────────┼────────────────■──────────────────────────░─┤8            ├─░──╫──╫──╫──╫──╫──╫──╫──╫─┤M├───\n",
              "      ├───┤ ░        │              │              │              │              │               │               │                │                │                          ░ │             │ ░  ║  ║  ║  ║  ║  ║  ║  ║ └╥┘┌─┐\n",
              " q_9: ┤ H ├─░────────┼──────────────┼──────────────┼──────────────┼──────────────┼───────────────┼───────────────┼────────────────┼────────────────┼────────────────■─────────░─┤9            ├─░──╫──╫──╫──╫──╫──╫──╫──╫──╫─┤M├\n",
              "      └───┘ ░ ┌──────┴──────┐┌──────┴──────┐┌──────┴──────┐┌──────┴──────┐┌──────┴───────┐┌──────┴───────┐┌──────┴───────┐┌───────┴───────┐┌───────┴───────┐┌───────┴───────┐ ░ └─────────────┘ ░  ║  ║  ║  ║  ║  ║  ║  ║  ║ └╥┘\n",
              "q_10: ──────░─┤0            ├┤0            ├┤0            ├┤0            ├┤0             ├┤0             ├┤0             ├┤0              ├┤0              ├┤0              ├─░─────────────────░──╫──╫──╫──╫──╫──╫──╫──╫──╫──╫─\n",
              "            ░ │             ││             ││             ││             ││              ││              ││              ││               ││               ││               │ ░                 ░  ║  ║  ║  ║  ║  ║  ║  ║  ║  ║ \n",
              "q_11: ──────░─┤1            ├┤1            ├┤1            ├┤1            ├┤1             ├┤1             ├┤1             ├┤1              ├┤1              ├┤1              ├─░─────────────────░──╫──╫──╫──╫──╫──╫──╫──╫──╫──╫─\n",
              "            ░ │  7^1 mod 15 ││  7^2 mod 15 ││  7^4 mod 15 ││  7^8 mod 15 ││  7^16 mod 15 ││  7^32 mod 15 ││  7^64 mod 15 ││  7^128 mod 15 ││  7^256 mod 15 ││  7^512 mod 15 │ ░                 ░  ║  ║  ║  ║  ║  ║  ║  ║  ║  ║ \n",
              "q_12: ──────░─┤2            ├┤2            ├┤2            ├┤2            ├┤2             ├┤2             ├┤2             ├┤2              ├┤2              ├┤2              ├─░─────────────────░──╫──╫──╫──╫──╫──╫──╫──╫──╫──╫─\n",
              "      ┌───┐ ░ │             ││             ││             ││             ││              ││              ││              ││               ││               ││               │ ░                 ░  ║  ║  ║  ║  ║  ║  ║  ║  ║  ║ \n",
              "q_13: ┤ X ├─░─┤3            ├┤3            ├┤3            ├┤3            ├┤3             ├┤3             ├┤3             ├┤3              ├┤3              ├┤3              ├─░─────────────────░──╫──╫──╫──╫──╫──╫──╫──╫──╫──╫─\n",
              "      └───┘ ░ └─────────────┘└─────────────┘└─────────────┘└─────────────┘└──────────────┘└──────────────┘└──────────────┘└───────────────┘└───────────────┘└───────────────┘ ░                 ░  ║  ║  ║  ║  ║  ║  ║  ║  ║  ║ \n",
              "c: 10/═════════════════════════════════════════════════════════════════════════════════════════════════════════════════════════════════════════════════════════════════════════════════════════════╩══╩══╩══╩══╩══╩══╩══╩══╩══╩═\n",
              "                                                                                                                                                                                                   0  1  2  3  4  5  6  7  8  9 </pre>"
            ]
          },
          "metadata": {},
          "execution_count": 14
        }
      ]
    },
    {
      "cell_type": "markdown",
      "source": [
        "### **3.2 Running the circuit**"
      ],
      "metadata": {
        "id": "hufTmSomFtGv"
      }
    },
    {
      "cell_type": "code",
      "source": [
        "# Compiling the circuit\n",
        "compiled_circuit = transpile(qc, simulator)\n",
        "\n",
        "# Execute the circuit on the qasm simulator\n",
        "job = simulator.run(compiled_circuit, shots=1024)\n",
        "\n",
        "# Grab results from the job\n",
        "result = job.result()\n",
        "\n",
        "# Returns counts\n",
        "counts = result.get_counts(qc)\n",
        "print(\"Total count for possible combinations of output are: \", counts)\n",
        "\n",
        "# Plot a histogram\n",
        "plot_histogram(counts)"
      ],
      "metadata": {
        "colab": {
          "base_uri": "https://localhost:8080/",
          "height": 414
        },
        "id": "ZDCCvD30VqTe",
        "outputId": "c7c799bf-a086-48a8-8d2a-7b97d42da9f4"
      },
      "execution_count": 15,
      "outputs": [
        {
          "output_type": "stream",
          "name": "stdout",
          "text": [
            "Total count for possible combinations of output are:  {'0000000000': 246, '1000000000': 252, '0100000000': 279, '1100000000': 247}\n"
          ]
        },
        {
          "output_type": "execute_result",
          "data": {
            "text/plain": [
              "<Figure size 504x360 with 1 Axes>"
            ],
            "image/png": "[encoded data removed]"
          },
          "metadata": {},
          "execution_count": 15
        }
      ]
    },
    {
      "cell_type": "markdown",
      "source": [
        "### **3.3 Guessing the denominator of the phase $\\frac{s}{r}$ obtained**"
      ],
      "metadata": {
        "id": "L6IOLknNFwS_"
      }
    },
    {
      "cell_type": "code",
      "source": [
        "output = list(counts.keys())\n",
        "\n",
        "# Function to convert t-bit binary number to decimal number\n",
        "def Bool_to_Int(b): # b - Binary number\n",
        "  num = 0\n",
        "  for i in range(t):\n",
        "    num = num + (2**i)*(b%10)\n",
        "    b = int(b/10)\n",
        "  return(num)\n",
        "\n",
        "# To tabulate all the possible values of reduced fractions s/r for possible outputs of the 1st register\n",
        "data = []\n",
        "r_values = []\n",
        "\n",
        "for i in output:\n",
        "  row = []\n",
        "  row.append(int(i))\n",
        "\n",
        "  num = Bool_to_Int(int(i)) # num stores the numerator of the fraction s/r\n",
        "  row.append(num)\n",
        "\n",
        "  frac = num/(2**t)\n",
        "  row.append(frac) # adds the decimal value of s/r\n",
        "\n",
        "  frac_reduced = Fraction(frac).limit_denominator(15)\n",
        "  row.append(f\"{frac_reduced.numerator}/{frac_reduced.denominator}\")\n",
        "\n",
        "  row.append(frac_reduced.denominator)\n",
        "  r_values.append(frac_reduced.denominator)\n",
        "\n",
        "  data.append(row)\n",
        "\n",
        "\n",
        "print (tabulate(data, headers=[\"Binary Output\", \"Decimal Equivalent\", \"Value of s/r\", \"Reduced fraction (s/r)\", \"Possible value of r\"]))"
      ],
      "metadata": {
        "colab": {
          "base_uri": "https://localhost:8080/"
        },
        "id": "brWWlW80oA7m",
        "outputId": "8e6550d3-2552-47a9-a4f0-56aa37ac7648"
      },
      "execution_count": 16,
      "outputs": [
        {
          "output_type": "stream",
          "name": "stdout",
          "text": [
            "  Binary Output    Decimal Equivalent    Value of s/r  Reduced fraction (s/r)      Possible value of r\n",
            "---------------  --------------------  --------------  ------------------------  ---------------------\n",
            "              0                     0            0     0/1                                           1\n",
            "     1000000000                   512            0.5   1/2                                           2\n",
            "      100000000                   256            0.25  1/4                                           4\n",
            "     1100000000                   768            0.75  3/4                                           4\n"
          ]
        }
      ]
    },
    {
      "cell_type": "markdown",
      "source": [
        "## **4. Classical Algorithm for finding the factors once the period of $f(x) = a^{x} (mod N)$ is obtained**"
      ],
      "metadata": {
        "id": "26SKKkEeGKts"
      }
    },
    {
      "cell_type": "code",
      "source": [
        "r = mode(r_values) # Extracts the value of r which is guessed the most number of times - which is hopefully.....the correct value of the period\n",
        "\n",
        "print(\"The period of the function %i^x (mod %i) is:\" % (a,N), r)\n",
        "\n",
        "# Shor's classical algorithm for factor finding\n",
        "if (r%2 == 0) & ((a**(r/2) +1)%N != 0):\n",
        "  num1 = gcd(int(a**(r/2) +1), N)\n",
        "  num2 = gcd(int(a**(r/2) -1), N)\n",
        "\n",
        "\n",
        "  if (N%num1 == 0):\n",
        "    print(\"The factors of\",N,\"are %i and %i\" % (num1, N/num1))\n",
        "  elif (N%num2 == 0):\n",
        "    print(\"The factors of\",N,\"are %i and %i\" % (num2, N/num2))\n",
        "  else:\n",
        "    print(\"Program failed to factorize %i, run again\" % (N))\n",
        "  \n",
        "else:\n",
        "  print(\"Program failed to factorize %i, run again\" % (N))\n",
        "\n"
      ],
      "metadata": {
        "colab": {
          "base_uri": "https://localhost:8080/"
        },
        "id": "RYZc6C0J1aay",
        "outputId": "d46e09df-154a-49ac-ee9d-5beb60e0ca33"
      },
      "execution_count": 17,
      "outputs": [
        {
          "output_type": "stream",
          "name": "stdout",
          "text": [
            "The period of the function 7^x (mod 15) is: 4\n",
            "The factors of 15 are 5 and 3\n"
          ]
        }
      ]
    }
  ]
}