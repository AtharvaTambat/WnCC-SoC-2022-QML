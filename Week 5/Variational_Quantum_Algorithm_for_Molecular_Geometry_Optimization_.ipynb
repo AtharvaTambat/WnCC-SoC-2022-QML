{
  "nbformat": 4,
  "nbformat_minor": 0,
  "metadata": {
    "colab": {
      "name": "Variational Quantum Algorithm for Molecular Geometry Optimization .ipynb",
      "provenance": [],
      "toc_visible": true,
      "authorship_tag": "ABX9TyPyCPWBAi0ERb/P9Fd4n5e2",
      "include_colab_link": true
    },
    "kernelspec": {
      "name": "python3",
      "display_name": "Python 3"
    },
    "language_info": {
      "name": "python"
    }
  },
  "cells": [
    {
      "cell_type": "markdown",
      "metadata": {
        "id": "view-in-github",
        "colab_type": "text"
      },
      "source": [
        "<a href=\"https://colab.research.google.com/github/AtharvaTambat/WnCC-SoC-2022-QML/blob/main/Variational_Quantum_Algorithm_for_Molecular_Geometry_Optimization_.ipynb\" target=\"_parent\"><img src=\"https://colab.research.google.com/assets/colab-badge.svg\" alt=\"Open In Colab\"/></a>"
      ]
    },
    {
      "cell_type": "markdown",
      "source": [
        "# **Introduction**\n",
        "Classical algorithms for predicting the equilibrium geometry of molecules require expensive wavefunction methods that become impractical after just a few molecules.They typically rely on the Newton-Raphson method requiring access to the nuclear gradients and the Hessian of the energy at each optimization step while searching for the global minimum along the potential energy surface. Instead, density functional theory methods are used to obtain approximated geometries.\n",
        "\n",
        "\n",
        "> Here, we introduce a variational quantum algorithm for finding the equilibrium molecular structure of $H_{3}^{+}$ by minimizing the expected (average) value of energy of the Hamiltonian\n",
        "\n"
      ],
      "metadata": {
        "id": "E26ySJgh1kpx"
      }
    },
    {
      "cell_type": "markdown",
      "source": [
        "# **The Algorithm In a Nutshell**\n",
        "\n",
        "1.   Build a parameterized Hamiltonian using [Jordan-Wigner transformation](https://en.wikipedia.org/wiki/Jordan%E2%80%93Wigner_transformation).\n",
        "2.   Build a trial ground state wavefunction using [Givens Rotation](https://pennylane.ai/qml/demos/tutorial_givens_rotations.html) on a Basis Set of qubits containing the parameters $\\theta_1$ and $\\theta_2$, with respect to which the hamiltonian has to be optimized. For example: \n",
        "\n",
        "> $\\vert\\Psi(\\theta_1, \\theta_2)\\rangle =\n",
        "\\mathrm{cos}(\\theta_1)\\mathrm{cos}(\\theta_2)\\vert110000\\rangle -\n",
        "\\mathrm{cos}(\\theta_1)\\mathrm{sin}(\\theta_2)\\vert000011\\rangle -\n",
        "\\mathrm{sin}(\\theta_1)\\vert001100\\rangle$\n",
        "\n",
        "3. Define a cost function $g(\\theta, x) = \\langle \\Psi(\\theta) \\vert H(x) \\vert\\Psi(\\theta) \\rangle$.\n",
        "\n",
        "4. Minimize the cost function jointly with respect to the nuclear coordinates $x$ (array of 3D coordinates of all the nuclei) and the parameters $\\theta_1$ and $\\theta_2$ of the wavefunction.\n",
        "\n",
        "\n",
        "\n",
        "\n"
      ],
      "metadata": {
        "id": "LhP4URkkHNDy"
      }
    },
    {
      "cell_type": "markdown",
      "source": [
        "# **Building a Parameterized Hamiltonian**\n",
        "\n",
        "1. We first describe the $H_{3}^{+}$ molecule by intializing a set of symbols representing the atom and an array of the initial coordinates of the atoms in 3D."
      ],
      "metadata": {
        "id": "cJ19pvw6MNTY"
      }
    },
    {
      "cell_type": "code",
      "source": [
        "from pennylane import numpy as np\n",
        "\n",
        "symbols = [\"H\", \"H\", \"H\"]\n",
        "x = np.array([0.028, 0.054, 0.0, 0.986, 1.610, 0.0, 1.855, 0.002, 0.0], requires_grad=True) "
      ],
      "metadata": {
        "id": "5zj2Ay6NJ3Kh"
      },
      "execution_count": 3,
      "outputs": []
    },
    {
      "cell_type": "markdown",
      "source": [
        "2. We then use the molecular_hamiltonian() function of to build the molecular hamiltonian of $H_{3}^{+}$ - inside the function H(x) that we have defined. \n",
        "\n",
        "> THEORY:\n",
        "\n",
        "\n",
        "\n"
      ],
      "metadata": {
        "id": "IkDgpgMIX7Xi"
      }
    },
    {
      "cell_type": "code",
      "source": [
        ""
      ],
      "metadata": {
        "id": "RLziABOsZij7"
      },
      "execution_count": null,
      "outputs": []
    }
  ]
}
