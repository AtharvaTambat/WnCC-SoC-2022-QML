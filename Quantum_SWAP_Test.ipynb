{
  "nbformat": 4,
  "nbformat_minor": 0,
  "metadata": {
    "colab": {
      "name": "Quantum SWAP Test.ipynb",
      "provenance": [],
      "collapsed_sections": [],
      "authorship_tag": "ABX9TyMNthosFghwkFUtJ3fuHxrN",
      "include_colab_link": true
    },
    "kernelspec": {
      "name": "python3",
      "display_name": "Python 3"
    },
    "language_info": {
      "name": "python"
    }
  },
  "cells": [
    {
      "cell_type": "markdown",
      "metadata": {
        "id": "view-in-github",
        "colab_type": "text"
      },
      "source": [
        "<a href=\"https://colab.research.google.com/github/AtharvaTambat/WnCC-SoC-2022-QML/blob/main/Quantum_SWAP_Test.ipynb\" target=\"_parent\"><img src=\"https://colab.research.google.com/assets/colab-badge.svg\" alt=\"Open In Colab\"/></a>"
      ]
    },
    {
      "cell_type": "markdown",
      "source": [
        "# **Quantum SWAP Test**"
      ],
      "metadata": {
        "id": "0TmwpSYAdr2P"
      }
    },
    {
      "cell_type": "code",
      "source": [
        "import math\n",
        "import numpy as np\n",
        "from qiskit import QuantumCircuit, transpile\n",
        "from qiskit.providers.aer import AerSimulator\n",
        "from qiskit.visualization import plot_histogram\n",
        "\n",
        "# Use Aer's qasm_simulator\n",
        "simulator = AerSimulator()"
      ],
      "metadata": {
        "id": "wEauquP5FAfG"
      },
      "execution_count": 15,
      "outputs": []
    },
    {
      "cell_type": "markdown",
      "source": [
        "## **1. Implementation of CSWAP Gate**\n",
        "\n",
        "The CSWAP operation is represented by the following matrix:\n",
        "\n",
        "$\n",
        "  U_{CSWAP} =\n",
        "  \\left[ {\\begin{array}{cc}\n",
        "    1 & 0 & 0 & 0 & 0 & 0 & 0 & 0  \\\\\n",
        "    0 & 1 & 0 & 0 & 0 & 0 & 0 & 0  \\\\\n",
        "    0 & 0 & 1 & 0 & 0 & 0 & 0 & 0  \\\\\n",
        "    0 & 0 & 0 & 1 & 0 & 0 & 0 & 0  \\\\\n",
        "    0 & 0 & 0 & 0 & 1 & 0 & 0 & 0  \\\\\n",
        "    0 & 0 & 0 & 0 & 0 & 0 & 1 & 0  \\\\\n",
        "    0 & 0 & 0 & 0 & 0 & 1 & 0 & 0  \\\\\n",
        "    0 & 0 & 0 & 0 & 0 & 0 & 0 & 1  \\\\\n",
        "  \\end{array} } \\right]\n",
        "$\n",
        "\n",
        "\n",
        "It can be implemented in qiskit, using toffoli gates, as shown below:\n",
        "\n",
        "---\n",
        "**NOTE:**\n",
        "\n",
        "1.   The CSWAP Gate is the one between the two barriers.\n",
        "2.   In the following demonstration, input to the CSWAP Gate is 101 (in the order q_2, q_1, q_0) and the output is 011 (in the same order of qubits) - as expected.\n"
      ],
      "metadata": {
        "id": "XFlC8tgvLvJb"
      }
    },
    {
      "cell_type": "code",
      "source": [
        "# To demonstrate the implementation of CSWAP gate using toffoli gates\n",
        "qc = QuantumCircuit(3,3)\n",
        "\n",
        "qc.x(0)            # Converts first quibit to 1\n",
        "qc.x(2)            # Converts third quibit to 1\n",
        "qc.barrier()\n",
        "\n",
        "# The input to the CSWAP gate in the case is 101 (q_2, q_1, q_0)\n",
        "# NOTE: The output is also in the same order: (q_2, q_1, q_0)\n",
        "\n",
        "# Toffoli gates\n",
        "qc.ccx(0,1,2)\n",
        "qc.ccx(0,2,1)\n",
        "qc.ccx(0,1,2)\n",
        "\n",
        "qc.barrier()\n",
        "qc.measure([0,1,2],[0,1,2])\n",
        "\n",
        "qc.draw()"
      ],
      "metadata": {
        "colab": {
          "base_uri": "https://localhost:8080/",
          "height": 156
        },
        "id": "a4rjdM-OQ0Z-",
        "outputId": "4f9573cb-c8bc-40b7-961f-37e89bdd4738"
      },
      "execution_count": 9,
      "outputs": [
        {
          "output_type": "execute_result",
          "data": {
            "text/plain": [
              "     ┌───┐ ░                 ░ ┌─┐      \n",
              "q_0: ┤ X ├─░───■────■────■───░─┤M├──────\n",
              "     └───┘ ░   │  ┌─┴─┐  │   ░ └╥┘┌─┐   \n",
              "q_1: ──────░───■──┤ X ├──■───░──╫─┤M├───\n",
              "     ┌───┐ ░ ┌─┴─┐└─┬─┘┌─┴─┐ ░  ║ └╥┘┌─┐\n",
              "q_2: ┤ X ├─░─┤ X ├──■──┤ X ├─░──╫──╫─┤M├\n",
              "     └───┘ ░ └───┘     └───┘ ░  ║  ║ └╥┘\n",
              "c: 3/═══════════════════════════╩══╩══╩═\n",
              "                                0  1  2 "
            ],
            "text/html": [
              "<pre style=\"word-wrap: normal;white-space: pre;background: #fff0;line-height: 1.1;font-family: &quot;Courier New&quot;,Courier,monospace\">     ┌───┐ ░                 ░ ┌─┐      \n",
              "q_0: ┤ X ├─░───■────■────■───░─┤M├──────\n",
              "     └───┘ ░   │  ┌─┴─┐  │   ░ └╥┘┌─┐   \n",
              "q_1: ──────░───■──┤ X ├──■───░──╫─┤M├───\n",
              "     ┌───┐ ░ ┌─┴─┐└─┬─┘┌─┴─┐ ░  ║ └╥┘┌─┐\n",
              "q_2: ┤ X ├─░─┤ X ├──■──┤ X ├─░──╫──╫─┤M├\n",
              "     └───┘ ░ └───┘     └───┘ ░  ║  ║ └╥┘\n",
              "c: 3/═══════════════════════════╩══╩══╩═\n",
              "                                0  1  2 </pre>"
            ]
          },
          "metadata": {},
          "execution_count": 9
        }
      ]
    },
    {
      "cell_type": "code",
      "source": [
        "# Compiling the circuit\n",
        "compiled_circuit = transpile(qc, simulator)\n",
        "\n",
        "# Execute the circuit on the qasm simulator\n",
        "job = simulator.run(compiled_circuit, shots=1024)\n",
        "\n",
        "# Grab results from the job\n",
        "result = job.result()\n",
        "\n",
        "# Returns counts\n",
        "counts = result.get_counts(qc)\n",
        "print(\"Total count for possible combinations of output are: \", counts)\n",
        "\n",
        "# Plot a histogram\n",
        "plot_histogram(counts)"
      ],
      "metadata": {
        "colab": {
          "base_uri": "https://localhost:8080/",
          "height": 356
        },
        "id": "uSmt0KQvTmeS",
        "outputId": "9048014f-8b99-465a-e701-9cf3bbc316e2"
      },
      "execution_count": 6,
      "outputs": [
        {
          "output_type": "stream",
          "name": "stdout",
          "text": [
            "Total count for possible combinations of output are:  {'011': 1024}\n"
          ]
        },
        {
          "output_type": "execute_result",
          "data": {
            "text/plain": [
              "<Figure size 504x360 with 1 Axes>"
            ],
            "image/png": "[encoded data removed]"
          },
          "metadata": {},
          "execution_count": 6
        }
      ]
    },
    {
      "cell_type": "markdown",
      "source": [
        "### **Circuit for estimating inner product of two states $ | \\phi \\rangle $ and $ | \\psi \\rangle $**\n",
        "![image.png](data:image/png;base64,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)\n"
      ],
      "metadata": {
        "id": "gGaY1D-DhFne"
      }
    },
    {
      "cell_type": "markdown",
      "source": [
        "## **2. Procedure for estimating the inner product**\n",
        "\n",
        "1. Initial state of the system is $ | 0 \\psi \\phi \\rangle $\n",
        "2. State of the system after Hadamard Gate is $\\frac{1}{\\sqrt{2}}( | 0 \\psi \\phi \\rangle + | 1 \\psi \\phi \\rangle) $\n",
        "3. State of the system after CSWAP Gate is $\\frac{1}{\\sqrt{2}}( | 0 \\psi \\phi \\rangle + | 1 \\phi \\psi \\rangle) $\n",
        "4. State after applying the second Hadamard gate is $\\frac{1}{2}(|0 \\phi \\psi\\rangle + |1 \\phi \\psi\\rangle + |0 \\psi \\phi\\rangle - |1 \\psi \\phi\\rangle) = \\frac{1}{2}|0\\rangle(|\\phi \\psi\\rangle + |\\psi \\phi\\rangle) + \\frac{1}{2}|1\\rangle(|\\phi \\psi\\rangle - |\\psi \\phi\\rangle) $\n",
        "5. The density operator of the system is $\\rho = \\left[\\frac{1}{2}|0\\rangle(|\\phi \\psi\\rangle + |\\psi \\phi\\rangle) + \\frac{1}{2}|1\\rangle(|\\phi \\psi\\rangle - |\\psi \\phi\\rangle)\\right]\\left[\\frac{1}{2}\\langle0|(\\langle\\phi \\psi| + \\langle\\psi \\phi|) + \\frac{1}{2}\\langle1|(\\langle\\phi \\psi| - \\langle\\psi \\phi|)\\right] $\n",
        "\n",
        "6. Let us divide the given state into two systems - \n",
        "\n",
        "*   System A - consisting of the ancilla qubit\n",
        "*   System B - consisting of the two states $ | \\psi \\rangle $ and $ |\\phi \\rangle $\n",
        "\n",
        "7. The reduced  density operator for the system A is $\\rho^{A} ≡ tr_{B}(\\rho)$ (where, $tr_{B}()$ is the partial trace with respect to system B, and is defined as $tr_{B}(|a_1 \\rangle \\langle a_2 | \\bigotimes |b_1 \\rangle \\langle b_2 |) \\equiv |a_1 \\rangle \\langle a_2 |tr(|b_1 \\rangle \\langle b_2|) = |a_1 \\rangle \\langle a_2 |(\\langle b_1 |b_2 \\rangle$))\n",
        "\n",
        "$\\implies \\ \\rho^{A} = \\left( \\frac{1}{2} + \\frac{\\langle \\psi | \\phi \\rangle^2}{2}\\right) | 0 \\rangle \\langle 0 | + \\left( \\frac{1}{2} - \\frac{\\langle \\psi | \\phi \\rangle^2}{2}\\right) | 1 \\rangle \\langle 1 | $ \n",
        "\n",
        "8. Since, for an ensemble $\\{p_i,\\psi_1\\}$ ($p_i$ - probability of the state $\\psi_i$), the density operator $\\rho$ is $\\Sigma_{i = 1}^{n}p_i|\\psi_1\\rangle \\langle \\psi_i|$\n",
        "\n",
        "$\\implies |\\langle \\psi|\\phi \\rangle| = \\sqrt{|P(|0\\rangle) - P(|1\\rangle)|}\n",
        "$\n",
        "\n",
        "where $P(|0\\rangle)$ is the probability of getting a $| 0 \\rangle$, similarly for $| 1 ⟩$\n",
        "\n",
        "---\n",
        "**NOTE:** The extra modulus sign(|.|) in the square root in the expression for $|\\langle \\psi|\\phi \\rangle|$ is to guard against experimental error, which can lead to $P(|0\\rangle) \\le P(|1\\rangle)$ "
      ],
      "metadata": {
        "id": "2wG1j4scgrvK"
      }
    },
    {
      "cell_type": "markdown",
      "source": [
        "## **3. Implementing the circuit**"
      ],
      "metadata": {
        "id": "bU1VIxSpNNlO"
      }
    },
    {
      "cell_type": "code",
      "source": [
        "# Create a Quantum Circuit acting on the q register\n",
        "circuit = QuantumCircuit(3, 1)\n",
        "\n",
        "# Adding required gates\n",
        "circuit.x(1)\n",
        "circuit.barrier()\n",
        "\n",
        "circuit.h(0)\n",
        "circuit.cswap(0,1,2)\n",
        "circuit.h(0)\n",
        "circuit.measure(0,0)\n",
        "\n",
        "# Draw the circuit\n",
        "circuit.draw()\n"
      ],
      "metadata": {
        "id": "eir00fJHF6nu",
        "colab": {
          "base_uri": "https://localhost:8080/",
          "height": 156
        },
        "outputId": "646f26ec-576b-4435-8219-0388c248c58e"
      },
      "execution_count": 13,
      "outputs": [
        {
          "output_type": "execute_result",
          "data": {
            "text/plain": [
              "           ░ ┌───┐   ┌───┐┌─┐\n",
              "q_0: ──────░─┤ H ├─■─┤ H ├┤M├\n",
              "     ┌───┐ ░ └───┘ │ └───┘└╥┘\n",
              "q_1: ┤ X ├─░───────X───────╫─\n",
              "     └───┘ ░       │       ║ \n",
              "q_2: ──────░───────X───────╫─\n",
              "           ░               ║ \n",
              "c: 1/══════════════════════╩═\n",
              "                           0 "
            ],
            "text/html": [
              "<pre style=\"word-wrap: normal;white-space: pre;background: #fff0;line-height: 1.1;font-family: &quot;Courier New&quot;,Courier,monospace\">           ░ ┌───┐   ┌───┐┌─┐\n",
              "q_0: ──────░─┤ H ├─■─┤ H ├┤M├\n",
              "     ┌───┐ ░ └───┘ │ └───┘└╥┘\n",
              "q_1: ┤ X ├─░───────X───────╫─\n",
              "     └───┘ ░       │       ║ \n",
              "q_2: ──────░───────X───────╫─\n",
              "           ░               ║ \n",
              "c: 1/══════════════════════╩═\n",
              "                           0 </pre>"
            ]
          },
          "metadata": {},
          "execution_count": 13
        }
      ]
    },
    {
      "cell_type": "code",
      "source": [
        "# Compiling the circuit\n",
        "compiled_circuit = transpile(circuit, simulator)\n",
        "\n",
        "# Execute the circuit on the qasm simulator\n",
        "job = simulator.run(compiled_circuit, shots=1024)\n",
        "\n",
        "# Grab results from the job\n",
        "result = job.result()\n",
        "\n",
        "# Returns counts\n",
        "counts = result.get_counts(circuit)\n",
        "print(\"Total count for |0> and |1> are:\",counts)\n",
        "\n",
        "# Plot a histogram\n",
        "plot_histogram(counts)"
      ],
      "metadata": {
        "colab": {
          "base_uri": "https://localhost:8080/",
          "height": 343
        },
        "id": "F0q2rtiaKpN-",
        "outputId": "e7608000-8e18-4417-8088-f6d646341a62"
      },
      "execution_count": 28,
      "outputs": [
        {
          "output_type": "stream",
          "name": "stdout",
          "text": [
            "Total count for |0> and |1> are: {'1': 516, '0': 508}\n"
          ]
        },
        {
          "output_type": "execute_result",
          "data": {
            "text/plain": [
              "<Figure size 504x360 with 1 Axes>"
            ],
            "image/png": "[encoded data removed]"
          },
          "metadata": {},
          "execution_count": 28
        }
      ]
    },
    {
      "cell_type": "code",
      "source": [
        "# Calculating the magnitude of inner product\n",
        "mag_inner = math.sqrt(abs(counts['0'] - counts['1'])/(counts['0'] + counts['1']))\n",
        "\n",
        "print(\"The magnitude of inner product (subject to some error due to running the circuit on a simulator, with finite number of trials) is:\", mag_inner)\n"
      ],
      "metadata": {
        "colab": {
          "base_uri": "https://localhost:8080/"
        },
        "id": "OosQD-CINAHL",
        "outputId": "b9e0de1c-4a61-4a3c-b846-6f35fa6df2e7"
      },
      "execution_count": 29,
      "outputs": [
        {
          "output_type": "stream",
          "name": "stdout",
          "text": [
            "The magnitude of inner product (subject to some error due to running the circuit on a simulator, with finite number of trials) is: 0.08838834764831845\n"
          ]
        }
      ]
    },
    {
      "cell_type": "markdown",
      "source": [
        "## **4. Implementing the circuit without an ancilla qubit**\n",
        "\n",
        "1. Suppose a 2-qubit quantum state is represented in Bell Basis as $a |\\beta_{00}\\rangle + b |\\beta_{01}\\rangle +c |\\beta_{10}\\rangle +d |\\beta_{11}\\rangle$, passing this 2-qubit quantum state throught the following circuit will convert it into $a |{00}\\rangle + b |{01}\\rangle +c |{10}\\rangle +d |{11}\\rangle$."
      ],
      "metadata": {
        "id": "UHzNduAnzk5_"
      }
    },
    {
      "cell_type": "code",
      "source": [
        "# Create a Quantum Circuit acting on the q register\n",
        "circuit2 = QuantumCircuit(2, 2)\n",
        "\n",
        "# Adding required gates\n",
        "circuit2.cnot(0,1)\n",
        "circuit2.h(0)\n",
        "circuit2.barrier()\n",
        "circuit2.measure([0,1],[0,1])\n",
        "\n",
        "# Draw the circuit\n",
        "circuit2.draw()\n"
      ],
      "metadata": {
        "colab": {
          "base_uri": "https://localhost:8080/",
          "height": 125
        },
        "id": "vnvJTyhfxsKP",
        "outputId": "ce26c544-c7ba-46d9-c809-e113a73099a3"
      },
      "execution_count": 26,
      "outputs": [
        {
          "output_type": "execute_result",
          "data": {
            "text/plain": [
              "          ┌───┐ ░ ┌─┐   \n",
              "q_0: ──■──┤ H ├─░─┤M├───\n",
              "     ┌─┴─┐└───┘ ░ └╥┘┌─┐\n",
              "q_1: ┤ X ├──────░──╫─┤M├\n",
              "     └───┘      ░  ║ └╥┘\n",
              "c: 2/══════════════╩══╩═\n",
              "                   0  1 "
            ],
            "text/html": [
              "<pre style=\"word-wrap: normal;white-space: pre;background: #fff0;line-height: 1.1;font-family: &quot;Courier New&quot;,Courier,monospace\">          ┌───┐ ░ ┌─┐   \n",
              "q_0: ──■──┤ H ├─░─┤M├───\n",
              "     ┌─┴─┐└───┘ ░ └╥┘┌─┐\n",
              "q_1: ┤ X ├──────░──╫─┤M├\n",
              "     └───┘      ░  ║ └╥┘\n",
              "c: 2/══════════════╩══╩═\n",
              "                   0  1 </pre>"
            ]
          },
          "metadata": {},
          "execution_count": 26
        }
      ]
    },
    {
      "cell_type": "code",
      "source": [
        "# Compiling the circuit\n",
        "compiled_circuit = transpile(circuit2, simulator)\n",
        "\n",
        "# Execute the circuit on the qasm simulator\n",
        "job = simulator.run(compiled_circuit, shots=1024)\n",
        "\n",
        "# Grab results from the job\n",
        "result = job.result()\n",
        "\n",
        "# Returns counts\n",
        "counts = result.get_counts(circuit2)\n",
        "print(\"Total count for possible states are:\",counts)\n",
        "\n",
        "# Plot a histogram\n",
        "plot_histogram(counts)"
      ],
      "metadata": {
        "colab": {
          "base_uri": "https://localhost:8080/",
          "height": 348
        },
        "id": "q06eflUz1row",
        "outputId": "24a1738d-1316-4ac2-8d76-12d2a27a6cf1"
      },
      "execution_count": 35,
      "outputs": [
        {
          "output_type": "stream",
          "name": "stdout",
          "text": [
            "Total count for possible states are: {'00': 501, '01': 523}\n"
          ]
        },
        {
          "output_type": "execute_result",
          "data": {
            "text/plain": [
              "<Figure size 504x360 with 1 Axes>"
            ],
            "image/png": "[encoded data removed]"
          },
          "metadata": {},
          "execution_count": 35
        }
      ]
    },
    {
      "cell_type": "markdown",
      "source": [
        "**NOTE:** The above experiment tells us that $a \\approx \\frac{1}{\\sqrt{2}}$ and $c \\approx \\frac{1}{\\sqrt{2}}$ and b = d = 0.\n",
        "\n",
        "$\\implies$ that the initial state ($a |\\beta_{00}\\rangle + b |\\beta_{01}\\rangle +c |\\beta_{10}\\rangle +d |\\beta_{11}\\rangle$) is $ \\frac{1}{\\sqrt{2}}|\\beta_{00}\\rangle + 0 |\\beta_{01}\\rangle +\\frac{1}{\\sqrt{2}} |\\beta_{10}\\rangle +0 |\\beta_{11}\\rangle$ = $|00\\rangle$, which is the initial input, we gave the circuit.\n",
        "\n",
        "This verifies the above claim."
      ],
      "metadata": {
        "id": "YaCMDn4K4QIv"
      }
    },
    {
      "cell_type": "markdown",
      "source": [
        "2. Let the 2 qubits $|\\psi\\rangle$ and $|\\phi\\rangle$ be $ (\\alpha |0\\rangle + \\beta |1\\rangle)$ and $ (\\gamma |0\\rangle + \\delta |1\\rangle)$ respectively\n",
        "3. The 2 qubit quantum state is $|\\psi \\phi\\rangle = \\alpha\\gamma |00\\rangle + \\alpha\\delta |01\\rangle+ \\beta\\gamma |10\\rangle+ \\beta\\delta |11\\rangle $\n",
        "4. Expressing the same in Bell basis: \n",
        "\n",
        "$\\left( \\frac{\\alpha\\gamma + \\beta\\delta}{\\sqrt{2}}\\right) |\\beta_{00}\\rangle$ + ....(ignoring the rest, because we only need the value of $\\alpha\\gamma + \\beta\\delta$)\n",
        "\n",
        "**Final Strategy:**\n",
        "\n",
        "We want the coeffecient of $|\\beta_{00}\\rangle$\n",
        "\n",
        "1. Pass the 2 qubits state into the above mentioned circuit.\n",
        "2. The coeffecient of $|\\beta_{00}\\rangle$ will appear as coeffecient of $|00\\rangle$\n",
        "3. Calculate the coeffecient of $|00\\rangle$, by experiment.\n",
        "4. By point 4 of the discussion before this, ($\\alpha\\gamma + \\beta\\delta$) =  $\\sqrt{2}$ X coeffecient of $|\\beta_{00}\\rangle$ \n",
        "\n",
        "and...the value of ($|\\alpha\\gamma + \\beta\\delta|$) = magnitude of required inner product ($|\\langle \\psi|\\phi \\rangle|$) "
      ],
      "metadata": {
        "id": "7JyUSP0M5UEJ"
      }
    },
    {
      "cell_type": "markdown",
      "source": [
        "### **Implementing the circuit**"
      ],
      "metadata": {
        "id": "Aga6rK3aMQGr"
      }
    },
    {
      "cell_type": "code",
      "source": [
        "# Create a Quantum Circuit acting on the q register\n",
        "circuit3 = QuantumCircuit(2, 2)\n",
        "\n",
        "# Adding required gates\n",
        "circuit3.x(0)\n",
        "circuit3.barrier()\n",
        "# Initial states of the |psi> and |phi> are |1> and |0> respectively\n",
        "\n",
        "circuit3.cnot(0,1)\n",
        "circuit3.h(0)\n",
        "circuit3.barrier()\n",
        "circuit3.measure([0,1],[0,1])\n",
        "\n",
        "# Draw the circuit\n",
        "circuit3.draw()"
      ],
      "metadata": {
        "colab": {
          "base_uri": "https://localhost:8080/",
          "height": 125
        },
        "id": "E6ENkXvy2--o",
        "outputId": "cadb6f86-20d5-4c19-94c1-60d56cb7cdac"
      },
      "execution_count": 36,
      "outputs": [
        {
          "output_type": "execute_result",
          "data": {
            "text/plain": [
              "     ┌───┐ ░      ┌───┐ ░ ┌─┐   \n",
              "q_0: ┤ X ├─░───■──┤ H ├─░─┤M├───\n",
              "     └───┘ ░ ┌─┴─┐└───┘ ░ └╥┘┌─┐\n",
              "q_1: ──────░─┤ X ├──────░──╫─┤M├\n",
              "           ░ └───┘      ░  ║ └╥┘\n",
              "c: 2/══════════════════════╩══╩═\n",
              "                           0  1 "
            ],
            "text/html": [
              "<pre style=\"word-wrap: normal;white-space: pre;background: #fff0;line-height: 1.1;font-family: &quot;Courier New&quot;,Courier,monospace\">     ┌───┐ ░      ┌───┐ ░ ┌─┐   \n",
              "q_0: ┤ X ├─░───■──┤ H ├─░─┤M├───\n",
              "     └───┘ ░ ┌─┴─┐└───┘ ░ └╥┘┌─┐\n",
              "q_1: ──────░─┤ X ├──────░──╫─┤M├\n",
              "           ░ └───┘      ░  ║ └╥┘\n",
              "c: 2/══════════════════════╩══╩═\n",
              "                           0  1 </pre>"
            ]
          },
          "metadata": {},
          "execution_count": 36
        }
      ]
    },
    {
      "cell_type": "code",
      "source": [
        "# Compiling the circuit\n",
        "compiled_circuit = transpile(circuit3, simulator)\n",
        "\n",
        "# Execute the circuit on the qasm simulator\n",
        "job = simulator.run(compiled_circuit, shots=1024)\n",
        "\n",
        "# Grab results from the job\n",
        "result = job.result()\n",
        "\n",
        "# Returns counts\n",
        "counts = result.get_counts(circuit3)\n",
        "print(\"Total count for possible states are:\",counts)\n",
        "\n",
        "# Plot a histogram\n",
        "plot_histogram(counts)"
      ],
      "metadata": {
        "colab": {
          "base_uri": "https://localhost:8080/",
          "height": 348
        },
        "id": "K04XCcJVMYMJ",
        "outputId": "08cbb387-46e3-43d9-c0b0-966a2008f769"
      },
      "execution_count": 37,
      "outputs": [
        {
          "output_type": "stream",
          "name": "stdout",
          "text": [
            "Total count for possible states are: {'10': 487, '11': 537}\n"
          ]
        },
        {
          "output_type": "execute_result",
          "data": {
            "text/plain": [
              "<Figure size 504x360 with 1 Axes>"
            ],
            "image/png": "[encoded data removed]"
          },
          "metadata": {},
          "execution_count": 37
        }
      ]
    },
    {
      "cell_type": "code",
      "source": [
        "states = ['00','01','10','11']\n",
        "\n",
        "for i in states:\n",
        "  if not(i in counts):\n",
        "    counts.update({i:0})\n",
        "\n",
        "# Calculate the magnitude of inner product by the above mentioned formula\n",
        "# coeffecient = sqrt(probability of that state occuring)\n",
        "\n",
        "mag_inner_2 = math.sqrt(2)*math.sqrt(counts['00']/(counts['00'] + counts['01'] + counts['10'] + counts['11']))\n",
        "\n",
        "print(\"Magnitude of the inner product is:\", mag_inner_2)"
      ],
      "metadata": {
        "colab": {
          "base_uri": "https://localhost:8080/"
        },
        "id": "uNLCTeE9OHaD",
        "outputId": "a2d5c405-8a71-45d0-f991-ece60311f025"
      },
      "execution_count": 42,
      "outputs": [
        {
          "output_type": "stream",
          "name": "stdout",
          "text": [
            "Magnitude of the inner product is: 0.0\n"
          ]
        }
      ]
    },
    {
      "cell_type": "markdown",
      "source": [
        "Which is the expected output, since the inner product of $|0\\rangle$ and $|1\\rangle$ is 0.0"
      ],
      "metadata": {
        "id": "2I5Zb-5sSCmN"
      }
    }
  ]
}