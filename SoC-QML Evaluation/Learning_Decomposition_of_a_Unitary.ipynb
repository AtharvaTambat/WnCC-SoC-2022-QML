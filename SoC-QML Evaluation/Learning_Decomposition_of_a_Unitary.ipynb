{
  "nbformat": 4,
  "nbformat_minor": 0,
  "metadata": {
    "colab": {
      "name": "Learning Decomposition of a Unitary.ipynb",
      "provenance": [],
      "collapsed_sections": [],
      "authorship_tag": "ABX9TyMZXN9S+uxKBkyvEtbvLBEL",
      "include_colab_link": true
    },
    "kernelspec": {
      "name": "python3",
      "display_name": "Python 3"
    },
    "language_info": {
      "name": "python"
    }
  },
  "cells": [
    {
      "cell_type": "markdown",
      "metadata": {
        "id": "view-in-github",
        "colab_type": "text"
      },
      "source": [
        "<a href=\"https://colab.research.google.com/github/AtharvaTambat/WnCC-SoC-2022-QML/blob/main/Learning_Decomposition_of_a_Unitary.ipynb\" target=\"_parent\"><img src=\"https://colab.research.google.com/assets/colab-badge.svg\" alt=\"Open In Colab\"/></a>"
      ]
    },
    {
      "cell_type": "markdown",
      "source": [
        "# **1. The Code for Learning of a Unitary Operator 💻**"
      ],
      "metadata": {
        "id": "CKqSTgL6t_sc"
      }
    },
    {
      "cell_type": "code",
      "execution_count": 102,
      "metadata": {
        "colab": {
          "base_uri": "https://localhost:8080/"
        },
        "id": "uNM3LGDLv4ZY",
        "outputId": "e66cefa9-d934-49c5-f77c-9282165e8bf8"
      },
      "outputs": [
        {
          "output_type": "stream",
          "name": "stdout",
          "text": [
            "Value of cost function with initial parameters (b, c, d): -0.5000999999988331 \n",
            "\n",
            "\n",
            "\n",
            "The circuit with initial parameters (b, c, d)\n",
            "0: ────────────────────────────────||─────||──H─╭●─╭●─╭●──H──||─┤  Probs\n",
            "1: ──RZ(0.00)──RY(0.00)──RZ(0.00)──||─────||────├●─├X─├●─────||─┤       \n",
            "2: ────────────────────────────────||──H──||────╰X─╰●─╰X─────||─┤       \n",
            "\n",
            "\n",
            "\n",
            "\n",
            "Step:  5    Cost: -0.889962635967772\n",
            "Step:  10    Cost: -0.9865519909960416\n",
            "Step:  15    Cost: -0.998533918627285\n",
            "Step:  20    Cost: -0.9998423209276331\n",
            "Step:  25    Cost: -0.9999830663372992\n",
            "Step:  30    Cost: -0.9999981817272026\n",
            "Step:  35    Cost: -0.9999998047640452\n",
            "Step:  40    Cost: -0.9999999790366939\n",
            "Step:  45    Cost: -0.9999999977490817\n",
            "Step:  50    Cost: -0.9999999997583093\n",
            "Step:  55    Cost: -0.9999999999740483\n",
            "Step:  60    Cost: -0.9999999999972131\n",
            "Step:  65    Cost: -0.9999999999997005\n",
            "Step:  70    Cost: -0.9999999999999672\n",
            "Step:  75    Cost: -0.999999999999996\n",
            "Step:  80    Cost: -0.9999999999999991\n",
            "Step:  85    Cost: -0.9999999999999993\n",
            "Step:  90    Cost: -0.9999999999999993\n",
            "Step:  95    Cost: -0.9999999999999993\n",
            "Step:  100    Cost: -0.9999999999999993\n",
            "\n",
            "\n",
            "\n",
            "The values of b, c, d after variational learning are 4.967637806044105e-14 , 1.5707963263511253 , 9.999999999999996e-05\n"
          ]
        }
      ],
      "source": [
        "import pennylane as qml\n",
        "from pennylane import numpy as np\n",
        "import matplotlib_inline\n",
        "import math\n",
        "\n",
        "# Initializing the device\n",
        "dev1 = qml.device(\"default.qubit\", wires=3)\n",
        "U_prime = [[np.cos(math.pi/4),np.sin(math.pi/4)],[np.sin(math.pi/4),-np.cos(math.pi/4)]] # The target operator that we are trying to optimize/ learn to\n",
        "\n",
        "# Let the Unitary gate which we have to learn be the Hadamard Gate\n",
        "# Since any single-qubit gate can be represented by R_z(b)R_y(c)R_z(d), where b,c,d are angles (radians)\n",
        "# NOTE: The global phase has been ignored\n",
        "\n",
        "# The Quantum Circuit\n",
        "@qml.qnode(dev1)\n",
        "def circuit(params):\n",
        "    \n",
        "    # The parameterized Unitary Operator which we are trying to optimize - decomposed into three rotations\n",
        "    qml.RZ(params[2], wires=1)\n",
        "    qml.RY(params[1], wires=1)\n",
        "    qml.RZ(params[0], wires=1)\n",
        "    qml.Barrier()\n",
        "\n",
        "    # Applying the H gate to the second qubit - which is the gate we have to learn our Unitary gate to\n",
        "    qml.Hadamard(2) \n",
        "    qml.Barrier()\n",
        "    \n",
        "    # Applying the QSWAP circuit which will estimate the inner product of our parameterized U operator and the \n",
        "    # final operator U' (in this case, the H-gate), we have to learn to\n",
        "    qml.Hadamard(0)\n",
        "    qml.Toffoli(wires =[0,1,2])\n",
        "    qml.Toffoli(wires =[0,2,1])\n",
        "    qml.Toffoli(wires =[0,1,2])\n",
        "    qml.Hadamard(0)\n",
        "    qml.Barrier()\n",
        "\n",
        "    return qml.probs(wires=[0])\n",
        "\n",
        "# Defining the cost function for Optimization\n",
        "def cost(x):\n",
        "    probability = circuit(x)\n",
        "    return -abs(probability[0]-probability[1])  # This is the cost function: -|<psi|phi>|^2 - where, |psi> = U|0> and, |phi> = U'|0>\n",
        "# NOTE: Refer to the QSWAP .ipynb file for more details on the inner product formula in terms of probabilities of obtaining |0> and |1>\n",
        "\n",
        "# Initializing the parameters\n",
        "init_params = np.array([0.0001, 0.0002, 0.0001], requires_grad=True) # Contains the values of parameters b, c, d - which are to be optimized\n",
        "print(\"Value of cost function with initial parameters (b, c, d):\",cost(init_params),\"\\n\\n\\n\")\n",
        "\n",
        "# Drawing the circuit for initial parameters\n",
        "print(\"The circuit with initial parameters (b, c, d)\")\n",
        "print(qml.draw(circuit)(init_params))\n",
        "print(\"\\n\\n\\n\")\n",
        "\n",
        "# Using Gradient Descent Algorithm \n",
        "opt = qml.GradientDescentOptimizer(stepsize=0.4)\n",
        "\n",
        "# Set the number of steps\n",
        "steps = 100\n",
        "# Set the initial parameter values\n",
        "params = init_params\n",
        "\n",
        "for i in range(steps):\n",
        "    # update the circuit parameters\n",
        "    params = opt.step(cost, params)\n",
        "\n",
        "    if (i + 1) % 5 == 0:\n",
        "        print(\"Step: \",i+1,\"   Cost:\",cost(params))\n",
        "\n",
        "print(\"\\n\\n\\nThe values of b, c, d after variational learning are\", params[0],\",\",params[1],\",\",params[2])\n",
        "\n",
        "\n"
      ]
    },
    {
      "cell_type": "code",
      "source": [
        "# Extracting parameters into variables\n",
        "b = params[0]\n",
        "c = params[1]\n",
        "d = params[2]\n",
        "\n",
        "# Initializing the rotation matrices based on the optimized values of parameters b, c, d\n",
        "R_zb = [[complex(np.cos(b/2),-np.sin(b/2)),0],[0,complex(np.cos(b/2),np.sin(b/2))]]\n",
        "R_yc = [[np.cos(c/2),-np.sin(c/2)],[np.sin(c/2),np.cos(c/2)]]\n",
        "R_zd =[[complex(np.cos(d/2),-np.sin(d/2)),0],[0,complex(np.cos(d/2),np.sin(d/2))]]\n",
        "op =   [[0,0],[0,0]]\n",
        "\n",
        "# Calculating U = R_z(b)R_y(c)R_z(d), ignoring global phase\n",
        "op = np.dot(R_zb,np.dot(R_yc,R_zd))\n",
        "op2 = np.dot(op,[[1,0],[0,-1]]) # Second possibility of U\n",
        "\n",
        "print(\"The possible gates are:\\n\")\n",
        "for result in op:\n",
        "  print(result)\n",
        "\n",
        "print(\"\\n\")\n",
        "\n",
        "for result in op2:\n",
        "  print(result)\n"
      ],
      "metadata": {
        "colab": {
          "base_uri": "https://localhost:8080/"
        },
        "id": "KgcHoEv7kFvO",
        "outputId": "57806668-c016-4be5-e666-85b44634c837"
      },
      "execution_count": 103,
      "outputs": [
        {
          "output_type": "stream",
          "name": "stdout",
          "text": [
            "The possible gates are:\n",
            "\n",
            "[ 0.70710678-3.53553391e-05j -0.70710678-3.53553390e-05j]\n",
            "[0.70710678-3.53553390e-05j 0.70710678+3.53553391e-05j]\n",
            "\n",
            "\n",
            "[0.70710678-3.53553391e-05j 0.70710678+3.53553390e-05j]\n",
            "[ 0.70710678-3.53553390e-05j -0.70710678-3.53553391e-05j]\n"
          ]
        }
      ]
    },
    {
      "cell_type": "markdown",
      "source": [
        "**NOTE:** Second possibility arises because for U$|0\\rangle$, - U$|0\\rangle$ also gives the lowest cost function.\n",
        "\n",
        "1. U$|0\\rangle$ is the second column of the 2 X 2 matrix representing the Unitary operator (Similarly for U').\n",
        "2. Both U$|0\\rangle$ and -U$|0\\rangle$ give the same dot product with U'$|0\\rangle$ (where, U' is the Target Operator, we intend to optimize to).\n",
        "3. The cost function used in the above approach was -$\\langle\\psi|\\phi\\rangle^2$ (where $|\\psi\\rangle$ = U$|0\\rangle$, and, $|\\phi\\rangle$ = U'$|0\\rangle$)"
      ],
      "metadata": {
        "id": "-Xrk4SiXykYD"
      }
    },
    {
      "cell_type": "code",
      "source": [
        "# Calculate the error (= sum (a_{ij} - b_{ij})) in the two matrices obtained and the Target matrix\n",
        "op_col2 = np.dot(op,[[0],[1]])\n",
        "error1 = abs(op_col2[0] - U_prime[0][1]) + abs(op_col2[1] - U_prime[1][1]) \n",
        "\n",
        "op2_col2 = np.dot(op2,[[0],[1]])\n",
        "error2 = abs(op2_col2[0] - U_prime[0][1]) + abs(op2_col2[1] - U_prime[1][1]) \n",
        "\n",
        "# Print that matrix whih has less error\n",
        "if error1<error2:\n",
        "  for result in op:\n",
        "    print(result)\n",
        "  ans = op\n",
        "else:\n",
        "  for result in op2:\n",
        "    print(result)\n",
        "  ans = op2\n",
        "\n"
      ],
      "metadata": {
        "colab": {
          "base_uri": "https://localhost:8080/"
        },
        "id": "AE05Gpqkq2YL",
        "outputId": "0e0b6fc7-c307-418e-c8e7-912292c5fd87"
      },
      "execution_count": 107,
      "outputs": [
        {
          "output_type": "stream",
          "name": "stdout",
          "text": [
            "[0.70710678-3.53553391e-05j 0.70710678+3.53553390e-05j]\n",
            "[ 0.70710678-3.53553390e-05j -0.70710678-3.53553391e-05j]\n"
          ]
        }
      ]
    },
    {
      "cell_type": "markdown",
      "source": [
        ".......which is pretty good approximation of the H-gate 😸"
      ],
      "metadata": {
        "id": "SPmqoZSLlzKx"
      }
    },
    {
      "cell_type": "markdown",
      "source": [
        "# **2. No. of Qubits Used**\n",
        "As can be seen from the above circuit, 3 qubits have been used"
      ],
      "metadata": {
        "id": "R9n3YakZ0cvz"
      }
    },
    {
      "cell_type": "markdown",
      "source": [
        "# **3. No. of Parameters to Learn**\n",
        "Clearly, we have to learn 3 parameters."
      ],
      "metadata": {
        "id": "QCg4_u750rFf"
      }
    },
    {
      "cell_type": "markdown",
      "source": [
        "# **4. The Loss (Cost) Function**\n",
        "The cost function used in the above approach was $-\\langle\\psi|\\phi\\rangle^2$ (where $|\\psi\\rangle$ = U$|0\\rangle$, and, $|\\phi\\rangle$ = U'$|0\\rangle$)."
      ],
      "metadata": {
        "id": "KuzEDx5m07c5"
      }
    },
    {
      "cell_type": "markdown",
      "source": [
        "# **5.a. Computed Matrix for the Operator**\n"
      ],
      "metadata": {
        "id": "hjjqOMp21GsW"
      }
    },
    {
      "cell_type": "code",
      "source": [
        "# Print that matrix whih has less error\n",
        "for result in ans:\n",
        "    print(result)"
      ],
      "metadata": {
        "colab": {
          "base_uri": "https://localhost:8080/"
        },
        "id": "mXelvmGR0o_D",
        "outputId": "160ef592-d3c0-4738-f249-6b32808819c3"
      },
      "execution_count": 109,
      "outputs": [
        {
          "output_type": "stream",
          "name": "stdout",
          "text": [
            "[0.70710678-3.53553391e-05j 0.70710678+3.53553390e-05j]\n",
            "[ 0.70710678-3.53553390e-05j -0.70710678-3.53553391e-05j]\n"
          ]
        }
      ]
    },
    {
      "cell_type": "markdown",
      "source": [
        "# **5.b. Value of the Distance between the Learning and the Target Unitary**"
      ],
      "metadata": {
        "id": "_bypflqY15u3"
      }
    },
    {
      "cell_type": "code",
      "source": [
        "sum = 0\n",
        "\n",
        "for i in range(2):\n",
        "  for j in range(2):\n",
        "    sum += (ans[i][j] - U_prime[i][j])*((ans[i][j] - U_prime[i][j]).conjugate())\n",
        "\n",
        "sum = math.sqrt(sum.real)\n",
        "print(\"The value of the Distance between the Learning and the Target Unitary is:\", sum)"
      ],
      "metadata": {
        "colab": {
          "base_uri": "https://localhost:8080/"
        },
        "id": "sJXp09_x1tkL",
        "outputId": "43bfa6e1-b865-469f-9c76-5b725e088cd3"
      },
      "execution_count": 119,
      "outputs": [
        {
          "output_type": "stream",
          "name": "stdout",
          "text": [
            "The value of the Distance between the Learning and the Target Unitary is: 7.07106781119853e-05\n"
          ]
        }
      ]
    }
  ]
}
