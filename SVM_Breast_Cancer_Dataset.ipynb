{
  "nbformat": 4,
  "nbformat_minor": 0,
  "metadata": {
    "colab": {
      "name": "SVM - Breast Cancer Dataset.ipynb",
      "provenance": [],
      "mount_file_id": "1hnX35GqYxY2k-6HJNr1W0NstOQP63ISY",
      "authorship_tag": "ABX9TyNsl07DWqEsXkk6pKT/azcW",
      "include_colab_link": true
    },
    "kernelspec": {
      "name": "python3",
      "display_name": "Python 3"
    },
    "language_info": {
      "name": "python"
    }
  },
  "cells": [
    {
      "cell_type": "markdown",
      "metadata": {
        "id": "view-in-github",
        "colab_type": "text"
      },
      "source": [
        "<a href=\"https://colab.research.google.com/github/AtharvaTambat/WnCC-SoC-2022-QML/blob/main/SVM_Breast_Cancer_Dataset.ipynb\" target=\"_parent\"><img src=\"https://colab.research.google.com/assets/colab-badge.svg\" alt=\"Open In Colab\"/></a>"
      ]
    },
    {
      "cell_type": "markdown",
      "source": [
        "# **1. Importing weather data from the .csv file to NumPy arrays**"
      ],
      "metadata": {
        "id": "ANy76aMnU_sp"
      }
    },
    {
      "cell_type": "code",
      "execution_count": 107,
      "metadata": {
        "id": "wz6h3IxfPEPg"
      },
      "outputs": [],
      "source": [
        "import pandas as pd\n",
        "import numpy as np\n",
        "\n",
        "df = pd.read_csv(\"/content/drive/MyDrive/Colab Notebooks/data.csv\")\n"
      ]
    },
    {
      "cell_type": "markdown",
      "source": [
        "# **2. Making random groups of parameters to see which set of parameters classifies breast cancer, the best**"
      ],
      "metadata": {
        "id": "VwBMKtxZVos6"
      }
    },
    {
      "cell_type": "markdown",
      "source": [
        "A simple way to choose a subset of the features, to perform SVM classification on, is:\n",
        " \n",
        "\n",
        "1. The 30 parameters/ features are randomly divided into 5 groups of 6 parameters each (to remove any bias in the order of groups). \n",
        "2. The groups are trained using (4/5)th of the dataset (training set) and scored using the next (1/5)th of the dataset (test set).\n",
        "\n",
        "3. The group with the highest score is chosen as the set of parameters, with respect to which future predictions will be done.\n",
        "\n",
        "\n",
        " \n",
        "\n",
        "\n",
        "\n",
        "\n"
      ],
      "metadata": {
        "id": "ss13dG8CWsbE"
      }
    },
    {
      "cell_type": "code",
      "source": [
        "# Store the labels of the parameters with respect to which classification is to be done\n",
        "parameters = df.columns\n",
        "parameters = parameters[2:32]\n",
        "\n",
        "# To store the indices of the columns, and to shuffle them to ensure random allotement \n",
        "# of columns into 5 groups of 6 parameters each \n",
        "label_parameters = np.array(range(0,30))\n",
        "np.random.shuffle(label_parameters)\n",
        "\n",
        "# Split the indices into 5 groups of 6 parameters in each group\n",
        "groups = np.split(label_parameters,range(0,30,6))[1:]"
      ],
      "metadata": {
        "id": "R3D7qTk6e235"
      },
      "execution_count": 108,
      "outputs": []
    },
    {
      "cell_type": "code",
      "source": [
        "# Print the sets of groups of parameters/ features\n",
        "for i in range(5):\n",
        "  print(\"Group\",(i+1),\": \")\n",
        "  for j in range(6):\n",
        "    print(parameters[groups[i][j]])\n",
        "  \n",
        "  print(\"\\n\")\n",
        "\n"
      ],
      "metadata": {
        "colab": {
          "base_uri": "https://localhost:8080/"
        },
        "id": "-wrajVHKZUOV",
        "outputId": "446a423a-b7b8-482d-acec-ad1258f7b666"
      },
      "execution_count": 109,
      "outputs": [
        {
          "output_type": "stream",
          "name": "stdout",
          "text": [
            "Group 1 : \n",
            "fractal_dimension_se\n",
            "concave points_worst\n",
            "smoothness_mean\n",
            "concavity_worst\n",
            "symmetry_mean\n",
            "concavity_se\n",
            "\n",
            "\n",
            "Group 2 : \n",
            "area_mean\n",
            "concave points_se\n",
            "smoothness_se\n",
            "texture_worst\n",
            "fractal_dimension_worst\n",
            "texture_mean\n",
            "\n",
            "\n",
            "Group 3 : \n",
            "symmetry_worst\n",
            "perimeter_se\n",
            "radius_mean\n",
            "radius_worst\n",
            "concavity_mean\n",
            "compactness_se\n",
            "\n",
            "\n",
            "Group 4 : \n",
            "smoothness_worst\n",
            "radius_se\n",
            "texture_se\n",
            "compactness_worst\n",
            "concave points_mean\n",
            "perimeter_worst\n",
            "\n",
            "\n",
            "Group 5 : \n",
            "perimeter_mean\n",
            "compactness_mean\n",
            "area_se\n",
            "area_worst\n",
            "fractal_dimension_mean\n",
            "symmetry_se\n",
            "\n",
            "\n"
          ]
        }
      ]
    },
    {
      "cell_type": "markdown",
      "source": [
        "# **3. Classifying the data using SVM and testing the classification using the test dataset**"
      ],
      "metadata": {
        "id": "mnn9DSM4aPlS"
      }
    },
    {
      "cell_type": "code",
      "source": [
        "from sklearn.pipeline import make_pipeline\n",
        "from sklearn.preprocessing import StandardScaler\n",
        "from sklearn.svm import SVC\n",
        "\n",
        "score = [0.0,0.0,0.0,0.0,0.0,0.0,0.0]\n",
        "clf_objects = []\n",
        "\n",
        "for i in range(5):\n",
        "  Y = np.array(df[\"diagnosis\"])\n",
        "  X = np.array(df.iloc[:,groups[i]+2])\n",
        "\n",
        "  # To extract first (4/5)th data as training dataset\n",
        "  X_train = X[0:int(len(Y)*4.0/5.0)]\n",
        "  Y_train = Y[0:int(len(Y)*4.0/5.0)]\n",
        "\n",
        "  # To extract next (1/5)th data as test dataset\n",
        "  X_test = X[int(len(Y)*4.0/5.0):]\n",
        "  Y_test = Y[int(len(Y)*4.0/5.0):]\n",
        "\n",
        "  # Train the SVM\n",
        "  clf = make_pipeline(StandardScaler(), SVC(gamma='auto'))\n",
        "  clf.fit(X_train, Y_train)\n",
        "  clf_objects = np.append(clf_objects,clf)\n",
        "\n",
        "\n",
        "  # To calculate how good the set of 6 parameters in the given iteration are,\n",
        "  # for identifying breast cancer \n",
        "  score[i] = clf.score(X_test, Y_test)\n",
        "\n",
        "  print(\"Score for Group no.\",i+1,\"is: \", score[i])"
      ],
      "metadata": {
        "colab": {
          "base_uri": "https://localhost:8080/"
        },
        "id": "V3kg1lkY7-7L",
        "outputId": "910aa25a-489d-479c-ee0b-19101f800666"
      },
      "execution_count": 110,
      "outputs": [
        {
          "output_type": "stream",
          "name": "stdout",
          "text": [
            "Score for Group no. 1 is:  0.9210526315789473\n",
            "Score for Group no. 2 is:  0.9298245614035088\n",
            "Score for Group no. 3 is:  0.9736842105263158\n",
            "Score for Group no. 4 is:  0.9122807017543859\n",
            "Score for Group no. 5 is:  0.9473684210526315\n"
          ]
        }
      ]
    },
    {
      "cell_type": "markdown",
      "source": [
        "# **4. To show the best set of parameters/ features for classifying the tumor**"
      ],
      "metadata": {
        "id": "VB98Hlgjaw3r"
      }
    },
    {
      "cell_type": "code",
      "source": [
        "print(\"The best set of parameters for classifying breast cancer is: \\n\")\n",
        "best = np.argmax(score)      # This is group index, not group no.\n",
        "\n",
        "for i in range(6):\n",
        "  print(parameters[groups[best]][i])"
      ],
      "metadata": {
        "colab": {
          "base_uri": "https://localhost:8080/"
        },
        "id": "F7FExsL0FbnS",
        "outputId": "0657c88a-c0a2-4e67-d954-acc5f0e00c4a"
      },
      "execution_count": 111,
      "outputs": [
        {
          "output_type": "stream",
          "name": "stdout",
          "text": [
            "The best set of parameters for classifying breast cancer is: \n",
            "\n",
            "symmetry_worst\n",
            "perimeter_se\n",
            "radius_mean\n",
            "radius_worst\n",
            "concavity_mean\n",
            "compactness_se\n"
          ]
        }
      ]
    },
    {
      "cell_type": "markdown",
      "source": [
        "# **5. Randomly selecting a test case and classifying it**"
      ],
      "metadata": {
        "id": "jlqr7bDAbQJ3"
      }
    },
    {
      "cell_type": "code",
      "source": [
        "i = np.random.randint(0, len(Y_test)) # Randomly select a testcase from the test dataset\n",
        "\n",
        "# Extract data of the best parameters for breast cancer classification\n",
        "Y = np.array(df[\"diagnosis\"])\n",
        "X = np.array(df.iloc[:,groups[best]+2])\n",
        "\n",
        "# To extract first (4/5)th data as training dataset\n",
        "X_train = X[0:int(len(Y)*4.0/5.0)]\n",
        "Y_train = Y[0:int(len(Y)*4.0/5.0)]\n",
        "\n",
        "# To extract next (1/5)th data as test dataset\n",
        "X_test = X[int(len(Y)*4.0/5.0):]\n",
        "Y_test = Y[int(len(Y)*4.0/5.0):]\n",
        "\n",
        "clf = make_pipeline(StandardScaler(), SVC(gamma='auto'))\n",
        "clf.fit(X_train, Y_train)\n",
        "\n",
        "prediction = clf.predict(X_test) # Selects the SVM with the highest score, and predicts the result of ith testcase \n",
        "\n",
        "print(\"Features:-\")\n",
        "for j in range(6):\n",
        "  print((j+1),\".\",parameters[groups[best]][j],\":\",X_test[i][j])\n",
        "print(\"\\n\")\n",
        "print(\"SVM Prediction:\", prediction[i])\n",
        "print(\"Actual result from test dataset:\", Y_test[i])\n",
        "\n",
        "\n"
      ],
      "metadata": {
        "colab": {
          "base_uri": "https://localhost:8080/"
        },
        "id": "XpVx5tGwNcqZ",
        "outputId": "dd7ad622-31e0-43b8-9e23-b1f2d59893a0"
      },
      "execution_count": 112,
      "outputs": [
        {
          "output_type": "stream",
          "name": "stdout",
          "text": [
            "Features:-\n",
            "1 . symmetry_worst : 0.2871\n",
            "2 . perimeter_se : 2.548\n",
            "3 . radius_mean : 7.76\n",
            "4 . radius_worst : 9.456\n",
            "5 . concavity_mean : 0.0\n",
            "6 . compactness_se : 0.00466\n",
            "\n",
            "\n",
            "SVM Prediction: B\n",
            "Actual result from test dataset: B\n"
          ]
        }
      ]
    }
  ]
}