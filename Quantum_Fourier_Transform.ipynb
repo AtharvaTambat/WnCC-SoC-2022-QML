{
  "nbformat": 4,
  "nbformat_minor": 0,
  "metadata": {
    "colab": {
      "name": "Quantum Fourier Transform.ipynb",
      "provenance": [],
      "authorship_tag": "ABX9TyODSsyys56JSqinvGuRXetL",
      "include_colab_link": true
    },
    "kernelspec": {
      "name": "python3",
      "display_name": "Python 3"
    },
    "language_info": {
      "name": "python"
    }
  },
  "cells": [
    {
      "cell_type": "markdown",
      "metadata": {
        "id": "view-in-github",
        "colab_type": "text"
      },
      "source": [
        "<a href=\"https://colab.research.google.com/github/AtharvaTambat/WnCC-SoC-2022-QML/blob/main/Quantum_Fourier_Transform.ipynb\" target=\"_parent\"><img src=\"https://colab.research.google.com/assets/colab-badge.svg\" alt=\"Open In Colab\"/></a>"
      ]
    },
    {
      "cell_type": "markdown",
      "source": [
        "# **1. Quantum Fourier Transform**\n"
      ],
      "metadata": {
        "id": "D_JY-xUFHW1d"
      }
    },
    {
      "cell_type": "code",
      "execution_count": 5,
      "metadata": {
        "id": "-4YnfMCFHQZm"
      },
      "outputs": [],
      "source": [
        "import math\n",
        "import numpy as np\n",
        "from qiskit import QuantumCircuit, transpile\n",
        "from qiskit.providers.aer import AerSimulator\n",
        "from qiskit.visualization import plot_histogram\n",
        "\n",
        "# Use Aer's qasm_simulator\n",
        "simulator = AerSimulator()"
      ]
    },
    {
      "cell_type": "code",
      "source": [
        "n = 5        # Enter the number of qubits of the initial state; n>=1\n",
        "\n",
        "# Circuit of n qubit Quantum Fourier Transform\n",
        "circuit = QuantumCircuit(n,0)\n",
        "\n",
        "circuit.barrier()\n",
        "\n",
        "for i in range(n):\n",
        "  circuit.h(i)\n",
        "  \n",
        "  for j in range(i+1,n):\n",
        "    circuit.cp(math.pi/(2**(j-i)),j,i)\n",
        "      \n",
        "  circuit.barrier()\n",
        "\n",
        "for i in range(int(n/2)):\n",
        "  circuit.swap(i,n-i-1)\n",
        "\n",
        "circuit.draw()\n",
        "\n",
        "\n"
      ],
      "metadata": {
        "colab": {
          "base_uri": "https://localhost:8080/",
          "height": 356
        },
        "id": "ecz4gKE4NQpS",
        "outputId": "39ce3ffe-35ce-41df-9465-cefd61ebc29e"
      },
      "execution_count": 70,
      "outputs": [
        {
          "output_type": "execute_result",
          "data": {
            "text/plain": [
              "      ░ ┌───┐                                      ░                        »\n",
              "q_0: ─░─┤ H ├─■────────■────────■────────■─────────░────────────────────────»\n",
              "      ░ └───┘ │P(π/2)  │        │        │         ░ ┌───┐                  »\n",
              "q_1: ─░───────■────────┼────────┼────────┼─────────░─┤ H ├─■────────■───────»\n",
              "      ░                │P(π/4)  │        │         ░ └───┘ │P(π/2)  │       »\n",
              "q_2: ─░────────────────■────────┼────────┼─────────░───────■────────┼───────»\n",
              "      ░                         │P(π/8)  │         ░                │P(π/4) »\n",
              "q_3: ─░─────────────────────────■────────┼─────────░────────────────■───────»\n",
              "      ░                                  │P(π/16)  ░                        »\n",
              "q_4: ─░──────────────────────────────────■─────────░────────────────────────»\n",
              "      ░                                            ░                        »\n",
              "«               ░                         ░                ░       ░       \n",
              "«q_0: ──────────░─────────────────────────░────────────────░───────░──X────\n",
              "«               ░                         ░                ░       ░  │    \n",
              "«q_1: ─■────────░─────────────────────────░────────────────░───────░──┼──X─\n",
              "«      │        ░ ┌───┐                   ░                ░       ░  │  │ \n",
              "«q_2: ─┼────────░─┤ H ├─■────────■────────░────────────────░───────░──┼──┼─\n",
              "«      │        ░ └───┘ │P(π/2)  │        ░ ┌───┐          ░       ░  │  │ \n",
              "«q_3: ─┼────────░───────■────────┼────────░─┤ H ├─■────────░───────░──┼──X─\n",
              "«      │P(π/8)  ░                │P(π/4)  ░ └───┘ │P(π/2)  ░ ┌───┐ ░  │    \n",
              "«q_4: ─■────────░────────────────■────────░───────■────────░─┤ H ├─░──X────\n",
              "«               ░                         ░                ░ └───┘ ░       "
            ],
            "text/html": [
              "<pre style=\"word-wrap: normal;white-space: pre;background: #fff0;line-height: 1.1;font-family: &quot;Courier New&quot;,Courier,monospace\">      ░ ┌───┐                                      ░                        »\n",
              "q_0: ─░─┤ H ├─■────────■────────■────────■─────────░────────────────────────»\n",
              "      ░ └───┘ │P(π/2)  │        │        │         ░ ┌───┐                  »\n",
              "q_1: ─░───────■────────┼────────┼────────┼─────────░─┤ H ├─■────────■───────»\n",
              "      ░                │P(π/4)  │        │         ░ └───┘ │P(π/2)  │       »\n",
              "q_2: ─░────────────────■────────┼────────┼─────────░───────■────────┼───────»\n",
              "      ░                         │P(π/8)  │         ░                │P(π/4) »\n",
              "q_3: ─░─────────────────────────■────────┼─────────░────────────────■───────»\n",
              "      ░                                  │P(π/16)  ░                        »\n",
              "q_4: ─░──────────────────────────────────■─────────░────────────────────────»\n",
              "      ░                                            ░                        »\n",
              "«               ░                         ░                ░       ░       \n",
              "«q_0: ──────────░─────────────────────────░────────────────░───────░──X────\n",
              "«               ░                         ░                ░       ░  │    \n",
              "«q_1: ─■────────░─────────────────────────░────────────────░───────░──┼──X─\n",
              "«      │        ░ ┌───┐                   ░                ░       ░  │  │ \n",
              "«q_2: ─┼────────░─┤ H ├─■────────■────────░────────────────░───────░──┼──┼─\n",
              "«      │        ░ └───┘ │P(π/2)  │        ░ ┌───┐          ░       ░  │  │ \n",
              "«q_3: ─┼────────░───────■────────┼────────░─┤ H ├─■────────░───────░──┼──X─\n",
              "«      │P(π/8)  ░                │P(π/4)  ░ └───┘ │P(π/2)  ░ ┌───┐ ░  │    \n",
              "«q_4: ─■────────░────────────────■────────░───────■────────░─┤ H ├─░──X────\n",
              "«               ░                         ░                ░ └───┘ ░       </pre>"
            ]
          },
          "metadata": {},
          "execution_count": 70
        }
      ]
    },
    {
      "cell_type": "code",
      "source": [
        ""
      ],
      "metadata": {
        "id": "IfwXkmlwzaNg"
      },
      "execution_count": null,
      "outputs": []
    }
  ]
}